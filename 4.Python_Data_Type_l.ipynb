{
 "cells": [
  {
   "cell_type": "markdown",
   "id": "1865f264-4ce1-4369-a57f-b1f20dfa0e21",
   "metadata": {},
   "source": [
    "## Python: Lists and Tuples"
   ]
  },
  {
   "cell_type": "markdown",
   "id": "32da2869-2f0b-45a6-be96-067a344a4313",
   "metadata": {},
   "source": [
    "- __Lists, tuples and strings are sequences__ (consecutive data) in Python Standard Libraries."
   ]
  },
  {
   "cell_type": "markdown",
   "id": "8cbf99f2-a7e6-400e-95e2-0f280091da66",
   "metadata": {},
   "source": [
    "- Arguments (elements) are consecutive and have __index starting from zero.__"
   ]
  },
  {
   "cell_type": "markdown",
   "id": "5d40bb7a-64dc-4f25-9f5f-d085ec96b9c6",
   "metadata": {},
   "source": [
    "__1.List: concept, indexing, and slicing__"
   ]
  },
  {
   "cell_type": "markdown",
   "id": "53d2ff8b-ed45-4fea-ac22-0ab18fd9f07b",
   "metadata": {},
   "source": [
    "- Lists __typically store homogeneous data__ in order."
   ]
  },
  {
   "cell_type": "markdown",
   "id": "e34a3f36-8e1e-4f63-9904-0315007a36d4",
   "metadata": {},
   "source": [
    "- However, they can store __heterogeneous data and mutable (modifiable)__"
   ]
  },
  {
   "cell_type": "markdown",
   "id": "e2cf798f-7f68-48ab-bc49-0f88f31974a6",
   "metadata": {},
   "source": [
    "- Lists are denoted by square bracket [], in which data items (elements) are put"
   ]
  },
  {
   "cell_type": "markdown",
   "id": "5875af48-7342-48fc-b202-4464c9e2b919",
   "metadata": {},
   "source": [
    "- A list's index for elements starts __form zero.__"
   ]
  },
  {
   "cell_type": "code",
   "execution_count": 3,
   "id": "c5c844e1-98c7-4844-b299-5331f24916a2",
   "metadata": {},
   "outputs": [
    {
     "name": "stdout",
     "output_type": "stream",
     "text": [
      "<class 'list'> [1, 2, 3, 4, 5, 6, 11, 'a', 'b']\n"
     ]
    }
   ],
   "source": [
    "list1 = [1, 2, 3,4,5, 6, 11, 'a', 'b']\n",
    "print(type(list1), list1)"
   ]
  },
  {
   "cell_type": "code",
   "execution_count": 6,
   "id": "f07660cf-0a53-47e0-9be2-7db3da7bee0d",
   "metadata": {},
   "outputs": [
    {
     "name": "stdout",
     "output_type": "stream",
     "text": [
      "2 a\n",
      "[3, 4, 5]\n",
      "[1, 2, 3, 4, 5, 6, 11]\n",
      "[5, 6, 11, 'a', 'b']\n",
      "b\n",
      "[6, 11, 'a', 'b']\n",
      "[4, 5, 6, 11, 'a', 'b']\n"
     ]
    }
   ],
   "source": [
    "print(list1[1], list1[7])\n",
    "print(list1[2:5])\n",
    "print(list1[:7])\n",
    "print(list1[4:])\n",
    "print(list1[-1])\n",
    "print(list1[-4:])\n",
    "print(list1[1+2:])  # index addition is possible"
   ]
  },
  {
   "cell_type": "code",
   "execution_count": 7,
   "id": "89ca9425-2eae-42ba-8426-f6f3747b46c5",
   "metadata": {},
   "outputs": [
    {
     "data": {
      "text/plain": [
       "9"
      ]
     },
     "execution_count": 7,
     "metadata": {},
     "output_type": "execute_result"
    }
   ],
   "source": [
    "len(list1)"
   ]
  },
  {
   "cell_type": "code",
   "execution_count": 11,
   "id": "ad733161-dd48-473a-a5c9-4ea84455c42e",
   "metadata": {},
   "outputs": [
    {
     "name": "stdout",
     "output_type": "stream",
     "text": [
      "[1, 2, 3, 4, 5, 6, 'c', 'a', 'b']\n"
     ]
    }
   ],
   "source": [
    "list1[6] = 'c'\n",
    "print(list1)\n",
    "#list1[9] 규격을 초과하기 때문에 에러 발생"
   ]
  },
  {
   "cell_type": "code",
   "execution_count": 13,
   "id": "2abb5be0-238f-49c2-a139-a9c3b401093a",
   "metadata": {},
   "outputs": [
    {
     "name": "stdout",
     "output_type": "stream",
     "text": [
      "[11, 12, 13]\n",
      "['P', 'y', 't', 'h', 'o', 'n', ' ', 'K', 'o', 'o', 'c'] 11\n",
      "['P', 'y', 't', 'h', 'o', 'n', ' ', 'K', 'o', 'o', 'c', 'M', 'O', 'O', 'C'] 15\n"
     ]
    }
   ],
   "source": [
    "list2 = []\n",
    "for item in range(11, 14, 1):\n",
    "    list2 += [item]\n",
    "    # or list2.append(item)도 사용 가능\n",
    "print(list2)\n",
    "\n",
    "list3 = []\n",
    "list3 += 'Python Kooc'\n",
    "print(list3, len(list3))\n",
    "\n",
    "list3 += ('M', 'O', 'O', 'C')\n",
    "print(list3, len(list3))"
   ]
  },
  {
   "cell_type": "code",
   "execution_count": 14,
   "id": "0762587a-bebd-4bc2-b190-e95d48eb2db4",
   "metadata": {},
   "outputs": [
    {
     "name": "stdout",
     "output_type": "stream",
     "text": [
      "[1, 2, 3, 4, 5, 6, 'c', 'a', 'b', 11, 12, 13]\n"
     ]
    }
   ],
   "source": [
    "list12 = list1 + list2\n",
    "print(list12)"
   ]
  },
  {
   "cell_type": "code",
   "execution_count": 15,
   "id": "debee679-6272-48e6-8c4e-66e018fc2659",
   "metadata": {},
   "outputs": [
    {
     "name": "stdout",
     "output_type": "stream",
     "text": [
      "(0, 1) (1, 2) (2, 3) (3, 4) (4, 5) (5, 6) (6, c) (7, a) (8, b) (9, 11) (10, 12) (11, 13) "
     ]
    }
   ],
   "source": [
    "for i in range(len(list12)):\n",
    "    print(f'({i}, {list12[i]})', end = ' ')"
   ]
  },
  {
   "cell_type": "markdown",
   "id": "92ee7496-f7a2-48f8-9e6a-26d8a0f7ae8c",
   "metadata": {},
   "source": [
    "__2.Tuples__"
   ]
  },
  {
   "cell_type": "markdown",
   "id": "20e09ac4-957e-4f2b-ad91-0cc4b96fda04",
   "metadata": {},
   "source": [
    "- __Immmutable__ and typically store __heterogeneous data.__"
   ]
  },
  {
   "cell_type": "markdown",
   "id": "7ed7207f-0d78-4c42-a18d-927dd15b784e",
   "metadata": {},
   "source": [
    "- So, __datasets__ are often stored as tuples."
   ]
  },
  {
   "cell_type": "markdown",
   "id": "2f2bb7c8-773c-4c8f-bff2-8431afdc10fa",
   "metadata": {},
   "source": [
    "- Tuples are denoted by __parenthesis (), in which data are put."
   ]
  },
  {
   "cell_type": "code",
   "execution_count": 18,
   "id": "c46cfd50-ad21-4c96-b722-31d58c30f66d",
   "metadata": {},
   "outputs": [
    {
     "name": "stdout",
     "output_type": "stream",
     "text": [
      "(10, 20, 30, 40, 50)\n"
     ]
    }
   ],
   "source": [
    "t1 = 10 ,20, 30\n",
    "t1 += (40, 50)\n",
    "print(t1)"
   ]
  },
  {
   "cell_type": "code",
   "execution_count": 19,
   "id": "39816019-9600-4d0e-b19d-ac8bb429e604",
   "metadata": {
    "jp-MarkdownHeadingCollapsed": true,
    "tags": []
   },
   "outputs": [
    {
     "name": "stdout",
     "output_type": "stream",
     "text": [
      "(1, 2, 3, 4)\n",
      "3\n",
      "(1, 2, 3)\n"
     ]
    }
   ],
   "source": [
    "t2 = tuple([1, 2, 3, 4])\n",
    "print(t2)\n",
    "print(t2[2])\n",
    "print(t2[:3])"
   ]
  },
  {
   "cell_type": "code",
   "execution_count": 21,
   "id": "bb55e6da-137d-4d9f-9d83-48667cf6dd46",
   "metadata": {},
   "outputs": [
    {
     "name": "stdout",
     "output_type": "stream",
     "text": [
      "('kim', 'park', 'kwon', [20, 50, 60]) 4 [20, 50, 60]\n",
      "('kim', 'park', 'kwon', [20, 85, 60])\n"
     ]
    }
   ],
   "source": [
    "t3 = 'kim', 'park', 'kwon', [20, 50, 60]\n",
    "print(t3, len(t3), t3[3]) \n",
    "t3[3][1] = 85 # list안에 있는 element를 뽑아내는 방법\n",
    "print(t3)"
   ]
  },
  {
   "cell_type": "markdown",
   "id": "b70ea620-1ff8-4652-ab37-774b64867f86",
   "metadata": {},
   "source": [
    "__3. Unpacking sequences: any sequence can be unpacked__"
   ]
  },
  {
   "cell_type": "code",
   "execution_count": 24,
   "id": "06535236-2f9a-406e-9dce-13cf8264f079",
   "metadata": {},
   "outputs": [
    {
     "name": "stdout",
     "output_type": "stream",
     "text": [
      "2\n",
      "('kim', 'park', 'kwon') [80, 34, 56] <class 'tuple'> <class 'list'>\n",
      "80 34 56\n",
      "W I F I\n"
     ]
    }
   ],
   "source": [
    "t4 = (('kim', 'park', 'kwon'), [80, 34, 56])\n",
    "print(len(t4))\n",
    "last_name, grades = t4\n",
    "print(last_name, grades, type(last_name), type(grades))\n",
    "\n",
    "grades1, grades2, grades3 = grades\n",
    "print(grades1, grades2, grades3)\n",
    "\n",
    "first, second, third, fourth = 'WIFI'\n",
    "print(first, second, third, fourth)"
   ]
  },
  {
   "cell_type": "markdown",
   "id": "c9960921-a1d0-436d-a4a2-109994d26ab5",
   "metadata": {},
   "source": [
    "__4. Enumerate: A built-in function__"
   ]
  },
  {
   "cell_type": "markdown",
   "id": "5e23393c-4a01-4eab-a47e-6557fa409b2e",
   "metadata": {},
   "source": [
    "- for creating a list or tuple with index and element value."
   ]
  },
  {
   "cell_type": "code",
   "execution_count": 27,
   "id": "ff9c511f-cd18-46f4-906f-9d9ca91ba487",
   "metadata": {},
   "outputs": [
    {
     "name": "stdout",
     "output_type": "stream",
     "text": [
      "[(0, 'red'), (1, 'yellow'), (2, 'blue'), (3, 'black'), (4, 'white')]\n",
      "[(0, 'red'), (1, 'yellow'), (2, 'blue'), (3, 'black'), (4, 'white')]\n",
      "0: red\n",
      "1: yellow\n",
      "2: blue\n",
      "3: black\n",
      "4: white\n"
     ]
    }
   ],
   "source": [
    "colors = ['red', 'yellow', 'blue', 'black', 'white']\n",
    "print(list(enumerate(colors)))\n",
    "print(list(enumerate(colors)))\n",
    "\n",
    "for index, color in enumerate(colors):\n",
    "    print(f'{index}: {color}')"
   ]
  },
  {
   "cell_type": "code",
   "execution_count": 28,
   "id": "6af5d006-b9ce-42e0-83ca-ce4bb5958f54",
   "metadata": {},
   "outputs": [
    {
     "name": "stdout",
     "output_type": "stream",
     "text": [
      "Creating a bar chart:\n",
      "Index   value   Bar\n",
      "    0      19   *******************\n",
      "    1       8   ********\n",
      "    2      15   ***************\n",
      "    3       2   **\n",
      "    4      14   **************\n"
     ]
    }
   ],
   "source": [
    "bar = [19, 8, 15, 2, 14]\n",
    "print('Creating a bar chart:')\n",
    "print(f'Index{\"value\":>8}   Bar')\n",
    "for index, value in enumerate(bar):\n",
    "    print(f'{index:>5}{value:>8}   {\"*\"*value}')"
   ]
  },
  {
   "cell_type": "markdown",
   "id": "68b6ab7f-977e-4097-b3f1-6a85a248672f",
   "metadata": {},
   "source": [
    "__5. Slicing with steps and modifying lists with slicing__"
   ]
  },
  {
   "cell_type": "code",
   "execution_count": 30,
   "id": "08f5fcd6-4ec4-4621-804a-a903d952a345",
   "metadata": {},
   "outputs": [
    {
     "name": "stdout",
     "output_type": "stream",
     "text": [
      "[1, 2, 3, 4, 5, 6, 'c', 'a', 'b', 11, 12, 13] 12\n",
      "[1, 2, 3, 4, 5, 6, 'c', 'a', 'b', 11, 12, 13]\n",
      "[1, 3, 5, 'c', 'b', 12]\n"
     ]
    }
   ],
   "source": [
    "print(list12, len(list12))\n",
    "print(list12[:])  #리스트 전체 카피와 같은 의미\n",
    "print(list12[::2]) #마지막 숫자 2는 2씩 증분 하라는 뜻"
   ]
  },
  {
   "cell_type": "code",
   "execution_count": 31,
   "id": "68baf186-9474-4462-a14c-d9d58b06c954",
   "metadata": {},
   "outputs": [
    {
     "name": "stdout",
     "output_type": "stream",
     "text": [
      "['one', 'two', 'three', 4, 5, 6, 'c', 'a', 'b', 11, 12, 13]\n",
      "[4, 5, 6, 'c', 'a', 'b', 11, 12, 13]\n"
     ]
    }
   ],
   "source": [
    "list12[0:3] = ['one', 'two', 'three']\n",
    "print(list12)\n",
    "list12[0:3] = []\n",
    "print(list12)"
   ]
  },
  {
   "cell_type": "markdown",
   "id": "65d71dc1-189a-4447-83a5-368c1ae29c91",
   "metadata": {},
   "source": [
    "__6. Deleting elements and lists__"
   ]
  },
  {
   "cell_type": "code",
   "execution_count": 32,
   "id": "1963fbc8-6fcc-415b-986c-63c3a376079e",
   "metadata": {},
   "outputs": [
    {
     "name": "stdout",
     "output_type": "stream",
     "text": [
      "[4, 5, 6, 'c', 'a', 'b', 11, 12]\n",
      "[5, 'c', 'b', 12]\n",
      "[]\n"
     ]
    }
   ],
   "source": [
    "del list12[-1]\n",
    "print(list12)\n",
    "del list12[::2]\n",
    "print(list12)\n",
    "del list12[:]\n",
    "print(list12)"
   ]
  },
  {
   "cell_type": "code",
   "execution_count": 36,
   "id": "9b82d132-316e-468a-a959-639e12fe409a",
   "metadata": {},
   "outputs": [
    {
     "ename": "NameError",
     "evalue": "name 'bar' is not defined",
     "output_type": "error",
     "traceback": [
      "\u001b[1;31m---------------------------------------------------------------------------\u001b[0m",
      "\u001b[1;31mNameError\u001b[0m                                 Traceback (most recent call last)",
      "Input \u001b[1;32mIn [36]\u001b[0m, in \u001b[0;36m<cell line: 1>\u001b[1;34m()\u001b[0m\n\u001b[1;32m----> 1\u001b[0m \u001b[38;5;28mprint\u001b[39m(\u001b[43mbar\u001b[49m)\n\u001b[0;32m      2\u001b[0m \u001b[38;5;28;01mdel\u001b[39;00m bar\n\u001b[0;32m      3\u001b[0m bar \u001b[38;5;241m=\u001b[39m [\u001b[38;5;241m1\u001b[39m, \u001b[38;5;241m2\u001b[39m, \u001b[38;5;241m3\u001b[39m, \u001b[38;5;241m4\u001b[39m]\n",
      "\u001b[1;31mNameError\u001b[0m: name 'bar' is not defined"
     ]
    }
   ],
   "source": [
    "print(bar)\n",
    "del bar\n",
    "bar = [1, 2, 3, 4]\n",
    "print(bar)"
   ]
  },
  {
   "cell_type": "markdown",
   "id": "478fc00e-74b6-4f1b-8fe4-6c4134220f87",
   "metadata": {},
   "source": [
    "__7. Sorting lists with sorting method__"
   ]
  },
  {
   "cell_type": "code",
   "execution_count": 38,
   "id": "ca70bfa2-67f8-4a51-a15d-eaa1d43d3933",
   "metadata": {},
   "outputs": [
    {
     "data": {
      "text/plain": [
       "[1, 2, 3, 4, 5, 6, 7, 8, 9, 11, 15]"
      ]
     },
     "execution_count": 38,
     "metadata": {},
     "output_type": "execute_result"
    }
   ],
   "source": [
    "numbers = [7, 2, 5, 4, 3, 6, 1, 9, 8,15, 11]\n",
    "numbers.sort() #올림차순으로 정리되는 함수\n",
    "numbers"
   ]
  },
  {
   "cell_type": "code",
   "execution_count": 39,
   "id": "2407220e-6573-4d2e-b696-eb11b08546ed",
   "metadata": {},
   "outputs": [
    {
     "name": "stdout",
     "output_type": "stream",
     "text": [
      "[15, 11, 9, 8, 7, 6, 5, 4, 3, 2, 1]\n",
      "[1, 2, 3, 4, 5, 6, 7, 8, 9, 11, 15]\n"
     ]
    }
   ],
   "source": [
    "numbers = [7, 2, 5, 4, 3, 6, 1, 9, 8,15, 11]\n",
    "numbers.sort(reverse=True)\n",
    "print(numbers)\n",
    "numbers.reverse()\n",
    "print(numbers)"
   ]
  },
  {
   "cell_type": "code",
   "execution_count": 3,
   "id": "17c2315a-24c6-4ed6-93c1-6cb04a0f143d",
   "metadata": {},
   "outputs": [
    {
     "name": "stdout",
     "output_type": "stream",
     "text": [
      "['J', 'I', 'love', 'you,', 'and', 'do', 'you', 'love', 'me?'] <class 'list'>\n",
      "['J', 'I', 'do', 'and', 'you', 'me?', 'love', 'you,', 'love'] <class 'list'>\n",
      "['I', 'J', 'and', 'do', 'love', 'love', 'me?', 'you', 'you,']\n"
     ]
    }
   ],
   "source": [
    "a_string = 'J I love you, and do you love me?'\n",
    "a_string = a_string.split() # 단어 별로 리스트로 만드는 과정\n",
    "print(a_string, type(a_string))\n",
    "a_string.sort(key=len) # 길이를 통하여 정리\n",
    "print(a_string, type(a_string))\n",
    "b_string = sorted(a_string) #알파벳 순서대로 정리(같을시 길이로 정리된다 & 대문자먼저 정리되고 소문자가 정리된다)\n",
    "print(b_string)"
   ]
  },
  {
   "cell_type": "code",
   "execution_count": 44,
   "id": "297ee03f-374c-451e-8941-613ee42709c0",
   "metadata": {},
   "outputs": [
    {
     "name": "stdout",
     "output_type": "stream",
     "text": [
      "[7, 2, 5, 4, 3, 6, 1, 9, 8, 15, 11]\n",
      "[1, 2, 3, 4, 5, 6, 7, 8, 9, 11, 15]\n",
      "[11, 15, 8, 9, 1, 6, 3, 4, 5, 2, 7]\n",
      "[7, 2, 5, 4, 3, 6, 1, 9, 8, 15, 11]\n"
     ]
    }
   ],
   "source": [
    "x = [7, 2, 5, 4, 3, 6, 1, 9, 8,15, 11]\n",
    "y = sorted(x) #오름차순 정렬\n",
    "z = reversed(x) #정반대로 정렬\n",
    "print(x)\n",
    "print(y)\n",
    "print(list(z))\n",
    "print(x)"
   ]
  },
  {
   "cell_type": "code",
   "execution_count": 45,
   "id": "a0e7dc41-21b9-464c-9687-6cbdfd9db08c",
   "metadata": {},
   "outputs": [
    {
     "name": "stdout",
     "output_type": "stream",
     "text": [
      "4\n",
      "False\n",
      "True\n",
      "False\n"
     ]
    }
   ],
   "source": [
    "print(x.index(3))\n",
    "print(12 in x)\n",
    "print(12 not in x)\n",
    "print('Love' in a_string) #대소문자 구분 된다!"
   ]
  },
  {
   "cell_type": "code",
   "execution_count": 46,
   "id": "671419ba-548d-4ec7-a0aa-e8b4da6b5b28",
   "metadata": {},
   "outputs": [
    {
     "name": "stdout",
     "output_type": "stream",
     "text": [
      "['J', 'I', 'do', 'and', 'you', 'me?', 'love', 'you,', 'love']\n",
      "['J', 'I', 'do', 'him', 'and', 'you', 'me?', 'love', 'you,', 'love']\n"
     ]
    }
   ],
   "source": [
    "print(a_string)\n",
    "a_string.insert(3, 'him') #추가하는 데 위치 지정\n",
    "print(a_string)"
   ]
  },
  {
   "cell_type": "code",
   "execution_count": 47,
   "id": "9e0cb01e-76db-4cbd-add1-6fc4ca2f8aad",
   "metadata": {},
   "outputs": [
    {
     "name": "stdout",
     "output_type": "stream",
     "text": [
      "['J', 'I', 'do', 'him', 'and', 'you', 'me?', 'love', 'you,', 'love', 'hate']\n",
      "['J', 'I', 'do', 'and', 'you', 'me?', 'love', 'you,', 'love', 'hate']\n"
     ]
    }
   ],
   "source": [
    "a_string.append('hate') #끝에 추가\n",
    "print(a_string)\n",
    "a_string.remove('him') #제거\n",
    "print(a_string)"
   ]
  },
  {
   "cell_type": "code",
   "execution_count": 49,
   "id": "8378fc16-e171-4d60-8be7-5f436bb30356",
   "metadata": {},
   "outputs": [
    {
     "name": "stdout",
     "output_type": "stream",
     "text": [
      "['J', 'I', 'do', 'and', 'you', 'me?', 'love', 'you,', 'love', 'hate', 'I', 'and']\n",
      "['J', 'I', 'do', 'and', 'you', 'me?', 'love', 'you,', 'love', 'hate', 'I', 'and']\n"
     ]
    }
   ],
   "source": [
    "print(a_string+['I', 'and'])\n",
    "a_string.extend(['I', 'and'])\n",
    "print(a_string)"
   ]
  },
  {
   "cell_type": "code",
   "execution_count": 50,
   "id": "edf392b0-dd9c-462d-95cf-9dab7a6fa516",
   "metadata": {},
   "outputs": [
    {
     "name": "stdout",
     "output_type": "stream",
     "text": [
      "[]\n"
     ]
    }
   ],
   "source": [
    "a_string.clear()\n",
    "print(a_string)"
   ]
  },
  {
   "cell_type": "code",
   "execution_count": 51,
   "id": "c3a51d4b-89da-477e-9e1f-2595718fd4f5",
   "metadata": {},
   "outputs": [
    {
     "name": "stdout",
     "output_type": "stream",
     "text": [
      "[7, 2, 5, 4, 3, 6, 1, 9, 8, 15, 11]\n",
      "[7, 2, 5, 4, 3, 6, 1, 9, 8, 15, 11]\n",
      "[7, 2, 5, 4, 3, 6, 1, 9, 8, 15, 11]\n"
     ]
    }
   ],
   "source": [
    "print(x)\n",
    "x_copied = x.copy()\n",
    "print(x_copied)\n",
    "print(x.copy())"
   ]
  },
  {
   "cell_type": "markdown",
   "id": "7ff0d78e-3ced-48b8-8f25-ecafac95c082",
   "metadata": {},
   "source": [
    "__9. List comprehensions__"
   ]
  },
  {
   "cell_type": "code",
   "execution_count": 1,
   "id": "8ad0f169-aa6c-483e-ba18-d8001fe83a67",
   "metadata": {},
   "outputs": [
    {
     "name": "stdout",
     "output_type": "stream",
     "text": [
      "[0, 2, 4, 6, 8]\n",
      "[0, 2, 4, 6, 8]\n",
      "[1, 3, 5, 7, 9]\n"
     ]
    }
   ],
   "source": [
    "list_range = list(range(0, 10, 2))\n",
    "print(list_range)\n",
    "\n",
    "list_com = [i for i in range(0, 10, 2)]\n",
    "print(list_com)\n",
    "list_con = [i for i in range(0, 10) if i % 2 !=0]\n",
    "print(list_con)"
   ]
  },
  {
   "cell_type": "code",
   "execution_count": 4,
   "id": "be54f363-525b-4248-a255-23e27f4bbd3b",
   "metadata": {},
   "outputs": [
    {
     "name": "stdout",
     "output_type": "stream",
     "text": [
      "[0, 4, 16, 36, 64]\n",
      "['J', 'I', 'DO', 'AND', 'YOU', 'ME?', 'LOVE', 'YOU,', 'LOVE']\n"
     ]
    }
   ],
   "source": [
    "list_op = [i**2 for i in range(0, 10, 2)]\n",
    "print(list_op)\n",
    "list_up = [i.upper() for i in a_string]\n",
    "print(list_up)"
   ]
  },
  {
   "cell_type": "code",
   "execution_count": 12,
   "id": "dd3fe02a-e431-4486-869e-91ceb67565e3",
   "metadata": {},
   "outputs": [
    {
     "name": "stdout",
     "output_type": "stream",
     "text": [
      "<generator object <genexpr> at 0x0000028207F76660>\n",
      "[4, 8, 20, 40, 68]\n"
     ]
    }
   ],
   "source": [
    "list_gen = (i**2 for i in range(10) if i % 2 == 0) #range안에 기본적인 시작은 0\n",
    "print(list_gen)\n",
    "list_gen1 = [i + 4 for i in list_gen]\n",
    "print(list_gen1)"
   ]
  },
  {
   "cell_type": "markdown",
   "id": "680a1469-49e1-4761-b869-aa50d6a4087b",
   "metadata": {},
   "source": [
    "__10. lambda expression, map, and zip function__"
   ]
  },
  {
   "cell_type": "code",
   "execution_count": 13,
   "id": "72c3bee3-98c1-4e2c-a2a7-56ed18e706b0",
   "metadata": {},
   "outputs": [
    {
     "name": "stdout",
     "output_type": "stream",
     "text": [
      "[0, 1, 2, 3, 4, 5, 6, 7, 8, 9, 10, 11, 12, 13, 14, 15, 16, 17, 18, 19, 20, 21, 22, 23, 24]\n"
     ]
    }
   ],
   "source": [
    "list3 = list(range(0, 25))\n",
    "print(list3)\n",
    "\n",
    "def is_multiple3(x):\n",
    "    \"\"\"Return True if x is a multiple of 3\"\"\"\n",
    "    return x % 3 == 0"
   ]
  },
  {
   "cell_type": "code",
   "execution_count": 14,
   "id": "5c03f7fe-f8c1-46e8-b44b-9201638c8c22",
   "metadata": {},
   "outputs": [
    {
     "data": {
      "text/plain": [
       "[0, 3, 6, 9, 12, 15, 18, 21, 24]"
      ]
     },
     "execution_count": 14,
     "metadata": {},
     "output_type": "execute_result"
    }
   ],
   "source": [
    "list(filter(is_multiple3, list3))"
   ]
  },
  {
   "cell_type": "code",
   "execution_count": 18,
   "id": "0341dd87-1c55-46ff-85f0-1a6e51843b29",
   "metadata": {},
   "outputs": [
    {
     "data": {
      "text/plain": [
       "[0, 3, 6, 9, 12, 15, 18, 21, 24]"
      ]
     },
     "execution_count": 18,
     "metadata": {},
     "output_type": "execute_result"
    }
   ],
   "source": [
    "# lambda function: anonymous function, a function without a name 무명한 함수이며 한가지 입력만 받을 수 있다.\n",
    "list4 = list(filter(lambda x: x % 3 == 0, list3))\n",
    "list4"
   ]
  },
  {
   "cell_type": "code",
   "execution_count": 19,
   "id": "fc371974-8a8b-448b-810c-4a23735e56c5",
   "metadata": {},
   "outputs": [
    {
     "name": "stdout",
     "output_type": "stream",
     "text": [
      "[0, 9, 36, 81, 144, 225, 324, 441, 576]\n",
      "[0, 9, 36, 81, 144, 225, 324, 441, 576]\n"
     ]
    }
   ],
   "source": [
    "# map: mapping a new value to an existing value, a generator(lazy evaluation)\n",
    "print(list(map(lambda x: x**2, list4)))\n",
    "print([i**2 for i in list4])"
   ]
  },
  {
   "cell_type": "code",
   "execution_count": 22,
   "id": "15bd6a8b-3532-4857-9b56-25b87bd63d30",
   "metadata": {},
   "outputs": [
    {
     "data": {
      "text/plain": [
       "[0, 9, 36, 81, 144, 225, 324, 441, 576]"
      ]
     },
     "execution_count": 22,
     "metadata": {},
     "output_type": "execute_result"
    }
   ],
   "source": [
    "# combining filter and map\n",
    "list(map(lambda x: x**2, filter(lambda x: x % 3 == 0, list3)))"
   ]
  },
  {
   "cell_type": "code",
   "execution_count": 23,
   "id": "bcf9fbdc-af78-4cf1-891d-9ebda9eacd6b",
   "metadata": {},
   "outputs": [
    {
     "data": {
      "text/plain": [
       "[0, 9, 36, 81, 144, 225, 324, 441, 576]"
      ]
     },
     "execution_count": 23,
     "metadata": {},
     "output_type": "execute_result"
    }
   ],
   "source": [
    "# An alternative way\n",
    "[x**2 for x in list3 if x % 3 == 0]"
   ]
  },
  {
   "cell_type": "code",
   "execution_count": 24,
   "id": "05950de7-0996-4698-80a3-f90831973368",
   "metadata": {},
   "outputs": [
    {
     "name": "stdout",
     "output_type": "stream",
     "text": [
      "['Mini', 'Pony', 'Excel', 'Sonata', 'Santafe', 'elantra', 'Grandeur']\n",
      "['Excel', 'Grandeur', 'Mini', 'Pony', 'Santafe', 'Sonata', 'elantra']\n",
      "Excel elantra\n"
     ]
    },
    {
     "data": {
      "text/plain": [
       "'Sonata'"
      ]
     },
     "execution_count": 24,
     "metadata": {},
     "output_type": "execute_result"
    }
   ],
   "source": [
    "# key: ought to be a one parameter function and returns a value.\n",
    "car = ['Santafe', 'Mini', 'Pony', 'Grandeur', 'Sonata', 'Excel', 'elantra']\n",
    "car.sort(key=len)\n",
    "print(car)\n",
    "print(sorted(car))#\n",
    "print(min(car), max(car))\n",
    "max(car, key=lambda i: i.lower()) #대소문자 통일 시키는 방법"
   ]
  },
  {
   "cell_type": "code",
   "execution_count": 28,
   "id": "ff32445d-c022-4eda-aac4-1ea57e287e50",
   "metadata": {},
   "outputs": [
    {
     "name": "stdout",
     "output_type": "stream",
     "text": [
      "Rye :  3\n",
      "Son : 25\n",
      "Park: 14\n",
      "Kwon:  5\n"
     ]
    }
   ],
   "source": [
    "# zip: handles multiple iterables concurrently\n",
    "players = ['Rye', 'Son', 'Park', 'Kwon']; goals = [3, 25, 14, 5]\n",
    "for last_name, goal in zip(players, goals):\n",
    "    print(f'{last_name:<4}: {goal:>2}')"
   ]
  },
  {
   "cell_type": "markdown",
   "id": "d8409935-6e78-466f-9922-d05bb6ef3a71",
   "metadata": {},
   "source": [
    "__11.Two and multi dimensional lists__"
   ]
  },
  {
   "cell_type": "code",
   "execution_count": 29,
   "id": "ae0d8517-e99a-4365-93fe-b6bab9aead27",
   "metadata": {},
   "outputs": [
    {
     "name": "stdout",
     "output_type": "stream",
     "text": [
      "[[1, 2, 3, 4], [5, 6, 7, 8], [9, 10, 11, 12]]\n",
      "1 2 3 4 \n",
      "5 6 7 8 \n",
      "9 10 11 12 \n"
     ]
    }
   ],
   "source": [
    "# Two dimensional list index: index_name[i][j], where i is row index,\n",
    "a = [[1, 2, 3, 4], [5, 6, 7, 8], [9, 10, 11, 12]]\n",
    "print(a)\n",
    "for row in a:\n",
    "    for column in row:\n",
    "        print(column, end = \" \")\n",
    "    print() # 줄바꿈 현상 생성"
   ]
  },
  {
   "cell_type": "code",
   "execution_count": null,
   "id": "70299ad3-14a2-4b99-ae8f-fb7d3fbfef85",
   "metadata": {},
   "outputs": [],
   "source": []
  }
 ],
 "metadata": {
  "kernelspec": {
   "display_name": "Python 3 (ipykernel)",
   "language": "python",
   "name": "python3"
  },
  "language_info": {
   "codemirror_mode": {
    "name": "ipython",
    "version": 3
   },
   "file_extension": ".py",
   "mimetype": "text/x-python",
   "name": "python",
   "nbconvert_exporter": "python",
   "pygments_lexer": "ipython3",
   "version": "3.9.7"
  }
 },
 "nbformat": 4,
 "nbformat_minor": 5
}
