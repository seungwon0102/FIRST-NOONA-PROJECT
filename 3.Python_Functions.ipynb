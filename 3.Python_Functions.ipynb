{
 "cells": [
  {
   "cell_type": "markdown",
   "id": "56e19be6-c34c-4730-aeb1-f1d3dc2899a5",
   "metadata": {},
   "source": [
    "## Python: Creating Functions"
   ]
  },
  {
   "cell_type": "markdown",
   "id": "f9811f4a-9bce-4cb1-a496-611c3a0c5c1d",
   "metadata": {},
   "source": [
    "● Built-in functions: int, float, print, input, type, sum, etc."
   ]
  },
  {
   "cell_type": "markdown",
   "id": "927cc302-da0a-4424-9a52-dc41b83500dc",
   "metadata": {},
   "source": [
    "● Now we learn how to build your own custom functions, performing specific tasks."
   ]
  },
  {
   "cell_type": "markdown",
   "id": "52e5af60-1ebf-4439-986d-aab28445fd5a",
   "metadata": {},
   "source": [
    "● A function stars with the keyword, def, which is followed by its name starting with a lowercase letter. \n",
    "you may use underscores to separate words in name, say, circle_area_sircum. It is recommended to put a docstring, explaining the purpose of a function, right below the definition of a function."
   ]
  },
  {
   "cell_type": "markdown",
   "id": "7a8e615d-3b48-46b5-92f7-9c7d60687e80",
   "metadata": {},
   "source": [
    "● At the end we learn random numver generation and importing libraries."
   ]
  },
  {
   "cell_type": "markdown",
   "id": "58347727-f3fb-4910-a6bf-f4f0ec07b720",
   "metadata": {},
   "source": [
    "__1.Creating your own functions with a single parameter__"
   ]
  },
  {
   "cell_type": "code",
   "execution_count": 5,
   "id": "12afd61a-e163-4fc8-885b-c6e13ec0f3d2",
   "metadata": {},
   "outputs": [],
   "source": [
    "import math\n",
    "\n",
    "def circle(radius):\n",
    "    \"\"\"Calculates area and circumference of a circle with a radius\"\"\"\n",
    "    \n",
    "    return math.pi*radius**2, 2*math.pi*radius"
   ]
  },
  {
   "cell_type": "code",
   "execution_count": 6,
   "id": "35e2d511-539d-427f-9cad-8cac36d5223d",
   "metadata": {},
   "outputs": [
    {
     "data": {
      "text/plain": [
       "(28.274333882308138, 18.84955592153876)"
      ]
     },
     "execution_count": 6,
     "metadata": {},
     "output_type": "execute_result"
    }
   ],
   "source": [
    "circle(3)"
   ]
  },
  {
   "cell_type": "code",
   "execution_count": 11,
   "id": "e094e03a-538e-453b-a6d4-dbcd607f8a39",
   "metadata": {},
   "outputs": [
    {
     "name": "stdout",
     "output_type": "stream",
     "text": [
      "The area and circumference of a circle with 3cm radius are 28.27cm squared and 18.850cm.\n"
     ]
    }
   ],
   "source": [
    "x= 3\n",
    "print(f'The area and circumference of a circle with {x}cm radius \\\n",
    "are {circle(x)[0]:.2f}cm squared and {circle(x)[1]:.3f}cm.')"
   ]
  },
  {
   "cell_type": "code",
   "execution_count": 12,
   "id": "5fac62f8-32b9-436e-afa3-65f7129649ae",
   "metadata": {},
   "outputs": [
    {
     "data": {
      "text/plain": [
       "\u001b[1;31mSignature:\u001b[0m \u001b[0mcircle\u001b[0m\u001b[1;33m(\u001b[0m\u001b[0mradius\u001b[0m\u001b[1;33m)\u001b[0m\u001b[1;33m\u001b[0m\u001b[1;33m\u001b[0m\u001b[0m\n",
       "\u001b[1;31mDocstring:\u001b[0m Calculates area and circumference of a circle with a radius\n",
       "\u001b[1;31mFile:\u001b[0m      c:\\users\\cso13\\appdata\\local\\temp\\ipykernel_18164\\3047288804.py\n",
       "\u001b[1;31mType:\u001b[0m      function\n"
      ]
     },
     "metadata": {},
     "output_type": "display_data"
    }
   ],
   "source": [
    "circle?"
   ]
  },
  {
   "cell_type": "markdown",
   "id": "0e1feba2-fda0-45c4-a947-a9e0b57f8910",
   "metadata": {},
   "source": [
    "__2. Creating function with multiple parameters__"
   ]
  },
  {
   "cell_type": "code",
   "execution_count": 13,
   "id": "8965eddf-74aa-43b5-91a8-b2b3d6a88732",
   "metadata": {},
   "outputs": [],
   "source": [
    "def myfunction(x, y):\n",
    "    \"\"\"addition, multiplication and division\"\"\"\n",
    "    \n",
    "    return x+y, x*y, x/y"
   ]
  },
  {
   "cell_type": "code",
   "execution_count": 14,
   "id": "6ab8e723-0dad-4074-b532-24b64c5ee943",
   "metadata": {},
   "outputs": [
    {
     "data": {
      "text/plain": [
       "(21, 54, 6.0)"
      ]
     },
     "execution_count": 14,
     "metadata": {},
     "output_type": "execute_result"
    }
   ],
   "source": [
    "myfunction(18, 3)"
   ]
  },
  {
   "cell_type": "code",
   "execution_count": 16,
   "id": "46fb5a16-f3ea-4ee1-a108-338e49f6adfc",
   "metadata": {},
   "outputs": [],
   "source": [
    "def findmin():\n",
    "    \"\"\"Finding the minimum among three integers\"\"\"\n",
    "    \n",
    "    x=int(input('Enter first integer: '))\n",
    "    y=int(input('Enter second integer: '))\n",
    "    z=int(input('Enter third integer: '))\n",
    "    minimum = x\n",
    "    if y < minimum:\n",
    "        minimum = y\n",
    "    if z < minimum:\n",
    "        minimum = z\n",
    "    return minimum"
   ]
  },
  {
   "cell_type": "code",
   "execution_count": 17,
   "id": "d780d160-fc8b-4aac-be36-f33cb3cff250",
   "metadata": {},
   "outputs": [
    {
     "name": "stdin",
     "output_type": "stream",
     "text": [
      "Enter first integer:  454\n",
      "Enter second integer:  12\n",
      "Enter third integer:  56\n"
     ]
    },
    {
     "data": {
      "text/plain": [
       "12"
      ]
     },
     "execution_count": 17,
     "metadata": {},
     "output_type": "execute_result"
    }
   ],
   "source": [
    "findmin()"
   ]
  },
  {
   "cell_type": "code",
   "execution_count": 18,
   "id": "1bff54f3-0ae6-4b87-a57f-9d987fad5532",
   "metadata": {},
   "outputs": [],
   "source": [
    "def findmin1(x, y, z):\n",
    "    \"\"\"Another function for finding a minimum\"\"\"\n",
    "    \n",
    "    return min(x, y, z)"
   ]
  },
  {
   "cell_type": "code",
   "execution_count": 20,
   "id": "5ac10dc8-a4e1-4e22-8fb1-41964306d9da",
   "metadata": {},
   "outputs": [
    {
     "name": "stdout",
     "output_type": "stream",
     "text": [
      "7\n",
      "3\n"
     ]
    }
   ],
   "source": [
    "print(findmin1(7, 8, 9))\n",
    "print(x) #printing a dlobal variable, x"
   ]
  },
  {
   "cell_type": "markdown",
   "id": "7aaf200d-ce3c-4978-a8c5-728de496273c",
   "metadata": {},
   "source": [
    "__3.Functions with default parameter values__"
   ]
  },
  {
   "cell_type": "code",
   "execution_count": 21,
   "id": "f5ca34c3-bf67-48f8-a0f0-d630a1e5f65e",
   "metadata": {},
   "outputs": [],
   "source": [
    "def rectangle(width=3, height=5):\n",
    "    \"\"\"Calculating the area of a rectangle\"\"\"\n",
    "    \n",
    "    return width*height"
   ]
  },
  {
   "cell_type": "code",
   "execution_count": 22,
   "id": "eac3c1ac-caee-43ae-b54f-d905f19a4a50",
   "metadata": {},
   "outputs": [
    {
     "name": "stdout",
     "output_type": "stream",
     "text": [
      "15 25 20\n"
     ]
    }
   ],
   "source": [
    "print(rectangle(), rectangle(5), rectangle(4, 5))"
   ]
  },
  {
   "cell_type": "code",
   "execution_count": 23,
   "id": "abba7b94-00b9-44b1-a18c-c996839403ad",
   "metadata": {},
   "outputs": [
    {
     "name": "stdout",
     "output_type": "stream",
     "text": [
      "12 42\n"
     ]
    }
   ],
   "source": [
    "print(rectangle(height=4), rectangle(height=6, width=7))"
   ]
  },
  {
   "cell_type": "markdown",
   "id": "c43fcea7-f98d-44bb-a2fc-dba501ada75a",
   "metadata": {},
   "source": [
    "__4.A function taking an arbitrary number of argumnet__"
   ]
  },
  {
   "cell_type": "code",
   "execution_count": 24,
   "id": "a1164198-aad9-4d55-9da8-4c592ed8c31c",
   "metadata": {},
   "outputs": [],
   "source": [
    "def my_average(*nums):\n",
    "    \"\"\"Calculating average with multiple numbers\"\"\"\n",
    "    \n",
    "    return sum(nums)/len(nums)"
   ]
  },
  {
   "cell_type": "code",
   "execution_count": 25,
   "id": "25441c09-856a-41e8-a6a9-720897ecd95c",
   "metadata": {},
   "outputs": [
    {
     "data": {
      "text/plain": [
       "69.6"
      ]
     },
     "execution_count": 25,
     "metadata": {},
     "output_type": "execute_result"
    }
   ],
   "source": [
    "my_average(68, 23, 100, 67, 90)"
   ]
  },
  {
   "cell_type": "code",
   "execution_count": 26,
   "id": "07d258f4-80a1-4f38-a799-d30b6c251c83",
   "metadata": {},
   "outputs": [
    {
     "data": {
      "text/plain": [
       "5.5"
      ]
     },
     "execution_count": 26,
     "metadata": {},
     "output_type": "execute_result"
    }
   ],
   "source": [
    "grades = [1, 2, 3, 4, 5, 6, 7, 8, 9, 10]\n",
    "my_average(*grades)"
   ]
  },
  {
   "cell_type": "markdown",
   "id": "612f2456-1f6d-40aa-9580-ac17352ebc02",
   "metadata": {},
   "source": [
    "__5.Python standard libraries__"
   ]
  },
  {
   "cell_type": "markdown",
   "id": "1a02276e-f645-4db1-8af0-b9bf01a4b179",
   "metadata": {},
   "source": [
    "● The main function is the point of executing a python program."
   ]
  },
  {
   "cell_type": "markdown",
   "id": "330832f6-f25c-442d-a58c-2cddf6c91ca6",
   "metadata": {},
   "source": [
    "● It works only when the program is executed directly(i.e., as a python script, not as a module imported in other scripts)."
   ]
  },
  {
   "cell_type": "markdown",
   "id": "c4a97ee7-543f-4b66-85fb-e5bf5e7f0da9",
   "metadata": {},
   "source": [
    "● The name variable is a special variable of python, evaluating the name of current program."
   ]
  },
  {
   "cell_type": "markdown",
   "id": "7f4901e5-1b77-4ecd-b731-ecb55ce1d707",
   "metadata": {},
   "source": [
    "● It also takes \"__main__\"when a script is executed directly."
   ]
  },
  {
   "cell_type": "code",
   "execution_count": 32,
   "id": "363fedf6-282a-4c87-838a-af9bce5f12b9",
   "metadata": {},
   "outputs": [
    {
     "name": "stdout",
     "output_type": "stream",
     "text": [
      "The area and circumference of a circle with 4cm radius    are 50.27cm squared and 25.133cm.\n",
      "Main function is executed!\n"
     ]
    }
   ],
   "source": [
    "def main(x):\n",
    "    \"\"\"An exercise of main function\"\"\"\n",
    "    print(f'The area and circumference of a circle with {x}cm radius\\\n",
    "    are {circle(x)[0]:.2f}cm squared and {circle(x)[1]:.3f}cm.')\n",
    "    print('Main function is executed!')\n",
    "\n",
    "if __name__ == '__main__':\n",
    "    main(4)\n",
    "#main(5); __name__"
   ]
  },
  {
   "cell_type": "code",
   "execution_count": 37,
   "id": "997056b2-edc7-49d7-86f2-a89c0a96141e",
   "metadata": {},
   "outputs": [
    {
     "name": "stdout",
     "output_type": "stream",
     "text": [
      "The area and circumference of a circle with 4cm radius    are 50.27cm squared and 25.133cm.\n",
      "Main function is executed!\n"
     ]
    }
   ],
   "source": [
    "%run main_function.py\n",
    "#파이선 파일 실행 방법1"
   ]
  },
  {
   "cell_type": "code",
   "execution_count": 38,
   "id": "4e41c3f8-fc26-4c47-8b9b-ae8990a946b3",
   "metadata": {},
   "outputs": [
    {
     "name": "stdout",
     "output_type": "stream",
     "text": [
      "The area and circumference of a circle with 4cm radius    are 50.27cm squared and 25.133cm.\n",
      "Main function is executed!\n"
     ]
    }
   ],
   "source": [
    "!python main_function.py\n",
    "#파이선 파일 실행 방법2"
   ]
  },
  {
   "cell_type": "code",
   "execution_count": 39,
   "id": "5cdb2f51-ea61-4b79-bd6b-98b5fd63d457",
   "metadata": {},
   "outputs": [
    {
     "name": "stdout",
     "output_type": "stream",
     "text": [
      "(78.53981633974483, 31.41592653589793)\n",
      "main_function\n"
     ]
    }
   ],
   "source": [
    "import main_function as mf\n",
    "print(mf.circle(5))\n",
    "print(mf.__name__)"
   ]
  },
  {
   "cell_type": "markdown",
   "id": "5f6d806b-d2de-4650-8631-c3b28e1b2a4e",
   "metadata": {},
   "source": [
    "__5.Python standard libraries__"
   ]
  },
  {
   "cell_type": "markdown",
   "id": "60d48035-c4a5-4e82-90c6-269ad7519486",
   "metadata": {},
   "source": [
    "● https://docs.python.org/3/library/"
   ]
  },
  {
   "cell_type": "markdown",
   "id": "9cd8abcd-73e3-4f91-82f1-5a9ce2479d6b",
   "metadata": {},
   "source": [
    "●popular ones are math, random, csv, decimal, datetime, json, statistics, etc"
   ]
  },
  {
   "cell_type": "markdown",
   "id": "8923eff9-ba1f-45b3-a96e-09f44c5d09e1",
   "metadata": {},
   "source": [
    "●Math module: https://docs.python.org/3/library/math.html"
   ]
  },
  {
   "cell_type": "markdown",
   "id": "0524f4f7-bbb2-4118-a7e5-7c784b98321d",
   "metadata": {},
   "source": [
    "__6.Using tab key for completing identifiers__"
   ]
  },
  {
   "cell_type": "markdown",
   "id": "49a08cad-f6a4-4b18-8da5-210edf342a5e",
   "metadata": {},
   "source": [
    "●__ma+Tab__ key will show a list of identifiers starting with 'ma'."
   ]
  },
  {
   "cell_type": "markdown",
   "id": "e6e12f3c-e6a1-4066-a27b-1b99c3825b8a",
   "metadata": {},
   "source": [
    "●__Looking up functions__ in a library with Tab key, e.g., __math.Tab__ key."
   ]
  },
  {
   "cell_type": "markdown",
   "id": "cc60a52c-ff0e-4791-a6c0-36ef06d77977",
   "metadata": {},
   "source": [
    "●__Questioning a function__ with the question mark, ?."
   ]
  },
  {
   "cell_type": "code",
   "execution_count": 40,
   "id": "6a3c41a9-ae03-4a23-9f1f-b5c1c31f5951",
   "metadata": {},
   "outputs": [
    {
     "ename": "NameError",
     "evalue": "name 'ma' is not defined",
     "output_type": "error",
     "traceback": [
      "\u001b[1;31m---------------------------------------------------------------------------\u001b[0m",
      "\u001b[1;31mNameError\u001b[0m                                 Traceback (most recent call last)",
      "Input \u001b[1;32mIn [40]\u001b[0m, in \u001b[0;36m<cell line: 1>\u001b[1;34m()\u001b[0m\n\u001b[1;32m----> 1\u001b[0m \u001b[43mma\u001b[49m\n",
      "\u001b[1;31mNameError\u001b[0m: name 'ma' is not defined"
     ]
    }
   ],
   "source": [
    "ma"
   ]
  },
  {
   "cell_type": "code",
   "execution_count": 41,
   "id": "65b81106-a869-4ff5-b35f-24546172aef4",
   "metadata": {},
   "outputs": [
    {
     "ename": "SyntaxError",
     "evalue": "invalid syntax (1415246923.py, line 1)",
     "output_type": "error",
     "traceback": [
      "\u001b[1;36m  Input \u001b[1;32mIn [41]\u001b[1;36m\u001b[0m\n\u001b[1;33m    math.?\u001b[0m\n\u001b[1;37m         ^\u001b[0m\n\u001b[1;31mSyntaxError\u001b[0m\u001b[1;31m:\u001b[0m invalid syntax\n"
     ]
    }
   ],
   "source": [
    "math.?"
   ]
  },
  {
   "cell_type": "code",
   "execution_count": 42,
   "id": "01fb1cf2-7911-466a-a2c6-447a5fc7af6a",
   "metadata": {},
   "outputs": [
    {
     "data": {
      "text/plain": [
       "\u001b[1;31mSignature:\u001b[0m \u001b[0mmath\u001b[0m\u001b[1;33m.\u001b[0m\u001b[0mfabs\u001b[0m\u001b[1;33m(\u001b[0m\u001b[0mx\u001b[0m\u001b[1;33m,\u001b[0m \u001b[1;33m/\u001b[0m\u001b[1;33m)\u001b[0m\u001b[1;33m\u001b[0m\u001b[1;33m\u001b[0m\u001b[0m\n",
       "\u001b[1;31mDocstring:\u001b[0m Return the absolute value of the float x.\n",
       "\u001b[1;31mType:\u001b[0m      builtin_function_or_method\n"
      ]
     },
     "metadata": {},
     "output_type": "display_data"
    }
   ],
   "source": [
    "math.fabs?"
   ]
  },
  {
   "cell_type": "markdown",
   "id": "5466bac6-434f-4911-85cf-228a887808e1",
   "metadata": {},
   "source": [
    "__7.Methods in Python__"
   ]
  },
  {
   "cell_type": "markdown",
   "id": "306e5cfe-2403-41b5-92f0-94219b84d0ae",
   "metadata": {},
   "source": [
    "● Methods are functions you can call on your object."
   ]
  },
  {
   "cell_type": "markdown",
   "id": "58078bb3-403e-42b9-aeca-7661f78320e5",
   "metadata": {},
   "source": [
    "● __syntax__: Your_object_name.__method_name(arguments).__"
   ]
  },
  {
   "cell_type": "code",
   "execution_count": 43,
   "id": "950bb53a-37ab-43b7-a98c-109523085503",
   "metadata": {},
   "outputs": [
    {
     "name": "stdout",
     "output_type": "stream",
     "text": [
      "youngsun kwon YOUNGSUN KWON Youngsun Kwon\n"
     ]
    }
   ],
   "source": [
    "my_name = 'Youngsun Kwon'\n",
    "print(my_name.lower(), my_name.upper(), my_name)"
   ]
  },
  {
   "cell_type": "markdown",
   "id": "28f337be-c1ed-4f9a-8a51-b4949a91b4b0",
   "metadata": {},
   "source": [
    "__8.Random number generation in Python__"
   ]
  },
  {
   "cell_type": "code",
   "execution_count": 44,
   "id": "ba57bc25-5a37-45d0-9734-ce38181d6876",
   "metadata": {},
   "outputs": [
    {
     "name": "stdout",
     "output_type": "stream",
     "text": [
      "5 4 3 3 2 4 3 6 2 6 "
     ]
    }
   ],
   "source": [
    "import random\n",
    "\n",
    "for roll in range(10):\n",
    "    print(random.randrange(1, 7), end = ' ')"
   ]
  },
  {
   "cell_type": "code",
   "execution_count": 46,
   "id": "b2e8d7bb-e87d-402f-a928-15158a68f6e0",
   "metadata": {},
   "outputs": [
    {
     "name": "stdout",
     "output_type": "stream",
     "text": [
      "Face    Frequency     Ratio\n",
      "   0         4965     49.65\n",
      "   1         5035     50.35\n"
     ]
    }
   ],
   "source": [
    "frequency0 = 0\n",
    "frequency1 = 0\n",
    "sample = 10_000\n",
    "# 숫자의 천단위 구분은 _를 이용한다\n",
    "\n",
    "for roll in range(sample):\n",
    "    face = random.randrange(0, 2)\n",
    "    if face == 0:\n",
    "        frequency0 += 1\n",
    "    else:\n",
    "        frequency1 += 1\n",
    "\n",
    "print(f'{\"Face\"}{\"Frequency\":>13}{\"Ratio\":>10}')\n",
    "print(f'{0:>4}{frequency0:>13}{frequency0/sample*100:>10.2f}')\n",
    "print(f'{1:>4}{frequency1:>13}{frequency1/sample*100:>10.2f}')\n",
    "# A tip for f-string use\n",
    "# for right alignment, use >.\n",
    "# for left alignment, use <."
   ]
  },
  {
   "cell_type": "code",
   "execution_count": 58,
   "id": "0ef434fc-4172-41d7-8111-f8a8bbd56b72",
   "metadata": {},
   "outputs": [
    {
     "name": "stdout",
     "output_type": "stream",
     "text": [
      "6 1 4 3 5 4 1 2 6 6 \n",
      "4 4 2 5 2 4 6 3 6 2 "
     ]
    }
   ],
   "source": [
    "random.seed(20220328)\n",
    "\n",
    "for roll in range(10):\n",
    "    print(random.randrange(1, 7), end=' ')\n",
    "    \n",
    "print()\n",
    "for roll in range(10):\n",
    "    print(random.randrange(1, 7), end=' ')"
   ]
  },
  {
   "cell_type": "code",
   "execution_count": 57,
   "id": "08dd4db2-b8be-4239-8f22-9eb8584c6f3c",
   "metadata": {},
   "outputs": [
    {
     "name": "stdout",
     "output_type": "stream",
     "text": [
      "4 2 1 4 5 2 6 1 4 3 "
     ]
    }
   ],
   "source": [
    "for roll in range(10):\n",
    "    print(random.randrange(1, 7), end=' ')"
   ]
  },
  {
   "cell_type": "markdown",
   "id": "e69465bb-c5f6-4620-adbb-617b13957a54",
   "metadata": {},
   "source": [
    "__9.Importing libraries and modules in Python__"
   ]
  },
  {
   "cell_type": "code",
   "execution_count": 60,
   "id": "007fd151-bad5-4cb6-ab0e-74a673940cfe",
   "metadata": {},
   "outputs": [
    {
     "name": "stdout",
     "output_type": "stream",
     "text": [
      "3.141592653589793 10 9\n",
      "4\n"
     ]
    }
   ],
   "source": [
    "from math import ceil, floor, pi\n",
    "# 필요로 하는 부분만 추출\n",
    "import statistics as stat\n",
    "# 라이브러리 별명(축소한 이름)으로 만들기\n",
    "\n",
    "print(pi, ceil(9.8), floor(9.8))\n",
    "# 필요한 부분만을 추출 하므로 라이브러리 이름 붙일 필요 x\n",
    "x = [3, 4, 5]\n",
    "print(stat.mean(x))"
   ]
  },
  {
   "cell_type": "code",
   "execution_count": null,
   "id": "5500e29e-7a75-4a0d-a130-5909fa20b7c1",
   "metadata": {},
   "outputs": [],
   "source": []
  }
 ],
 "metadata": {
  "kernelspec": {
   "display_name": "Python 3 (ipykernel)",
   "language": "python",
   "name": "python3"
  },
  "language_info": {
   "codemirror_mode": {
    "name": "ipython",
    "version": 3
   },
   "file_extension": ".py",
   "mimetype": "text/x-python",
   "name": "python",
   "nbconvert_exporter": "python",
   "pygments_lexer": "ipython3",
   "version": "3.9.7"
  }
 },
 "nbformat": 4,
 "nbformat_minor": 5
}
