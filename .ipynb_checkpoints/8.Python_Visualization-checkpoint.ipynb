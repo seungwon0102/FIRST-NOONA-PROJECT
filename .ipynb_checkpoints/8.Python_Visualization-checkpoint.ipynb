{
 "cells": [
  {
   "cell_type": "markdown",
   "id": "02001507-09a8-4882-8bab-fb8da24baaa7",
   "metadata": {},
   "source": [
    "## Strings, Files and Data Visualization"
   ]
  },
  {
   "cell_type": "markdown",
   "id": "52603c67-aa6c-4a3e-9575-1a07511a25d0",
   "metadata": {},
   "source": [
    "__1.Strings: formatted strings (f-strings)__"
   ]
  },
  {
   "cell_type": "markdown",
   "id": "882f2580-72ad-4953-b6f6-903c8ced8575",
   "metadata": {},
   "source": [
    "- A general form of f-strings:__f'(y:<x.2f)'__. Previous old form '(.2f).format(y)."
   ]
  },
  {
   "cell_type": "markdown",
   "id": "6b9a718a-951c-4f56-8418-4e29a8e6e7b3",
   "metadata": {},
   "source": [
    "- y can be __a numerical number, a formula, or a string.__ All values of y returned are __strings.__"
   ]
  },
  {
   "cell_type": "markdown",
   "id": "bf985908-1c7f-4f63-a703-334a4842f0a3",
   "metadata": {},
   "source": [
    "- If y is a string, __double quotation marks__ should be used!"
   ]
  },
  {
   "cell_type": "markdown",
   "id": "86b62886-33fa-43b7-bebd-1977672e6d4d",
   "metadata": {},
   "source": [
    "- <left alignment, ^enter alignment and > right alignment."
   ]
  },
  {
   "cell_type": "markdown",
   "id": "438e6171-05ac-40ea-a3f7-b3d8c2f3937e",
   "metadata": {},
   "source": [
    "- x is __the number of space__ allocated to the string, y."
   ]
  },
  {
   "cell_type": "markdown",
   "id": "163b80f4-e4ae-46c5-89f6-e5c7940e6f21",
   "metadata": {},
   "source": [
    "- f for float, d for integer, b for binary, and c for character"
   ]
  },
  {
   "cell_type": "code",
   "execution_count": 5,
   "id": "f83293af-5487-4e04-8445-b0d08d377712",
   "metadata": {},
   "outputs": [
    {
     "name": "stdout",
     "output_type": "stream",
     "text": [
      "['L', 'o', 'n', 'g', ' ', 'l', 'i', 'v', 'e', ' ', 't', 'h', 'e', ' ', 'k', 'i', 'n', 'g']\n"
     ]
    }
   ],
   "source": [
    "mansei = list('Long live the king')\n",
    "print(mansei)"
   ]
  },
  {
   "cell_type": "code",
   "execution_count": 7,
   "id": "34676397-ed2a-4d4d-96cf-ed8cdf960b9b",
   "metadata": {},
   "outputs": [
    {
     "name": "stdout",
     "output_type": "stream",
     "text": [
      "     1.235\n"
     ]
    },
    {
     "data": {
      "text/plain": [
       "'  1.235   '"
      ]
     },
     "execution_count": 7,
     "metadata": {},
     "output_type": "execute_result"
    }
   ],
   "source": [
    "print(f'{1.23456:>10.3f}') # 오른쪽 정렬\n",
    "f'{1.23456:^10.3f}' # 중앙 정렬"
   ]
  },
  {
   "cell_type": "code",
   "execution_count": 14,
   "id": "2d9e5365-a809-41a9-a462-c5b7e5cc876f",
   "metadata": {},
   "outputs": [
    {
     "name": "stdout",
     "output_type": "stream",
     "text": [
      "21        \n",
      "     10101\n"
     ]
    }
   ],
   "source": [
    "print(f'{21:<10}\\n{21:10b}') # 문자는 왼쪽, 숫자는 오른쪽"
   ]
  },
  {
   "cell_type": "code",
   "execution_count": 11,
   "id": "3c6481ce-e3fe-4b4c-8505-e9d203c52427",
   "metadata": {},
   "outputs": [
    {
     "name": "stdout",
     "output_type": "stream",
     "text": [
      "         A\n",
      "         c\n"
     ]
    }
   ],
   "source": [
    "print(f'{65:10c}\\n{99:10c}')"
   ]
  },
  {
   "cell_type": "code",
   "execution_count": 12,
   "id": "a54073a8-6b56-4d01-908c-8c022f6cad61",
   "metadata": {},
   "outputs": [
    {
     "name": "stdout",
     "output_type": "stream",
     "text": [
      "Python    \n",
      "        98\n"
     ]
    }
   ],
   "source": [
    "print(f'{\"Python\":10}\\n{98:10}')"
   ]
  },
  {
   "cell_type": "markdown",
   "id": "4c935805-1ca1-44c4-99f0-59ea5f2c3be9",
   "metadata": {},
   "source": [
    "__2.Interchanging a character and a ASCII code of the character__"
   ]
  },
  {
   "cell_type": "code",
   "execution_count": 15,
   "id": "859fdd27-6edd-49fb-b6e9-9b3ab2172a83",
   "metadata": {},
   "outputs": [
    {
     "name": "stdout",
     "output_type": "stream",
     "text": [
      "65 A 66 B\n"
     ]
    }
   ],
   "source": [
    "print(ord('A'), chr(65), ord('B'), chr(66))"
   ]
  },
  {
   "cell_type": "markdown",
   "id": "bf66e5ab-f7aa-4b40-8330-f8e8b2157682",
   "metadata": {},
   "source": [
    "__3.File reading and dataset repositories__"
   ]
  },
  {
   "cell_type": "markdown",
   "id": "4c7fc763-1d2e-45b0-9b35-750ec9073621",
   "metadata": {},
   "source": [
    "- UC Irvine Machine Learning Repository: https://archive.ics.uci/edu/ml/index.pip"
   ]
  },
  {
   "cell_type": "markdown",
   "id": "9532cf59-2b6a-478c-98aa-3fd80a189ba7",
   "metadata": {},
   "source": [
    "- Rdatasets: http://vincentarelbundock.github.io/Rdatasets/datasets.html"
   ]
  },
  {
   "cell_type": "markdown",
   "id": "544c0b94-7002-4719-a151-544afc0a064d",
   "metadata": {},
   "source": [
    "- kaggle datasets: https://www.kaggle.com/datasets"
   ]
  },
  {
   "cell_type": "code",
   "execution_count": 1,
   "id": "b4455050-9fe2-470f-8f4c-2b5646c803ee",
   "metadata": {},
   "outputs": [],
   "source": [
    "import pandas as pd\n",
    "import numpy as np\n",
    "import matplotlib.pyplot as plt"
   ]
  },
  {
   "cell_type": "code",
   "execution_count": 2,
   "id": "a42d4412-3a8d-4e49-83ff-4a6c4fec8ac1",
   "metadata": {},
   "outputs": [
    {
     "data": {
      "text/html": [
       "<div>\n",
       "<style scoped>\n",
       "    .dataframe tbody tr th:only-of-type {\n",
       "        vertical-align: middle;\n",
       "    }\n",
       "\n",
       "    .dataframe tbody tr th {\n",
       "        vertical-align: top;\n",
       "    }\n",
       "\n",
       "    .dataframe thead th {\n",
       "        text-align: right;\n",
       "    }\n",
       "</style>\n",
       "<table border=\"1\" class=\"dataframe\">\n",
       "  <thead>\n",
       "    <tr style=\"text-align: right;\">\n",
       "      <th></th>\n",
       "      <th>SepalLength</th>\n",
       "      <th>SepalWidth</th>\n",
       "      <th>PetalLength</th>\n",
       "      <th>PetalWidth</th>\n",
       "      <th>Name</th>\n",
       "    </tr>\n",
       "  </thead>\n",
       "  <tbody>\n",
       "    <tr>\n",
       "      <th>0</th>\n",
       "      <td>5.1</td>\n",
       "      <td>3.5</td>\n",
       "      <td>1.4</td>\n",
       "      <td>0.2</td>\n",
       "      <td>Iris-setosa</td>\n",
       "    </tr>\n",
       "    <tr>\n",
       "      <th>1</th>\n",
       "      <td>4.9</td>\n",
       "      <td>3.0</td>\n",
       "      <td>1.4</td>\n",
       "      <td>0.2</td>\n",
       "      <td>Iris-setosa</td>\n",
       "    </tr>\n",
       "    <tr>\n",
       "      <th>2</th>\n",
       "      <td>4.7</td>\n",
       "      <td>3.2</td>\n",
       "      <td>1.3</td>\n",
       "      <td>0.2</td>\n",
       "      <td>Iris-setosa</td>\n",
       "    </tr>\n",
       "    <tr>\n",
       "      <th>3</th>\n",
       "      <td>4.6</td>\n",
       "      <td>3.1</td>\n",
       "      <td>1.5</td>\n",
       "      <td>0.2</td>\n",
       "      <td>Iris-setosa</td>\n",
       "    </tr>\n",
       "    <tr>\n",
       "      <th>4</th>\n",
       "      <td>5.0</td>\n",
       "      <td>3.6</td>\n",
       "      <td>1.4</td>\n",
       "      <td>0.2</td>\n",
       "      <td>Iris-setosa</td>\n",
       "    </tr>\n",
       "    <tr>\n",
       "      <th>5</th>\n",
       "      <td>5.4</td>\n",
       "      <td>3.9</td>\n",
       "      <td>1.7</td>\n",
       "      <td>0.4</td>\n",
       "      <td>Iris-setosa</td>\n",
       "    </tr>\n",
       "    <tr>\n",
       "      <th>6</th>\n",
       "      <td>4.6</td>\n",
       "      <td>3.4</td>\n",
       "      <td>1.4</td>\n",
       "      <td>0.3</td>\n",
       "      <td>Iris-setosa</td>\n",
       "    </tr>\n",
       "    <tr>\n",
       "      <th>7</th>\n",
       "      <td>5.0</td>\n",
       "      <td>3.4</td>\n",
       "      <td>1.5</td>\n",
       "      <td>0.2</td>\n",
       "      <td>Iris-setosa</td>\n",
       "    </tr>\n",
       "    <tr>\n",
       "      <th>8</th>\n",
       "      <td>4.4</td>\n",
       "      <td>2.9</td>\n",
       "      <td>1.4</td>\n",
       "      <td>0.2</td>\n",
       "      <td>Iris-setosa</td>\n",
       "    </tr>\n",
       "    <tr>\n",
       "      <th>9</th>\n",
       "      <td>4.9</td>\n",
       "      <td>3.1</td>\n",
       "      <td>1.5</td>\n",
       "      <td>0.1</td>\n",
       "      <td>Iris-setosa</td>\n",
       "    </tr>\n",
       "  </tbody>\n",
       "</table>\n",
       "</div>"
      ],
      "text/plain": [
       "   SepalLength  SepalWidth  PetalLength  PetalWidth         Name\n",
       "0          5.1         3.5          1.4         0.2  Iris-setosa\n",
       "1          4.9         3.0          1.4         0.2  Iris-setosa\n",
       "2          4.7         3.2          1.3         0.2  Iris-setosa\n",
       "3          4.6         3.1          1.5         0.2  Iris-setosa\n",
       "4          5.0         3.6          1.4         0.2  Iris-setosa\n",
       "5          5.4         3.9          1.7         0.4  Iris-setosa\n",
       "6          4.6         3.4          1.4         0.3  Iris-setosa\n",
       "7          5.0         3.4          1.5         0.2  Iris-setosa\n",
       "8          4.4         2.9          1.4         0.2  Iris-setosa\n",
       "9          4.9         3.1          1.5         0.1  Iris-setosa"
      ]
     },
     "execution_count": 2,
     "metadata": {},
     "output_type": "execute_result"
    }
   ],
   "source": [
    "irisdata = pd.read_csv('https://archive.ics.uci.edu/ml/machine-learning\\\n",
    "-databases/iris/iris.data', header=None)\n",
    "irisdata.columns = ['SepalLength', 'SepalWidth', 'PetalLength', 'PetalWidth', 'Name']\n",
    "irisdata.head(10)"
   ]
  },
  {
   "cell_type": "code",
   "execution_count": 3,
   "id": "c7f6db74-d225-4d7b-8b62-a281a4f24abc",
   "metadata": {},
   "outputs": [
    {
     "data": {
      "text/plain": [
       "150"
      ]
     },
     "execution_count": 3,
     "metadata": {},
     "output_type": "execute_result"
    }
   ],
   "source": [
    "len(irisdata)"
   ]
  },
  {
   "cell_type": "code",
   "execution_count": 4,
   "id": "8384468e-9bb5-44d0-9d9e-2206da4e2dfa",
   "metadata": {},
   "outputs": [
    {
     "data": {
      "text/plain": [
       "('Iris-versicolor',\n",
       "     SepalLength  SepalWidth  PetalLength  PetalWidth             Name\n",
       " 50          7.0         3.2          4.7         1.4  Iris-versicolor\n",
       " 51          6.4         3.2          4.5         1.5  Iris-versicolor\n",
       " 52          6.9         3.1          4.9         1.5  Iris-versicolor\n",
       " 53          5.5         2.3          4.0         1.3  Iris-versicolor\n",
       " 54          6.5         2.8          4.6         1.5  Iris-versicolor\n",
       " 55          5.7         2.8          4.5         1.3  Iris-versicolor\n",
       " 56          6.3         3.3          4.7         1.6  Iris-versicolor\n",
       " 57          4.9         2.4          3.3         1.0  Iris-versicolor\n",
       " 58          6.6         2.9          4.6         1.3  Iris-versicolor\n",
       " 59          5.2         2.7          3.9         1.4  Iris-versicolor\n",
       " 60          5.0         2.0          3.5         1.0  Iris-versicolor\n",
       " 61          5.9         3.0          4.2         1.5  Iris-versicolor\n",
       " 62          6.0         2.2          4.0         1.0  Iris-versicolor\n",
       " 63          6.1         2.9          4.7         1.4  Iris-versicolor\n",
       " 64          5.6         2.9          3.6         1.3  Iris-versicolor\n",
       " 65          6.7         3.1          4.4         1.4  Iris-versicolor\n",
       " 66          5.6         3.0          4.5         1.5  Iris-versicolor\n",
       " 67          5.8         2.7          4.1         1.0  Iris-versicolor\n",
       " 68          6.2         2.2          4.5         1.5  Iris-versicolor\n",
       " 69          5.6         2.5          3.9         1.1  Iris-versicolor\n",
       " 70          5.9         3.2          4.8         1.8  Iris-versicolor\n",
       " 71          6.1         2.8          4.0         1.3  Iris-versicolor\n",
       " 72          6.3         2.5          4.9         1.5  Iris-versicolor\n",
       " 73          6.1         2.8          4.7         1.2  Iris-versicolor\n",
       " 74          6.4         2.9          4.3         1.3  Iris-versicolor\n",
       " 75          6.6         3.0          4.4         1.4  Iris-versicolor\n",
       " 76          6.8         2.8          4.8         1.4  Iris-versicolor\n",
       " 77          6.7         3.0          5.0         1.7  Iris-versicolor\n",
       " 78          6.0         2.9          4.5         1.5  Iris-versicolor\n",
       " 79          5.7         2.6          3.5         1.0  Iris-versicolor\n",
       " 80          5.5         2.4          3.8         1.1  Iris-versicolor\n",
       " 81          5.5         2.4          3.7         1.0  Iris-versicolor\n",
       " 82          5.8         2.7          3.9         1.2  Iris-versicolor\n",
       " 83          6.0         2.7          5.1         1.6  Iris-versicolor\n",
       " 84          5.4         3.0          4.5         1.5  Iris-versicolor\n",
       " 85          6.0         3.4          4.5         1.6  Iris-versicolor\n",
       " 86          6.7         3.1          4.7         1.5  Iris-versicolor\n",
       " 87          6.3         2.3          4.4         1.3  Iris-versicolor\n",
       " 88          5.6         3.0          4.1         1.3  Iris-versicolor\n",
       " 89          5.5         2.5          4.0         1.3  Iris-versicolor\n",
       " 90          5.5         2.6          4.4         1.2  Iris-versicolor\n",
       " 91          6.1         3.0          4.6         1.4  Iris-versicolor\n",
       " 92          5.8         2.6          4.0         1.2  Iris-versicolor\n",
       " 93          5.0         2.3          3.3         1.0  Iris-versicolor\n",
       " 94          5.6         2.7          4.2         1.3  Iris-versicolor\n",
       " 95          5.7         3.0          4.2         1.2  Iris-versicolor\n",
       " 96          5.7         2.9          4.2         1.3  Iris-versicolor\n",
       " 97          6.2         2.9          4.3         1.3  Iris-versicolor\n",
       " 98          5.1         2.5          3.0         1.1  Iris-versicolor\n",
       " 99          5.7         2.8          4.1         1.3  Iris-versicolor)"
      ]
     },
     "execution_count": 4,
     "metadata": {},
     "output_type": "execute_result"
    }
   ],
   "source": [
    "groups = irisdata.groupby('Name')\n",
    "list(groups)[1] # Name에 따라 그룹화"
   ]
  },
  {
   "cell_type": "code",
   "execution_count": 5,
   "id": "d97faff0-3fbb-435d-bd3f-896599a5f7f7",
   "metadata": {},
   "outputs": [
    {
     "data": {
      "text/html": [
       "<div>\n",
       "<style scoped>\n",
       "    .dataframe tbody tr th:only-of-type {\n",
       "        vertical-align: middle;\n",
       "    }\n",
       "\n",
       "    .dataframe tbody tr th {\n",
       "        vertical-align: top;\n",
       "    }\n",
       "\n",
       "    .dataframe thead th {\n",
       "        text-align: right;\n",
       "    }\n",
       "</style>\n",
       "<table border=\"1\" class=\"dataframe\">\n",
       "  <thead>\n",
       "    <tr style=\"text-align: right;\">\n",
       "      <th></th>\n",
       "      <th>SepalL</th>\n",
       "      <th>SepalW</th>\n",
       "      <th>PetalL</th>\n",
       "      <th>PetalW</th>\n",
       "      <th>Name</th>\n",
       "    </tr>\n",
       "  </thead>\n",
       "  <tbody>\n",
       "    <tr>\n",
       "      <th>0</th>\n",
       "      <td>5.1</td>\n",
       "      <td>3.5</td>\n",
       "      <td>1.4</td>\n",
       "      <td>0.2</td>\n",
       "      <td>Iris-setosa</td>\n",
       "    </tr>\n",
       "    <tr>\n",
       "      <th>1</th>\n",
       "      <td>4.9</td>\n",
       "      <td>3.0</td>\n",
       "      <td>1.4</td>\n",
       "      <td>0.2</td>\n",
       "      <td>Iris-setosa</td>\n",
       "    </tr>\n",
       "    <tr>\n",
       "      <th>2</th>\n",
       "      <td>4.7</td>\n",
       "      <td>3.2</td>\n",
       "      <td>1.3</td>\n",
       "      <td>0.2</td>\n",
       "      <td>Iris-setosa</td>\n",
       "    </tr>\n",
       "    <tr>\n",
       "      <th>3</th>\n",
       "      <td>4.6</td>\n",
       "      <td>3.1</td>\n",
       "      <td>1.5</td>\n",
       "      <td>0.2</td>\n",
       "      <td>Iris-setosa</td>\n",
       "    </tr>\n",
       "    <tr>\n",
       "      <th>4</th>\n",
       "      <td>5.0</td>\n",
       "      <td>3.6</td>\n",
       "      <td>1.4</td>\n",
       "      <td>0.2</td>\n",
       "      <td>Iris-setosa</td>\n",
       "    </tr>\n",
       "  </tbody>\n",
       "</table>\n",
       "</div>"
      ],
      "text/plain": [
       "   SepalL  SepalW  PetalL  PetalW         Name\n",
       "0     5.1     3.5     1.4     0.2  Iris-setosa\n",
       "1     4.9     3.0     1.4     0.2  Iris-setosa\n",
       "2     4.7     3.2     1.3     0.2  Iris-setosa\n",
       "3     4.6     3.1     1.5     0.2  Iris-setosa\n",
       "4     5.0     3.6     1.4     0.2  Iris-setosa"
      ]
     },
     "execution_count": 5,
     "metadata": {},
     "output_type": "execute_result"
    }
   ],
   "source": [
    "iris = pd.read_csv('data/iris.csv')\n",
    "iris.head()"
   ]
  },
  {
   "cell_type": "code",
   "execution_count": 8,
   "id": "f7669ca7-be3f-4e58-8c58-8f610fdfe231",
   "metadata": {},
   "outputs": [
    {
     "data": {
      "text/html": [
       "<div>\n",
       "<style scoped>\n",
       "    .dataframe tbody tr th:only-of-type {\n",
       "        vertical-align: middle;\n",
       "    }\n",
       "\n",
       "    .dataframe tbody tr th {\n",
       "        vertical-align: top;\n",
       "    }\n",
       "\n",
       "    .dataframe thead th {\n",
       "        text-align: right;\n",
       "    }\n",
       "</style>\n",
       "<table border=\"1\" class=\"dataframe\">\n",
       "  <thead>\n",
       "    <tr style=\"text-align: right;\">\n",
       "      <th></th>\n",
       "      <th>SepalL</th>\n",
       "      <th>SepalW</th>\n",
       "      <th>PetalL</th>\n",
       "      <th>PetalW</th>\n",
       "    </tr>\n",
       "  </thead>\n",
       "  <tbody>\n",
       "    <tr>\n",
       "      <th>count</th>\n",
       "      <td>150.00</td>\n",
       "      <td>150.00</td>\n",
       "      <td>150.00</td>\n",
       "      <td>150.00</td>\n",
       "    </tr>\n",
       "    <tr>\n",
       "      <th>mean</th>\n",
       "      <td>5.84</td>\n",
       "      <td>3.05</td>\n",
       "      <td>3.76</td>\n",
       "      <td>1.20</td>\n",
       "    </tr>\n",
       "    <tr>\n",
       "      <th>std</th>\n",
       "      <td>0.83</td>\n",
       "      <td>0.43</td>\n",
       "      <td>1.76</td>\n",
       "      <td>0.76</td>\n",
       "    </tr>\n",
       "    <tr>\n",
       "      <th>min</th>\n",
       "      <td>4.30</td>\n",
       "      <td>2.00</td>\n",
       "      <td>1.00</td>\n",
       "      <td>0.10</td>\n",
       "    </tr>\n",
       "    <tr>\n",
       "      <th>25%</th>\n",
       "      <td>5.10</td>\n",
       "      <td>2.80</td>\n",
       "      <td>1.60</td>\n",
       "      <td>0.30</td>\n",
       "    </tr>\n",
       "    <tr>\n",
       "      <th>50%</th>\n",
       "      <td>5.80</td>\n",
       "      <td>3.00</td>\n",
       "      <td>4.35</td>\n",
       "      <td>1.30</td>\n",
       "    </tr>\n",
       "    <tr>\n",
       "      <th>75%</th>\n",
       "      <td>6.40</td>\n",
       "      <td>3.30</td>\n",
       "      <td>5.10</td>\n",
       "      <td>1.80</td>\n",
       "    </tr>\n",
       "    <tr>\n",
       "      <th>max</th>\n",
       "      <td>7.90</td>\n",
       "      <td>4.40</td>\n",
       "      <td>6.90</td>\n",
       "      <td>2.50</td>\n",
       "    </tr>\n",
       "  </tbody>\n",
       "</table>\n",
       "</div>"
      ],
      "text/plain": [
       "       SepalL  SepalW  PetalL  PetalW\n",
       "count  150.00  150.00  150.00  150.00\n",
       "mean     5.84    3.05    3.76    1.20\n",
       "std      0.83    0.43    1.76    0.76\n",
       "min      4.30    2.00    1.00    0.10\n",
       "25%      5.10    2.80    1.60    0.30\n",
       "50%      5.80    3.00    4.35    1.30\n",
       "75%      6.40    3.30    5.10    1.80\n",
       "max      7.90    4.40    6.90    2.50"
      ]
     },
     "execution_count": 8,
     "metadata": {},
     "output_type": "execute_result"
    }
   ],
   "source": [
    "pd.set_option('display.precision',2)\n",
    "iris.describe()"
   ]
  },
  {
   "cell_type": "code",
   "execution_count": 9,
   "id": "7888bc74-459b-4d28-9060-f99407c70e5e",
   "metadata": {},
   "outputs": [
    {
     "data": {
      "text/html": [
       "<div>\n",
       "<style scoped>\n",
       "    .dataframe tbody tr th:only-of-type {\n",
       "        vertical-align: middle;\n",
       "    }\n",
       "\n",
       "    .dataframe tbody tr th {\n",
       "        vertical-align: top;\n",
       "    }\n",
       "\n",
       "    .dataframe thead th {\n",
       "        text-align: right;\n",
       "    }\n",
       "</style>\n",
       "<table border=\"1\" class=\"dataframe\">\n",
       "  <thead>\n",
       "    <tr style=\"text-align: right;\">\n",
       "      <th></th>\n",
       "      <th>Name</th>\n",
       "      <th>Iris-setosa</th>\n",
       "      <th>Iris-versicolor</th>\n",
       "      <th>Iris-virginica</th>\n",
       "    </tr>\n",
       "  </thead>\n",
       "  <tbody>\n",
       "    <tr>\n",
       "      <th rowspan=\"8\" valign=\"top\">SepalLength</th>\n",
       "      <th>count</th>\n",
       "      <td>50.00</td>\n",
       "      <td>50.00</td>\n",
       "      <td>50.00</td>\n",
       "    </tr>\n",
       "    <tr>\n",
       "      <th>mean</th>\n",
       "      <td>5.01</td>\n",
       "      <td>5.94</td>\n",
       "      <td>6.59</td>\n",
       "    </tr>\n",
       "    <tr>\n",
       "      <th>std</th>\n",
       "      <td>0.35</td>\n",
       "      <td>0.52</td>\n",
       "      <td>0.64</td>\n",
       "    </tr>\n",
       "    <tr>\n",
       "      <th>min</th>\n",
       "      <td>4.30</td>\n",
       "      <td>4.90</td>\n",
       "      <td>4.90</td>\n",
       "    </tr>\n",
       "    <tr>\n",
       "      <th>25%</th>\n",
       "      <td>4.80</td>\n",
       "      <td>5.60</td>\n",
       "      <td>6.22</td>\n",
       "    </tr>\n",
       "    <tr>\n",
       "      <th>50%</th>\n",
       "      <td>5.00</td>\n",
       "      <td>5.90</td>\n",
       "      <td>6.50</td>\n",
       "    </tr>\n",
       "    <tr>\n",
       "      <th>75%</th>\n",
       "      <td>5.20</td>\n",
       "      <td>6.30</td>\n",
       "      <td>6.90</td>\n",
       "    </tr>\n",
       "    <tr>\n",
       "      <th>max</th>\n",
       "      <td>5.80</td>\n",
       "      <td>7.00</td>\n",
       "      <td>7.90</td>\n",
       "    </tr>\n",
       "    <tr>\n",
       "      <th rowspan=\"8\" valign=\"top\">SepalWidth</th>\n",
       "      <th>count</th>\n",
       "      <td>50.00</td>\n",
       "      <td>50.00</td>\n",
       "      <td>50.00</td>\n",
       "    </tr>\n",
       "    <tr>\n",
       "      <th>mean</th>\n",
       "      <td>3.42</td>\n",
       "      <td>2.77</td>\n",
       "      <td>2.97</td>\n",
       "    </tr>\n",
       "    <tr>\n",
       "      <th>std</th>\n",
       "      <td>0.38</td>\n",
       "      <td>0.31</td>\n",
       "      <td>0.32</td>\n",
       "    </tr>\n",
       "    <tr>\n",
       "      <th>min</th>\n",
       "      <td>2.30</td>\n",
       "      <td>2.00</td>\n",
       "      <td>2.20</td>\n",
       "    </tr>\n",
       "    <tr>\n",
       "      <th>25%</th>\n",
       "      <td>3.12</td>\n",
       "      <td>2.52</td>\n",
       "      <td>2.80</td>\n",
       "    </tr>\n",
       "    <tr>\n",
       "      <th>50%</th>\n",
       "      <td>3.40</td>\n",
       "      <td>2.80</td>\n",
       "      <td>3.00</td>\n",
       "    </tr>\n",
       "    <tr>\n",
       "      <th>75%</th>\n",
       "      <td>3.68</td>\n",
       "      <td>3.00</td>\n",
       "      <td>3.18</td>\n",
       "    </tr>\n",
       "    <tr>\n",
       "      <th>max</th>\n",
       "      <td>4.40</td>\n",
       "      <td>3.40</td>\n",
       "      <td>3.80</td>\n",
       "    </tr>\n",
       "    <tr>\n",
       "      <th rowspan=\"8\" valign=\"top\">PetalLength</th>\n",
       "      <th>count</th>\n",
       "      <td>50.00</td>\n",
       "      <td>50.00</td>\n",
       "      <td>50.00</td>\n",
       "    </tr>\n",
       "    <tr>\n",
       "      <th>mean</th>\n",
       "      <td>1.46</td>\n",
       "      <td>4.26</td>\n",
       "      <td>5.55</td>\n",
       "    </tr>\n",
       "    <tr>\n",
       "      <th>std</th>\n",
       "      <td>0.17</td>\n",
       "      <td>0.47</td>\n",
       "      <td>0.55</td>\n",
       "    </tr>\n",
       "    <tr>\n",
       "      <th>min</th>\n",
       "      <td>1.00</td>\n",
       "      <td>3.00</td>\n",
       "      <td>4.50</td>\n",
       "    </tr>\n",
       "    <tr>\n",
       "      <th>25%</th>\n",
       "      <td>1.40</td>\n",
       "      <td>4.00</td>\n",
       "      <td>5.10</td>\n",
       "    </tr>\n",
       "    <tr>\n",
       "      <th>50%</th>\n",
       "      <td>1.50</td>\n",
       "      <td>4.35</td>\n",
       "      <td>5.55</td>\n",
       "    </tr>\n",
       "    <tr>\n",
       "      <th>75%</th>\n",
       "      <td>1.58</td>\n",
       "      <td>4.60</td>\n",
       "      <td>5.88</td>\n",
       "    </tr>\n",
       "    <tr>\n",
       "      <th>max</th>\n",
       "      <td>1.90</td>\n",
       "      <td>5.10</td>\n",
       "      <td>6.90</td>\n",
       "    </tr>\n",
       "    <tr>\n",
       "      <th rowspan=\"8\" valign=\"top\">PetalWidth</th>\n",
       "      <th>count</th>\n",
       "      <td>50.00</td>\n",
       "      <td>50.00</td>\n",
       "      <td>50.00</td>\n",
       "    </tr>\n",
       "    <tr>\n",
       "      <th>mean</th>\n",
       "      <td>0.24</td>\n",
       "      <td>1.33</td>\n",
       "      <td>2.03</td>\n",
       "    </tr>\n",
       "    <tr>\n",
       "      <th>std</th>\n",
       "      <td>0.11</td>\n",
       "      <td>0.20</td>\n",
       "      <td>0.27</td>\n",
       "    </tr>\n",
       "    <tr>\n",
       "      <th>min</th>\n",
       "      <td>0.10</td>\n",
       "      <td>1.00</td>\n",
       "      <td>1.40</td>\n",
       "    </tr>\n",
       "    <tr>\n",
       "      <th>25%</th>\n",
       "      <td>0.20</td>\n",
       "      <td>1.20</td>\n",
       "      <td>1.80</td>\n",
       "    </tr>\n",
       "    <tr>\n",
       "      <th>50%</th>\n",
       "      <td>0.20</td>\n",
       "      <td>1.30</td>\n",
       "      <td>2.00</td>\n",
       "    </tr>\n",
       "    <tr>\n",
       "      <th>75%</th>\n",
       "      <td>0.30</td>\n",
       "      <td>1.50</td>\n",
       "      <td>2.30</td>\n",
       "    </tr>\n",
       "    <tr>\n",
       "      <th>max</th>\n",
       "      <td>0.60</td>\n",
       "      <td>1.80</td>\n",
       "      <td>2.50</td>\n",
       "    </tr>\n",
       "  </tbody>\n",
       "</table>\n",
       "</div>"
      ],
      "text/plain": [
       "Name               Iris-setosa  Iris-versicolor  Iris-virginica\n",
       "SepalLength count        50.00            50.00           50.00\n",
       "            mean          5.01             5.94            6.59\n",
       "            std           0.35             0.52            0.64\n",
       "            min           4.30             4.90            4.90\n",
       "            25%           4.80             5.60            6.22\n",
       "            50%           5.00             5.90            6.50\n",
       "            75%           5.20             6.30            6.90\n",
       "            max           5.80             7.00            7.90\n",
       "SepalWidth  count        50.00            50.00           50.00\n",
       "            mean          3.42             2.77            2.97\n",
       "            std           0.38             0.31            0.32\n",
       "            min           2.30             2.00            2.20\n",
       "            25%           3.12             2.52            2.80\n",
       "            50%           3.40             2.80            3.00\n",
       "            75%           3.68             3.00            3.18\n",
       "            max           4.40             3.40            3.80\n",
       "PetalLength count        50.00            50.00           50.00\n",
       "            mean          1.46             4.26            5.55\n",
       "            std           0.17             0.47            0.55\n",
       "            min           1.00             3.00            4.50\n",
       "            25%           1.40             4.00            5.10\n",
       "            50%           1.50             4.35            5.55\n",
       "            75%           1.58             4.60            5.88\n",
       "            max           1.90             5.10            6.90\n",
       "PetalWidth  count        50.00            50.00           50.00\n",
       "            mean          0.24             1.33            2.03\n",
       "            std           0.11             0.20            0.27\n",
       "            min           0.10             1.00            1.40\n",
       "            25%           0.20             1.20            1.80\n",
       "            50%           0.20             1.30            2.00\n",
       "            75%           0.30             1.50            2.30\n",
       "            max           0.60             1.80            2.50"
      ]
     },
     "execution_count": 9,
     "metadata": {},
     "output_type": "execute_result"
    }
   ],
   "source": [
    "irisdata.groupby('Name').describe().T"
   ]
  },
  {
   "cell_type": "code",
   "execution_count": 11,
   "id": "f048fbc9-4956-46ee-bb26-acbce64ce600",
   "metadata": {},
   "outputs": [
    {
     "data": {
      "text/html": [
       "<div>\n",
       "<style scoped>\n",
       "    .dataframe tbody tr th:only-of-type {\n",
       "        vertical-align: middle;\n",
       "    }\n",
       "\n",
       "    .dataframe tbody tr th {\n",
       "        vertical-align: top;\n",
       "    }\n",
       "\n",
       "    .dataframe thead th {\n",
       "        text-align: right;\n",
       "    }\n",
       "</style>\n",
       "<table border=\"1\" class=\"dataframe\">\n",
       "  <thead>\n",
       "    <tr style=\"text-align: right;\">\n",
       "      <th></th>\n",
       "      <th>SepalLength</th>\n",
       "      <th>SepalWidth</th>\n",
       "      <th>PetalLength</th>\n",
       "      <th>PetalWidth</th>\n",
       "    </tr>\n",
       "  </thead>\n",
       "  <tbody>\n",
       "    <tr>\n",
       "      <th>SepalLength</th>\n",
       "      <td>0.69</td>\n",
       "      <td>-0.04</td>\n",
       "      <td>1.27</td>\n",
       "      <td>0.52</td>\n",
       "    </tr>\n",
       "    <tr>\n",
       "      <th>SepalWidth</th>\n",
       "      <td>-0.04</td>\n",
       "      <td>0.19</td>\n",
       "      <td>-0.32</td>\n",
       "      <td>-0.12</td>\n",
       "    </tr>\n",
       "    <tr>\n",
       "      <th>PetalLength</th>\n",
       "      <td>1.27</td>\n",
       "      <td>-0.32</td>\n",
       "      <td>3.11</td>\n",
       "      <td>1.30</td>\n",
       "    </tr>\n",
       "    <tr>\n",
       "      <th>PetalWidth</th>\n",
       "      <td>0.52</td>\n",
       "      <td>-0.12</td>\n",
       "      <td>1.30</td>\n",
       "      <td>0.58</td>\n",
       "    </tr>\n",
       "  </tbody>\n",
       "</table>\n",
       "</div>"
      ],
      "text/plain": [
       "             SepalLength  SepalWidth  PetalLength  PetalWidth\n",
       "SepalLength         0.69       -0.04         1.27        0.52\n",
       "SepalWidth         -0.04        0.19        -0.32       -0.12\n",
       "PetalLength         1.27       -0.32         3.11        1.30\n",
       "PetalWidth          0.52       -0.12         1.30        0.58"
      ]
     },
     "execution_count": 11,
     "metadata": {},
     "output_type": "execute_result"
    }
   ],
   "source": [
    "irisdata.cov() # Calculating covariance matrix"
   ]
  },
  {
   "cell_type": "code",
   "execution_count": 12,
   "id": "0f6bae94-a4b5-447f-a3c1-468e265d9c0f",
   "metadata": {},
   "outputs": [
    {
     "data": {
      "text/html": [
       "<div>\n",
       "<style scoped>\n",
       "    .dataframe tbody tr th:only-of-type {\n",
       "        vertical-align: middle;\n",
       "    }\n",
       "\n",
       "    .dataframe tbody tr th {\n",
       "        vertical-align: top;\n",
       "    }\n",
       "\n",
       "    .dataframe thead th {\n",
       "        text-align: right;\n",
       "    }\n",
       "</style>\n",
       "<table border=\"1\" class=\"dataframe\">\n",
       "  <thead>\n",
       "    <tr style=\"text-align: right;\">\n",
       "      <th></th>\n",
       "      <th></th>\n",
       "      <th>SepalLength</th>\n",
       "      <th>SepalWidth</th>\n",
       "      <th>PetalLength</th>\n",
       "      <th>PetalWidth</th>\n",
       "    </tr>\n",
       "    <tr>\n",
       "      <th>Name</th>\n",
       "      <th></th>\n",
       "      <th></th>\n",
       "      <th></th>\n",
       "      <th></th>\n",
       "      <th></th>\n",
       "    </tr>\n",
       "  </thead>\n",
       "  <tbody>\n",
       "    <tr>\n",
       "      <th rowspan=\"4\" valign=\"top\">Iris-setosa</th>\n",
       "      <th>SepalLength</th>\n",
       "      <td>1.00</td>\n",
       "      <td>0.75</td>\n",
       "      <td>0.26</td>\n",
       "      <td>0.28</td>\n",
       "    </tr>\n",
       "    <tr>\n",
       "      <th>SepalWidth</th>\n",
       "      <td>0.75</td>\n",
       "      <td>1.00</td>\n",
       "      <td>0.18</td>\n",
       "      <td>0.28</td>\n",
       "    </tr>\n",
       "    <tr>\n",
       "      <th>PetalLength</th>\n",
       "      <td>0.26</td>\n",
       "      <td>0.18</td>\n",
       "      <td>1.00</td>\n",
       "      <td>0.31</td>\n",
       "    </tr>\n",
       "    <tr>\n",
       "      <th>PetalWidth</th>\n",
       "      <td>0.28</td>\n",
       "      <td>0.28</td>\n",
       "      <td>0.31</td>\n",
       "      <td>1.00</td>\n",
       "    </tr>\n",
       "    <tr>\n",
       "      <th rowspan=\"4\" valign=\"top\">Iris-versicolor</th>\n",
       "      <th>SepalLength</th>\n",
       "      <td>1.00</td>\n",
       "      <td>0.53</td>\n",
       "      <td>0.75</td>\n",
       "      <td>0.55</td>\n",
       "    </tr>\n",
       "    <tr>\n",
       "      <th>SepalWidth</th>\n",
       "      <td>0.53</td>\n",
       "      <td>1.00</td>\n",
       "      <td>0.56</td>\n",
       "      <td>0.66</td>\n",
       "    </tr>\n",
       "    <tr>\n",
       "      <th>PetalLength</th>\n",
       "      <td>0.75</td>\n",
       "      <td>0.56</td>\n",
       "      <td>1.00</td>\n",
       "      <td>0.79</td>\n",
       "    </tr>\n",
       "    <tr>\n",
       "      <th>PetalWidth</th>\n",
       "      <td>0.55</td>\n",
       "      <td>0.66</td>\n",
       "      <td>0.79</td>\n",
       "      <td>1.00</td>\n",
       "    </tr>\n",
       "    <tr>\n",
       "      <th rowspan=\"4\" valign=\"top\">Iris-virginica</th>\n",
       "      <th>SepalLength</th>\n",
       "      <td>1.00</td>\n",
       "      <td>0.46</td>\n",
       "      <td>0.86</td>\n",
       "      <td>0.28</td>\n",
       "    </tr>\n",
       "    <tr>\n",
       "      <th>SepalWidth</th>\n",
       "      <td>0.46</td>\n",
       "      <td>1.00</td>\n",
       "      <td>0.40</td>\n",
       "      <td>0.54</td>\n",
       "    </tr>\n",
       "    <tr>\n",
       "      <th>PetalLength</th>\n",
       "      <td>0.86</td>\n",
       "      <td>0.40</td>\n",
       "      <td>1.00</td>\n",
       "      <td>0.32</td>\n",
       "    </tr>\n",
       "    <tr>\n",
       "      <th>PetalWidth</th>\n",
       "      <td>0.28</td>\n",
       "      <td>0.54</td>\n",
       "      <td>0.32</td>\n",
       "      <td>1.00</td>\n",
       "    </tr>\n",
       "  </tbody>\n",
       "</table>\n",
       "</div>"
      ],
      "text/plain": [
       "                             SepalLength  SepalWidth  PetalLength  PetalWidth\n",
       "Name                                                                         \n",
       "Iris-setosa     SepalLength         1.00        0.75         0.26        0.28\n",
       "                SepalWidth          0.75        1.00         0.18        0.28\n",
       "                PetalLength         0.26        0.18         1.00        0.31\n",
       "                PetalWidth          0.28        0.28         0.31        1.00\n",
       "Iris-versicolor SepalLength         1.00        0.53         0.75        0.55\n",
       "                SepalWidth          0.53        1.00         0.56        0.66\n",
       "                PetalLength         0.75        0.56         1.00        0.79\n",
       "                PetalWidth          0.55        0.66         0.79        1.00\n",
       "Iris-virginica  SepalLength         1.00        0.46         0.86        0.28\n",
       "                SepalWidth          0.46        1.00         0.40        0.54\n",
       "                PetalLength         0.86        0.40         1.00        0.32\n",
       "                PetalWidth          0.28        0.54         0.32        1.00"
      ]
     },
     "execution_count": 12,
     "metadata": {},
     "output_type": "execute_result"
    }
   ],
   "source": [
    "irisdata.groupby('Name').corr() # Calculating correlation matrix"
   ]
  },
  {
   "cell_type": "markdown",
   "id": "2092673f-04b5-4c9d-9cef-0ff3b4ff3a45",
   "metadata": {},
   "source": [
    "__4. Data visulization: matplotlib__"
   ]
  },
  {
   "cell_type": "markdown",
   "id": "ee5e4a4b-8972-4c89-aab5-daecfc8f1dbf",
   "metadata": {},
   "source": [
    "- plt.bar: bar chart"
   ]
  },
  {
   "cell_type": "markdown",
   "id": "bc352338-5b53-4858-b01d-990cb9709308",
   "metadata": {},
   "source": [
    "- plt.scatter: scatter plot"
   ]
  },
  {
   "cell_type": "markdown",
   "id": "76851f3f-3556-452f-9473-d577f1d9310e",
   "metadata": {},
   "source": [
    "- plt.boxplot: the minimum, maximum, median, first quartile and third quartile in the data set."
   ]
  },
  {
   "cell_type": "markdown",
   "id": "48dc47b6-131b-4f51-856f-a34c0b8f071a",
   "metadata": {},
   "source": [
    "- plt.hist: histogram"
   ]
  },
  {
   "cell_type": "markdown",
   "id": "796eff65-d8dc-4aa6-8da1-aca818dd16c1",
   "metadata": {},
   "source": [
    "- plt.plot: line graph"
   ]
  },
  {
   "cell_type": "markdown",
   "id": "f6b3d0ea-1387-4186-a2f2-0fbf53126d39",
   "metadata": {},
   "source": [
    "- Also, hist(), boxplot(), and plot() method can be applied to DataFrame."
   ]
  },
  {
   "cell_type": "code",
   "execution_count": 25,
   "id": "b24cae4d-5117-4a4a-bbb5-04ca553bce8d",
   "metadata": {},
   "outputs": [
    {
     "data": {
      "image/png": "[encoded data removed]",
      "text/plain": [
       "<Figure size 432x288 with 2 Axes>"
      ]
     },
     "metadata": {
      "needs_background": "light"
     },
     "output_type": "display_data"
    }
   ],
   "source": [
    "plt.figure(figsize=(6,4)) # 데이터를 시각화할 배경의 크기를 먼저 설정한다.\n",
    "plt.subplot(1,2,1) # adding a subplot(row, column, order)\n",
    "plt.subplot(1,2,2)\n",
    "plt.show() # presenting a figure and closing the figure"
   ]
  },
  {
   "cell_type": "code",
   "execution_count": 26,
   "id": "baa618f3-f878-4e5c-935f-b89eebb9f42f",
   "metadata": {},
   "outputs": [
    {
     "data": {
      "image/png": "[encoded data removed]",
      "text/plain": [
       "<Figure size 432x288 with 1 Axes>"
      ]
     },
     "metadata": {
      "needs_background": "light"
     },
     "output_type": "display_data"
    }
   ],
   "source": [
    "iris.boxplot()\n",
    "plt.show()"
   ]
  },
  {
   "cell_type": "code",
   "execution_count": 27,
   "id": "4be74aca-9cb7-496a-abcd-1016ff454dd9",
   "metadata": {},
   "outputs": [
    {
     "data": {
      "image/png": "[encoded data removed]",
      "text/plain": [
       "<Figure size 432x288 with 4 Axes>"
      ]
     },
     "metadata": {
      "needs_background": "light"
     },
     "output_type": "display_data"
    }
   ],
   "source": [
    "iris.hist()\n",
    "plt.show()"
   ]
  },
  {
   "cell_type": "code",
   "execution_count": 28,
   "id": "38fba1ec-4f8a-461e-8a9c-47038d419980",
   "metadata": {},
   "outputs": [
    {
     "data": {
      "image/png": "[encoded data removed]",
      "text/plain": [
       "<Figure size 432x288 with 1 Axes>"
      ]
     },
     "metadata": {
      "needs_background": "light"
     },
     "output_type": "display_data"
    }
   ],
   "source": [
    "iris.plot()\n",
    "plt.show()"
   ]
  },
  {
   "cell_type": "code",
   "execution_count": 29,
   "id": "0e173733-5080-4b28-b3c0-fd92bed72891",
   "metadata": {},
   "outputs": [
    {
     "data": {
      "image/png": "[encoded data removed]",
      "text/plain": [
       "<Figure size 432x288 with 1 Axes>"
      ]
     },
     "metadata": {
      "needs_background": "light"
     },
     "output_type": "display_data"
    }
   ],
   "source": [
    "plt.scatter(iris['PetalL'],iris['PetalW'])\n",
    "plt.show()"
   ]
  },
  {
   "cell_type": "code",
   "execution_count": 33,
   "id": "930dc431-8af1-4354-97a5-55ffcfb00eb8",
   "metadata": {},
   "outputs": [
    {
     "data": {
      "image/png": "[encoded data removed]",
      "text/plain": [
       "<Figure size 864x216 with 2 Axes>"
      ]
     },
     "metadata": {
      "needs_background": "light"
     },
     "output_type": "display_data"
    }
   ],
   "source": [
    "year, number = (['1st Year', '2nd Year', '3rd Year', '4th Year'],[14, 11, 15, 18])\n",
    "plt.figure(figsize=(12, 3))\n",
    "plt.subplot(1,2,1)\n",
    "plt.bar(year, number)\n",
    "plt.subplot(1,2,2)\n",
    "plt.barh(year, number)\n",
    "plt.show()"
   ]
  },
  {
   "cell_type": "code",
   "execution_count": 34,
   "id": "f832fcb8-1d2d-4207-90c5-de2c2f928271",
   "metadata": {},
   "outputs": [
    {
     "data": {
      "image/png": "[encoded data removed]",
      "text/plain": [
       "<Figure size 432x216 with 1 Axes>"
      ]
     },
     "metadata": {
      "needs_background": "light"
     },
     "output_type": "display_data"
    }
   ],
   "source": [
    "students = pd.Series([14, 11, 15, 18], index=['1st Year', '2nd Year', '3rd Year', '4th Year'])\n",
    "plt.figure()\n",
    "students.sort_values().plot(kind='barh', grid=True, figsize=(6,3))\n",
    "plt.show()"
   ]
  },
  {
   "cell_type": "code",
   "execution_count": 35,
   "id": "1f17cd2d-1749-423d-a7be-f2bfacbdb5c7",
   "metadata": {},
   "outputs": [],
   "source": [
    "setosa = iris.iloc[0:50,:]\n",
    "versicolor = iris.iloc[50:100,:]\n",
    "verginica = iris.iloc[100:150,:]"
   ]
  },
  {
   "cell_type": "code",
   "execution_count": 36,
   "id": "f482f648-c0d4-48f8-bd53-275e9414bdd0",
   "metadata": {},
   "outputs": [
    {
     "data": {
      "image/png": "[encoded data removed]",
      "text/plain": [
       "<Figure size 432x288 with 1 Axes>"
      ]
     },
     "metadata": {
      "needs_background": "light"
     },
     "output_type": "display_data"
    }
   ],
   "source": [
    "x = np.linspace(0, 2*np.pi, 400)\n",
    "y = np.sin(x**2)\n",
    "\n",
    "fig, ax = plt.subplots()\n",
    "ax.plot(x, y)\n",
    "ax.set_title('Simple plot')\n",
    "plt.show()"
   ]
  },
  {
   "cell_type": "code",
   "execution_count": 40,
   "id": "fa48eaf7-aad3-4423-872d-db1571a64983",
   "metadata": {},
   "outputs": [
    {
     "data": {
      "text/plain": [
       "<function matplotlib.pyplot.show(close=None, block=None)>"
      ]
     },
     "execution_count": 40,
     "metadata": {},
     "output_type": "execute_result"
    },
    {
     "data": {
      "image/png": "[encoded data removed]",
      "text/plain": [
       "<Figure size 432x288 with 1 Axes>"
      ]
     },
     "metadata": {
      "needs_background": "light"
     },
     "output_type": "display_data"
    }
   ],
   "source": [
    "plt.figure(figsize=(6,4))\n",
    "plt.hist(iris['SepalL']) # 전체 데이터\n",
    "plt.hist(setosa['SepalL'])\n",
    "plt.hist(versicolor['SepalL'])\n",
    "plt.hist(verginica['SepalL'])\n",
    "plt.xlabel('Sepal Length(cm)', fontsize=10)\n",
    "plt.ylabel('Frequency', fontsize=10)\n",
    "plt.show"
   ]
  },
  {
   "cell_type": "code",
   "execution_count": 41,
   "id": "d2935264-2f4c-4fed-b771-ecba045d6ef3",
   "metadata": {},
   "outputs": [],
   "source": [
    "kinds = [setosa, versicolor, verginica]\n",
    "names = ['setosa', 'versicolor', 'verginica']"
   ]
  },
  {
   "cell_type": "code",
   "execution_count": 43,
   "id": "1cdb2b56-dbed-4073-b83a-4551b77e1dd2",
   "metadata": {},
   "outputs": [
    {
     "data": {
      "image/png": "[encoded data removed]",
      "text/plain": [
       "<Figure size 432x288 with 1 Axes>"
      ]
     },
     "metadata": {
      "needs_background": "light"
     },
     "output_type": "display_data"
    }
   ],
   "source": [
    "fig, ax = plt.subplots(figsize = (6,4))\n",
    "plt.hist(iris['SepalL'])\n",
    "for x, y in zip(names, kinds):\n",
    "    ax.hist(y.SepalL, label=x)\n",
    "plt.title('Distribution of Sepal by kinds')\n",
    "plt.xlabel('Sepal Length(cm)', fontsize=10)\n",
    "ax.legend(fontsize=10, loc='upper right')\n",
    "plt.ylabel('Frequency', fontsize=10)\n",
    "plt.show()"
   ]
  },
  {
   "cell_type": "code",
   "execution_count": 46,
   "id": "7a6faf21-ff4d-4409-8616-f02fa1a09c02",
   "metadata": {},
   "outputs": [
    {
     "data": {
      "image/png": "[encoded data removed]",
      "text/plain": [
       "<Figure size 432x360 with 1 Axes>"
      ]
     },
     "metadata": {
      "needs_background": "light"
     },
     "output_type": "display_data"
    }
   ],
   "source": [
    "fig, ax = plt.subplots(figsize = (6,5))\n",
    "for name, kind in zip(names, kinds):\n",
    "    ax.plot(kind.PetalL,\n",
    "            kind.PetalW,\n",
    "            marker='*',\n",
    "            linestyle='',\n",
    "            label=name)\n",
    "ax.legend(fontsize=10, loc='upper left')\n",
    "fig.suptitle('Distribution of Sepal by kinds')\n",
    "plt.xlabel('Petal Length(cm)', fontsize=10)\n",
    "plt.ylabel('Petal Width(cm)', fontsize=10)\n",
    "plt.show()"
   ]
  },
  {
   "cell_type": "code",
   "execution_count": 51,
   "id": "5dbb3477-faeb-4719-93f7-2714e04dbdd9",
   "metadata": {},
   "outputs": [
    {
     "data": {
      "image/png": "[encoded data removed]",
      "text/plain": [
       "<Figure size 504x288 with 1 Axes>"
      ]
     },
     "metadata": {},
     "output_type": "display_data"
    }
   ],
   "source": [
    "fig, ax = plt.subplots(figsize=(7,4))\n",
    "ax.pie(students, explode=(0, 0.1, 0, 0.1), labels= students.index,\n",
    "       autopct='%1.2f%%', shadow=True, startangle=90) # explode는 그래프 조각을 떨어뜨리는 역활을 한다.\n",
    "fig.suptitle(\"Students by Year\", fontsize=14)\n",
    "ax.axis('equal')\n",
    "plt.show()"
   ]
  },
  {
   "cell_type": "code",
   "execution_count": 54,
   "id": "4a50307c-a5a3-4ae0-9d87-77f9742c82f8",
   "metadata": {},
   "outputs": [
    {
     "data": {
      "image/png": "[encoded data removed]",
      "text/plain": [
       "<Figure size 576x432 with 1 Axes>"
      ]
     },
     "metadata": {},
     "output_type": "display_data"
    }
   ],
   "source": [
    "import seaborn as sns\n",
    "plt.figure(figsize=(8,6))\n",
    "sns.set_style('whitegrid')\n",
    "iris_scat = sns.scatterplot(x='PetalL', y='PetalW', palette = 'bright',\n",
    "                            hue='Name', style='Name', s=80, data=iris)\n",
    "iris_scat.set_title('Iris Distribution by Sepal', fontsize = 14)\n",
    "iris_scat.set(xlabel = 'Sepal Length(cm)', ylabel='Sepal Width(cm)')\n",
    "plt.show()"
   ]
  },
  {
   "cell_type": "code",
   "execution_count": 56,
   "id": "454c25a5-4481-48df-9164-b3383b1de1dd",
   "metadata": {},
   "outputs": [
    {
     "data": {
      "image/png": "[encoded data removed]",
      "text/plain": [
       "<Figure size 432x432 with 1 Axes>"
      ]
     },
     "metadata": {},
     "output_type": "display_data"
    }
   ],
   "source": [
    "plt.figure(figsize=(6,6))\n",
    "sns.boxplot(x='Name', y='SepalW', data=iris)\n",
    "plt.show()"
   ]
  },
  {
   "cell_type": "code",
   "execution_count": null,
   "id": "cd4a3e5f-8074-442a-ac04-286ffe51ca3c",
   "metadata": {},
   "outputs": [],
   "source": []
  }
 ],
 "metadata": {
  "kernelspec": {
   "display_name": "Python 3 (ipykernel)",
   "language": "python",
   "name": "python3"
  },
  "language_info": {
   "codemirror_mode": {
    "name": "ipython",
    "version": 3
   },
   "file_extension": ".py",
   "mimetype": "text/x-python",
   "name": "python",
   "nbconvert_exporter": "python",
   "pygments_lexer": "ipython3",
   "version": "3.7.11"
  }
 },
 "nbformat": 4,
 "nbformat_minor": 5
}
