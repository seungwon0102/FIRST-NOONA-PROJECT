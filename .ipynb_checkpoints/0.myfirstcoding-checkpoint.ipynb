{
 "cells": [
  {
   "cell_type": "code",
   "execution_count": 1,
   "id": "07faf114-715e-477e-9385-5312d547125b",
   "metadata": {},
   "outputs": [],
   "source": [
    "import tensorflow as tf"
   ]
  },
  {
   "cell_type": "code",
   "execution_count": 4,
   "id": "accf6439-53bd-4532-ba4e-e50451969182",
   "metadata": {},
   "outputs": [
    {
     "name": "stdout",
     "output_type": "stream",
     "text": [
      "b'Hellow tensorflow'\n"
     ]
    }
   ],
   "source": [
    "hellow=tf.constant('Hellow tensorflow')\n",
    "sess=tf.Session()\n",
    "print(sess.run(hellow))"
   ]
  },
  {
   "cell_type": "code",
   "execution_count": 5,
   "id": "70f2c362-bfd6-4d3d-8fd3-aace0c0070ef",
   "metadata": {},
   "outputs": [
    {
     "name": "stdout",
     "output_type": "stream",
     "text": [
      "myfirstcoding\n"
     ]
    }
   ],
   "source": [
    "print('myfirstcoding')"
   ]
  },
  {
   "cell_type": "code",
   "execution_count": null,
   "id": "39964551-cbac-47f5-8136-d028c4c323e0",
   "metadata": {},
   "outputs": [],
   "source": []
  }
 ],
 "metadata": {
  "kernelspec": {
   "display_name": "Python 3 (ipykernel)",
   "language": "python",
   "name": "python3"
  },
  "language_info": {
   "codemirror_mode": {
    "name": "ipython",
    "version": 3
   },
   "file_extension": ".py",
   "mimetype": "text/x-python",
   "name": "python",
   "nbconvert_exporter": "python",
   "pygments_lexer": "ipython3",
   "version": "3.7.11"
  }
 },
 "nbformat": 4,
 "nbformat_minor": 5
}
