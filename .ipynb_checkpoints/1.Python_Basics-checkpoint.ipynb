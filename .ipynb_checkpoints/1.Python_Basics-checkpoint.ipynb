{
 "cells": [
  {
   "cell_type": "markdown",
   "id": "5b7cc129-28e3-4d70-b69d-7f2fac1fc036",
   "metadata": {
    "tags": []
   },
   "source": [
    "## Python Basics"
   ]
  },
  {
   "cell_type": "markdown",
   "id": "e4a72fde-2a61-4083-a20a-7e258b9342ba",
   "metadata": {},
   "source": [
    "__1. Correct indentation and strings__"
   ]
  },
  {
   "cell_type": "code",
   "execution_count": 1,
   "id": "eb2b8c04-efa9-49d0-b3a1-e6d029c90adb",
   "metadata": {},
   "outputs": [
    {
     "name": "stdout",
     "output_type": "stream",
     "text": [
      "This Kooc is an excellent course\n",
      "Course name \n",
      "is Practical Python\n",
      "Those who don't take this Kooc would regret their decisions\n"
     ]
    }
   ],
   "source": [
    "print('This Kooc is an excellent course')\n",
    "print(\"Course name \\nis Practical Python\")\n",
    "print(\"Those who don't take this Kooc would regret their decisions\")"
   ]
  },
  {
   "cell_type": "code",
   "execution_count": 2,
   "id": "73b9e81b-9586-4bb0-ac24-f2beb0ac9e7b",
   "metadata": {},
   "outputs": [
    {
     "data": {
      "text/plain": [
       "40"
      ]
     },
     "execution_count": 2,
     "metadata": {},
     "output_type": "execute_result"
    }
   ],
   "source": [
    "# addition: using a hash(#) sign, you can write memos.\n",
    "23+17"
   ]
  },
  {
   "cell_type": "code",
   "execution_count": 3,
   "id": "bc935562-5ddc-4918-a3fe-2c0762bb6d4c",
   "metadata": {},
   "outputs": [
    {
     "data": {
      "text/plain": [
       "0.6666666666666666"
      ]
     },
     "execution_count": 3,
     "metadata": {},
     "output_type": "execute_result"
    }
   ],
   "source": [
    "2/3"
   ]
  },
  {
   "cell_type": "code",
   "execution_count": 4,
   "id": "873d12f9-debb-4d8f-ac31-9e34c270e930",
   "metadata": {},
   "outputs": [
    {
     "name": "stdout",
     "output_type": "stream",
     "text": [
      "40 6 391 1.3529411764705883\n"
     ]
    }
   ],
   "source": [
    "x = 23; y = 17\n",
    "x + y\n",
    "print(x + y, x -y, x * y, x/y)"
   ]
  },
  {
   "cell_type": "code",
   "execution_count": 5,
   "id": "ae8c2f57-1f4a-47b2-b99c-5400d0f3983e",
   "metadata": {},
   "outputs": [
    {
     "ename": "SyntaxError",
     "evalue": "cannot assign to literal (2276112635.py, line 1)",
     "output_type": "error",
     "traceback": [
      "\u001b[1;36m  Input \u001b[1;32mIn [5]\u001b[1;36m\u001b[0m\n\u001b[1;33m    x = 23, y = 17\u001b[0m\n\u001b[1;37m        ^\u001b[0m\n\u001b[1;31mSyntaxError\u001b[0m\u001b[1;31m:\u001b[0m cannot assign to literal\n"
     ]
    }
   ],
   "source": [
    "x = 23, y = 17\n",
    "x + y"
   ]
  },
  {
   "cell_type": "code",
   "execution_count": 6,
   "id": "71cb6173-55f2-4e7c-9794-1f8c9e45b7f1",
   "metadata": {},
   "outputs": [
    {
     "name": "stdout",
     "output_type": "stream",
     "text": [
      "y + z = 12.5\n",
      "z - y = 2.5\n",
      "y**2 = 25\n",
      "z//y = 1.0\n",
      "z%y = 2.5\n",
      "<class 'int'>\n",
      "<class 'float'>\n"
     ]
    }
   ],
   "source": [
    "y = 5\n",
    "z = 7.5\n",
    "print(\"y + z =\", y + z)\n",
    "print(\"z - y =\", z - y)\n",
    "print(\"y**2 =\", y**2)\n",
    "print(\"z//y =\", z//y)\n",
    "print('z%y =', z%y)\n",
    "print(type(y))\n",
    "print(type(z))"
   ]
  },
  {
   "cell_type": "code",
   "execution_count": 7,
   "id": "f6b43564-d638-4565-a73b-04b826704995",
   "metadata": {},
   "outputs": [
    {
     "name": "stdout",
     "output_type": "stream",
     "text": [
      "True\n",
      "False\n",
      "<class 'bool'> True\n"
     ]
    }
   ],
   "source": [
    "print(7 > 3)\n",
    "print(3 > 7)\n",
    "x = 7 > 3\n",
    "print(type(x), x)"
   ]
  },
  {
   "cell_type": "code",
   "execution_count": 8,
   "id": "3d4008ca-dc5f-4380-999a-9efa256b7ad3",
   "metadata": {},
   "outputs": [
    {
     "data": {
      "text/plain": [
       "'Triple quoted strings are used to write multiple line strings.\\nthis is an example of a doc string.'"
      ]
     },
     "execution_count": 8,
     "metadata": {},
     "output_type": "execute_result"
    }
   ],
   "source": [
    "\"\"\"Triple quoted strings are used to write multiple line strings.\n",
    "this is an example of a doc string.\"\"\""
   ]
  },
  {
   "cell_type": "code",
   "execution_count": 10,
   "id": "e0fc95f3-1dc1-4f26-971b-2c7bae01d588",
   "metadata": {},
   "outputs": [
    {
     "name": "stdin",
     "output_type": "stream",
     "text": [
      "What is your name? dico\n"
     ]
    },
    {
     "name": "stdout",
     "output_type": "stream",
     "text": [
      "dico\n"
     ]
    }
   ],
   "source": [
    "your_name = input('What is your name?')\n",
    "print(your_name)"
   ]
  },
  {
   "cell_type": "code",
   "execution_count": 11,
   "id": "3927805b-354e-49c6-8444-f296ba3239ba",
   "metadata": {},
   "outputs": [
    {
     "name": "stdin",
     "output_type": "stream",
     "text": [
      "How old are you? 15\n"
     ]
    },
    {
     "name": "stdout",
     "output_type": "stream",
     "text": [
      "15 <class 'str'>\n"
     ]
    }
   ],
   "source": [
    "your_age = input('How old are you?')\n",
    "print(your_age, type(your_age))"
   ]
  },
  {
   "cell_type": "code",
   "execution_count": 12,
   "id": "13f5f0fb-d99d-498c-beec-c30a64a9a032",
   "metadata": {},
   "outputs": [
    {
     "name": "stdin",
     "output_type": "stream",
     "text": [
      "How old am I 52\n"
     ]
    },
    {
     "name": "stdout",
     "output_type": "stream",
     "text": [
      "1552\n"
     ]
    }
   ],
   "source": [
    "my_age = input('How old am I')\n",
    "print(your_age+my_age)"
   ]
  },
  {
   "cell_type": "code",
   "execution_count": 13,
   "id": "d12e0d81-a67e-45e8-8fcd-6247c68e8bb1",
   "metadata": {},
   "outputs": [
    {
     "name": "stdout",
     "output_type": "stream",
     "text": [
      "67\n"
     ]
    },
    {
     "data": {
      "text/plain": [
       "21"
      ]
     },
     "execution_count": 13,
     "metadata": {},
     "output_type": "execute_result"
    }
   ],
   "source": [
    "print(int(your_age)+int(my_age))\n",
    "int(21.8)"
   ]
  },
  {
   "cell_type": "code",
   "execution_count": 14,
   "id": "80deb20a-f335-44d4-89ea-09f5e6f047be",
   "metadata": {},
   "outputs": [
    {
     "name": "stdout",
     "output_type": "stream",
     "text": [
      "67.0\n"
     ]
    }
   ],
   "source": [
    "print(float(your_age)+int(my_age))"
   ]
  },
  {
   "cell_type": "markdown",
   "id": "77b9832c-b4aa-462d-ac78-3d5255ed03b2",
   "metadata": {},
   "source": [
    "__6. if clause and comparison operators__"
   ]
  },
  {
   "cell_type": "markdown",
   "id": "221b3495-5735-4887-8d2c-969dd228a1bd",
   "metadata": {},
   "source": [
    "[comparsion operators] = 비교 연산자"
   ]
  },
  {
   "cell_type": "code",
   "execution_count": 19,
   "id": "e43f2676-7100-4a5d-a78a-ab2cde67d4b7",
   "metadata": {},
   "outputs": [
    {
     "name": "stdin",
     "output_type": "stream",
     "text": [
      "Enter an integer 1\n"
     ]
    },
    {
     "name": "stdout",
     "output_type": "stream",
     "text": [
      "x has a value of 1\n"
     ]
    }
   ],
   "source": [
    "x = int(input('Enter an integer'))\n",
    "\n",
    "if x == 1:\n",
    "    print('x has a value of 1')\n",
    "else:\n",
    "    print('x does not have a value of 1')"
   ]
  },
  {
   "cell_type": "code",
   "execution_count": 21,
   "id": "6333f04a-9c79-4e4c-bed8-14d05a868180",
   "metadata": {},
   "outputs": [
    {
     "name": "stdin",
     "output_type": "stream",
     "text": [
      "Enter the first integer -1\n"
     ]
    },
    {
     "name": "stdout",
     "output_type": "stream",
     "text": [
      "The first integer is  -1 and its value is negative.\n"
     ]
    },
    {
     "name": "stdin",
     "output_type": "stream",
     "text": [
      "inter the second integer 12\n"
     ]
    },
    {
     "name": "stdout",
     "output_type": "stream",
     "text": [
      "The second integer is positive and its value is  12\n"
     ]
    }
   ],
   "source": [
    "var1 = int(input('Enter the first integer'))\n",
    "if var1 < 0:\n",
    "    print('The first integer is ', var1, 'and its value is negative.')\n",
    "\n",
    "var2 = int(input('inter the second integer'))\n",
    "if var2 < 0:\n",
    "    print(\"The second integer is negative\", \"and its value is \", var2)\n",
    "else:\n",
    "    print(\"The second integer is positive\", \"and its value is \", var2)"
   ]
  },
  {
   "cell_type": "markdown",
   "id": "e59ef8df-ada4-4e85-bd22-90e444dbcfc1",
   "metadata": {},
   "source": [
    "__7.Dynamic value assignment and type changing__"
   ]
  },
  {
   "cell_type": "markdown",
   "id": "de0c3461-6c84-49a5-9e65-3c2018dddeaa",
   "metadata": {},
   "source": [
    "● What happens if you assign different values for the same variable?"
   ]
  },
  {
   "cell_type": "code",
   "execution_count": 24,
   "id": "2374365e-551d-46a0-be6c-aa99f3476ece",
   "metadata": {},
   "outputs": [
    {
     "name": "stdout",
     "output_type": "stream",
     "text": [
      "1 <class 'int'>\n",
      "2.5 <class 'float'>\n",
      "Arnold <class 'str'>\n"
     ]
    }
   ],
   "source": [
    "print(x, type(x))\n",
    "\n",
    "x = 2.5\n",
    "print(x, type(x))\n",
    "\n",
    "x = 'Arnold'\n",
    "print(x, type(x))"
   ]
  },
  {
   "cell_type": "markdown",
   "id": "9fd7a4ab-5bda-4116-934e-0a2f271be8ed",
   "metadata": {},
   "source": [
    "__8.Multiple statements on a single line__"
   ]
  },
  {
   "cell_type": "markdown",
   "id": "a849cfe1-3805-41b0-89d7-9170a01ab325",
   "metadata": {},
   "source": [
    "● separate two command lines with semicoln"
   ]
  },
  {
   "cell_type": "code",
   "execution_count": 28,
   "id": "1b097004-942e-4ff0-afc0-a4830c5d3089",
   "metadata": {},
   "outputs": [
    {
     "name": "stdout",
     "output_type": "stream",
     "text": [
      "Hello!\n",
      "This is KOOC content \n",
      "for Python basics.\n"
     ]
    }
   ],
   "source": [
    "print(\"Hello!\"); print(\"This is KOOC content \\nfor Python basics.\")"
   ]
  },
  {
   "cell_type": "code",
   "execution_count": null,
   "id": "3a5bfb8a-5069-4cbb-aa98-b51a38c9c2eb",
   "metadata": {},
   "outputs": [],
   "source": []
  }
 ],
 "metadata": {
  "kernelspec": {
   "display_name": "Python 3 (ipykernel)",
   "language": "python",
   "name": "python3"
  },
  "language_info": {
   "codemirror_mode": {
    "name": "ipython",
    "version": 3
   },
   "file_extension": ".py",
   "mimetype": "text/x-python",
   "name": "python",
   "nbconvert_exporter": "python",
   "pygments_lexer": "ipython3",
   "version": "3.9.7"
  }
 },
 "nbformat": 4,
 "nbformat_minor": 5
}
