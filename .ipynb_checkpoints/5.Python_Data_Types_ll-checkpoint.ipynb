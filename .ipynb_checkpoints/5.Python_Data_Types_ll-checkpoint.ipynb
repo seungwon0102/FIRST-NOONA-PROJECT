{
 "cells": [
  {
   "cell_type": "markdown",
   "id": "1d5c6263-bb7f-42d2-b11d-2a9de37b92c2",
   "metadata": {},
   "source": [
    "## Python: Dictionaries and Sets"
   ]
  },
  {
   "cell_type": "markdown",
   "id": "8cb4d519-d175-4877-90f6-3fdc3e9f39cc",
   "metadata": {},
   "source": [
    "__1. Dictionaries: Creating, updating, and oprations__"
   ]
  },
  {
   "cell_type": "markdown",
   "id": "14a76b5d-f062-437d-b1ab-fc897416370d",
   "metadata": {},
   "source": [
    "- __Keys must be unique (no overlapping elements) and immutable.__"
   ]
  },
  {
   "cell_type": "markdown",
   "id": "24f63b30-753b-4d4f-a65b-c66ddff1a3db",
   "metadata": {},
   "source": [
    "- However, Keys can have the same value."
   ]
  },
  {
   "cell_type": "markdown",
   "id": "bcd1d952-1dd3-4b11-9f09-e4bcbaec577a",
   "metadata": {},
   "source": [
    "- Dictionaries are often used in ML for providing values to variables."
   ]
  },
  {
   "cell_type": "code",
   "execution_count": 10,
   "id": "21fc3720-27a7-4c33-98a6-76e76ce970f6",
   "metadata": {},
   "outputs": [
    {
     "name": "stdout",
     "output_type": "stream",
     "text": [
      "{'Korea': 'kr', 'Japan': 'jp', 'Taiwan': 'tw', 'Finland': 'fi'}\n",
      "4\n",
      "kr\n"
     ]
    }
   ],
   "source": [
    "# Marking a dictionary with a comma separated paired list, key: value, ...}.\n",
    "countries = {'Korea':'kr', 'Japan':'jp', 'Taiwan':'tw', 'Finland':'fi'}\n",
    "print(countries) # dictionary의 표현 방법은 중괄호를 사용하고 key값: values값\n",
    "print(len(countries))\n",
    "print(countries['Korea']) #index를 활용한 방법"
   ]
  },
  {
   "cell_type": "code",
   "execution_count": 11,
   "id": "6d386eac-c6fd-40f0-a030-8ea85fc80fb5",
   "metadata": {},
   "outputs": [
    {
     "name": "stdout",
     "output_type": "stream",
     "text": [
      "False\n",
      "{'Korea': 82, 'Japan': 'jp', 'Taiwan': 'tw', 'Finland': 'fi'}\n",
      "{'Korea': 82, 'Japan': '81', 'Taiwan': 'tw', 'Finland': 'fi'}\n",
      "{'Korea': 82, 'Japan': '81', 'Taiwan': 'tw', 'Finland': 'fi', 'Canada': 'ca'}\n",
      "{'Korea': 82, 'Japan': '81', 'Taiwan': 'tw', 'Finland': 'fi', 'Canada': 'ca', 'China': 'cn'}\n",
      "{'Japan': '81', 'Taiwan': 'tw', 'Finland': 'fi', 'Canada': 'ca', 'China': 'cn'}\n"
     ]
    }
   ],
   "source": [
    "# Dictionary operations\n",
    "print('korea' in countries) #'in'기능은 true와 false표현이 가능하다.\n",
    "countries['Korea'] = 82 # value값 숫자로 교체\n",
    "print(countries)\n",
    "countries.update(Japan = '81') #value값 문자로 교체\n",
    "print(countries)\n",
    "countries['Canada'] = 'ca' #추가\n",
    "print(countries)\n",
    "countries.update(China = 'cn')\n",
    "print(countries)\n",
    "del countries['Korea'] #삭제\n",
    "print(countries)"
   ]
  },
  {
   "cell_type": "code",
   "execution_count": 14,
   "id": "63762c0c-e718-43b9-b182-12b6ee1fe22f",
   "metadata": {},
   "outputs": [
    {
     "name": "stdout",
     "output_type": "stream",
     "text": [
      "81\n",
      "None\n"
     ]
    }
   ],
   "source": [
    "# Dictionary operations\n",
    "print(countries.get('Japan'))\n",
    "print(countries.get('Korea'))"
   ]
  },
  {
   "cell_type": "markdown",
   "id": "071643c4-f49e-4b97-b753-2621b3e7a992",
   "metadata": {},
   "source": [
    "__2. Dictionaries: Iterations and extractions__"
   ]
  },
  {
   "cell_type": "code",
   "execution_count": 18,
   "id": "4a40bac8-c4de-4f39-9a66-634e20bab52f",
   "metadata": {},
   "outputs": [
    {
     "name": "stdout",
     "output_type": "stream",
     "text": [
      "The country code of Korea is kr.\n",
      "The country code of Japan is jp.\n",
      "The country code of Taiwan is tw.\n",
      "The country code of Finland is fi.\n"
     ]
    }
   ],
   "source": [
    "# Iterating elements in a dictionary\n",
    "countries = {'Korea':'kr', 'Japan':'jp', 'Taiwan':'tw', 'Finland':'fi'}\n",
    "for country, code in countries.items(): # items method return key and values\n",
    "    print(f'The country code of {country} is {code}.')"
   ]
  },
  {
   "cell_type": "code",
   "execution_count": 19,
   "id": "cc9b42ef-8e25-4c48-9288-5f84f6b405b3",
   "metadata": {},
   "outputs": [
    {
     "name": "stdout",
     "output_type": "stream",
     "text": [
      "Korea Japan Taiwan Finland \n",
      "kr jp tw fi "
     ]
    }
   ],
   "source": [
    "for country in countries.keys():\n",
    "    print(country, end=' ')\n",
    "print()\n",
    "for codes in countries.values():\n",
    "    print(codes, end=' ')"
   ]
  },
  {
   "cell_type": "code",
   "execution_count": 23,
   "id": "30e7c089-a475-4414-974e-5244359cb1b3",
   "metadata": {},
   "outputs": [
    {
     "name": "stdout",
     "output_type": "stream",
     "text": [
      "['Korea', 'Japan', 'Taiwan', 'Finland']\n",
      "[82, 81, 886, 358]\n",
      "[('Korea', 82), ('Japan', 81), ('Taiwan', 886), ('Finland', 358)] ('Japan', 81)\n",
      "([('Korea', 82), ('Japan', 81), ('Taiwan', 886), ('Finland', 358)], [('Korea', 82), ('Japan', 81)])\n"
     ]
    }
   ],
   "source": [
    "c_codes = {'Korea':82, 'Japan':81, 'Taiwan':886, 'Finland':358}\n",
    "print(list(c_codes.keys()))\n",
    "print(list(c_codes.values()))\n",
    "l_countries = list(c_codes.items()) # list로 만든 후 출력하는 방법\n",
    "print(l_countries, l_countries[1])\n",
    "sliced_c = l_countries, l_countries[:2]\n",
    "print(sliced_c)"
   ]
  },
  {
   "cell_type": "markdown",
   "id": "d00bc6c2-12dd-434e-8820-41dfd27831f0",
   "metadata": {},
   "source": [
    "(Exercise) Printing the country name and code without using items() method?"
   ]
  },
  {
   "cell_type": "code",
   "execution_count": 24,
   "id": "94442a3b-b238-48ac-9d88-c8bc874aedf1",
   "metadata": {},
   "outputs": [
    {
     "name": "stdout",
     "output_type": "stream",
     "text": [
      "The country code of Korea is kr.\n",
      "The country code of Japan is jp.\n",
      "The country code of Taiwan is tw.\n",
      "The country code of Finland is fi.\n"
     ]
    }
   ],
   "source": [
    "for i, j in zip(countries.keys(), countries.values()):\n",
    "    print(f'The country code of {i} is {j}.')"
   ]
  },
  {
   "cell_type": "markdown",
   "id": "b5f08116-1781-4cb8-b1fc-c85ec93467d8",
   "metadata": {},
   "source": [
    "__3. Dictionaries: Sorting and comprehension expression.__"
   ]
  },
  {
   "cell_type": "code",
   "execution_count": 37,
   "id": "a3740799-a941-450a-826b-aca117661fc3",
   "metadata": {},
   "outputs": [
    {
     "name": "stdout",
     "output_type": "stream",
     "text": [
      "['Finland', 'Japan', 'Korea', 'Taiwan']\n",
      "['Finland', 'Japan', 'Korea', 'Taiwan']\n",
      "[81, 82, 358, 886]\n",
      "[('Finland', 358), ('Japan', 81), ('Korea', 82), ('Taiwan', 886)]\n"
     ]
    }
   ],
   "source": [
    "print(sorted(c_codes)) #key값 반환\n",
    "print(sorted(c_codes.keys()))\n",
    "print(sorted(c_codes.values()))\n",
    "print(sorted(c_codes.items()))"
   ]
  },
  {
   "cell_type": "code",
   "execution_count": 38,
   "id": "7be9e3c1-948a-47a9-81bf-c921639a07e6",
   "metadata": {},
   "outputs": [
    {
     "name": "stdout",
     "output_type": "stream",
     "text": [
      "[(81, 'Japan'), (82, 'Korea'), (358, 'Finland'), (886, 'Taiwan')]\n",
      "{'Japan': 27.333333333333332, 'Korea': 26.666666666666668}\n",
      "{'Japan': 81, 'Korea': 82, 'Finland': 358, 'Taiwan': 886}\n"
     ]
    }
   ],
   "source": [
    "switched = {code: country for country, code in c_codes.items()}\n",
    "print(sorted(switched.items()))\n",
    "\n",
    "temperature = {'Japan':[23, 34, 25], 'Korea':[22, 33, 25]}\n",
    "temp_mean = {k: sum(v)/len(v) for k, v in temperature.items()}\n",
    "print(temp_mean)\n",
    "\n",
    "s_value = {k: v for k, v in sorted(c_codes.items(), key=lambda country: country[1])}\n",
    "print(s_value) #기본적으로 sorted는 key값 기준인데 value 기준으로 sorted하는 방법"
   ]
  },
  {
   "cell_type": "code",
   "execution_count": 40,
   "id": "51966b73-3f9f-4c97-9b55-49ace1899235",
   "metadata": {},
   "outputs": [],
   "source": [
    "#Tokenizing strings\n",
    "dream = \"\"\"I have a dream that one day this nation will rise up and live out the true meaning of its creed We hold these truths to be self-evident that all men are created equal I have a dream that one day on the red hills of Georgia the sons of former slaves and the sons of former slave owners will be able to sit down together at the table of brotherhood I have a dream that one day even the state of Mississippi a state sweltering with the heat of injustice sweltering with the heat of oppression, will be transformed into an oasis of freedom and justice\n",
    "\n",
    "I have a dream that my four little children will one day live in a nation where they will not be judged by the color of their skin but by the content of their character I have a dream today I have a dream that one day, down in Alabama, with its vicious racists, with its governor having his lips dripping with the words of interposition and nullification one day right there in Alabama little black boys and black girls will be able to join hands with little white boys and white girls as sisters and brothers\"\"\""
   ]
  },
  {
   "cell_type": "code",
   "execution_count": 42,
   "id": "cb6ddcd6-05fc-4c92-8119-836cd4e95ecd",
   "metadata": {},
   "outputs": [
    {
     "name": "stdout",
     "output_type": "stream",
     "text": [
      "['I', 'have', 'a', 'dream', 'that', 'one', 'day', 'this', 'nation', 'will', 'rise', 'up', 'and', 'live', 'out', 'the', 'true', 'meaning', 'of', 'its', 'creed', 'We', 'hold', 'these', 'truths', 'to', 'be', 'self-evident', 'that', 'all', 'men', 'are', 'created', 'equal', 'I', 'have', 'a', 'dream', 'that', 'one', 'day', 'on', 'the', 'red', 'hills', 'of', 'Georgia', 'the', 'sons', 'of', 'former', 'slaves', 'and', 'the', 'sons', 'of', 'former', 'slave', 'owners', 'will', 'be', 'able', 'to', 'sit', 'down', 'together', 'at', 'the', 'table', 'of', 'brotherhood', 'I', 'have', 'a', 'dream', 'that', 'one', 'day', 'even', 'the', 'state', 'of', 'Mississippi', 'a', 'state', 'sweltering', 'with', 'the', 'heat', 'of', 'injustice', 'sweltering', 'with', 'the', 'heat', 'of', 'oppression,', 'will', 'be', 'transformed', 'into', 'an', 'oasis', 'of', 'freedom', 'and', 'justice', 'I', 'have', 'a', 'dream', 'that', 'my', 'four', 'little', 'children', 'will', 'one', 'day', 'live', 'in', 'a', 'nation', 'where', 'they', 'will', 'not', 'be', 'judged', 'by', 'the', 'color', 'of', 'their', 'skin', 'but', 'by', 'the', 'content', 'of', 'their', 'character', 'I', 'have', 'a', 'dream', 'today', 'I', 'have', 'a', 'dream', 'that', 'one', 'day,', 'down', 'in', 'Alabama,', 'with', 'its', 'vicious', 'racists,', 'with', 'its', 'governor', 'having', 'his', 'lips', 'dripping', 'with', 'the', 'words', 'of', 'interposition', 'and', 'nullification', 'one', 'day', 'right', 'there', 'in', 'Alabama', 'little', 'black', 'boys', 'and', 'black', 'girls', 'will', 'be', 'able', 'to', 'join', 'hands', 'with', 'little', 'white', 'boys', 'and', 'white', 'girls', 'as', 'sisters', 'and', 'brothers']\n"
     ]
    }
   ],
   "source": [
    "dream_words = dream.split() #split 기능은 문장을 단어로 분리하는 기능\n",
    "print(dream_words) #[]이므로 리스트 형태이다."
   ]
  },
  {
   "cell_type": "code",
   "execution_count": 43,
   "id": "169844f5-05f5-4dfe-8d8a-81d33fbf8ef3",
   "metadata": {},
   "outputs": [
    {
     "name": "stdout",
     "output_type": "stream",
     "text": [
      "{'I': 6, 'have': 6, 'a': 8, 'dream': 6, 'that': 6, 'one': 6, 'day': 5, 'this': 1, 'nation': 2, 'will': 6, 'rise': 1, 'up': 1, 'and': 7, 'live': 2, 'out': 1, 'the': 11, 'true': 1, 'meaning': 1, 'of': 12, 'its': 3, 'creed': 1, 'We': 1, 'hold': 1, 'these': 1, 'truths': 1, 'to': 3, 'be': 5, 'self-evident': 1, 'all': 1, 'men': 1, 'are': 1, 'created': 1, 'equal': 1, 'on': 1, 'red': 1, 'hills': 1, 'Georgia': 1, 'sons': 2, 'former': 2, 'slaves': 1, 'slave': 1, 'owners': 1, 'able': 2, 'sit': 1, 'down': 2, 'together': 1, 'at': 1, 'table': 1, 'brotherhood': 1, 'even': 1, 'state': 2, 'Mississippi': 1, 'sweltering': 2, 'with': 6, 'heat': 2, 'injustice': 1, 'oppression,': 1, 'transformed': 1, 'into': 1, 'an': 1, 'oasis': 1, 'freedom': 1, 'justice': 1, 'my': 1, 'four': 1, 'little': 3, 'children': 1, 'in': 3, 'where': 1, 'they': 1, 'not': 1, 'judged': 1, 'by': 2, 'color': 1, 'their': 2, 'skin': 1, 'but': 1, 'content': 1, 'character': 1, 'today': 1, 'day,': 1, 'Alabama,': 1, 'vicious': 1, 'racists,': 1, 'governor': 1, 'having': 1, 'his': 1, 'lips': 1, 'dripping': 1, 'words': 1, 'interposition': 1, 'nullification': 1, 'right': 1, 'there': 1, 'Alabama': 1, 'black': 2, 'boys': 2, 'girls': 2, 'join': 1, 'hands': 1, 'white': 2, 'as': 1, 'sisters': 1, 'brothers': 1} 104\n"
     ]
    }
   ],
   "source": [
    "wordlist = {}\n",
    "for word in dream_words:\n",
    "    if word in wordlist:\n",
    "        wordlist[word] += 1\n",
    "    else:\n",
    "        wordlist[word] = 1\n",
    "        \n",
    "print(wordlist, len(wordlist))"
   ]
  },
  {
   "cell_type": "code",
   "execution_count": 44,
   "id": "fa25e0e5-9fcb-40fe-a4f3-018dfc9bb92a",
   "metadata": {},
   "outputs": [
    {
     "name": "stdout",
     "output_type": "stream",
     "text": [
      "{'of': 12, 'the': 11, 'a': 8, 'and': 7, 'I': 6, 'have': 6, 'dream': 6, 'that': 6, 'one': 6, 'will': 6, 'with': 6, 'day': 5, 'be': 5, 'its': 3, 'to': 3, 'little': 3, 'in': 3, 'nation': 2, 'live': 2, 'sons': 2, 'former': 2, 'able': 2, 'down': 2, 'state': 2, 'sweltering': 2, 'heat': 2, 'by': 2, 'their': 2, 'black': 2, 'boys': 2, 'girls': 2, 'white': 2, 'this': 1, 'rise': 1, 'up': 1, 'out': 1, 'true': 1, 'meaning': 1, 'creed': 1, 'We': 1, 'hold': 1, 'these': 1, 'truths': 1, 'self-evident': 1, 'all': 1, 'men': 1, 'are': 1, 'created': 1, 'equal': 1, 'on': 1, 'red': 1, 'hills': 1, 'Georgia': 1, 'slaves': 1, 'slave': 1, 'owners': 1, 'sit': 1, 'together': 1, 'at': 1, 'table': 1, 'brotherhood': 1, 'even': 1, 'Mississippi': 1, 'injustice': 1, 'oppression,': 1, 'transformed': 1, 'into': 1, 'an': 1, 'oasis': 1, 'freedom': 1, 'justice': 1, 'my': 1, 'four': 1, 'children': 1, 'where': 1, 'they': 1, 'not': 1, 'judged': 1, 'color': 1, 'skin': 1, 'but': 1, 'content': 1, 'character': 1, 'today': 1, 'day,': 1, 'Alabama,': 1, 'vicious': 1, 'racists,': 1, 'governor': 1, 'having': 1, 'his': 1, 'lips': 1, 'dripping': 1, 'words': 1, 'interposition': 1, 'nullification': 1, 'right': 1, 'there': 1, 'Alabama': 1, 'join': 1, 'hands': 1, 'as': 1, 'sisters': 1, 'brothers': 1}\n"
     ]
    }
   ],
   "source": [
    "swl_byvalue = {k: v for k, v in sorted(wordlist.items(), key=lambda i: i[1], reverse=True)}\n",
    "print(swl_byvalue)"
   ]
  },
  {
   "cell_type": "code",
   "execution_count": 45,
   "id": "fd5037ca-4d56-4a89-8d4f-319279271d49",
   "metadata": {},
   "outputs": [
    {
     "name": "stdout",
     "output_type": "stream",
     "text": [
      "WORD            COUNT\n",
      "of              12\n",
      "the             11\n",
      "a               8\n",
      "and             7\n",
      "I               6\n",
      "have            6\n",
      "dream           6\n",
      "that            6\n",
      "one             6\n",
      "will            6\n",
      "with            6\n",
      "\n",
      "Number of unique words:  104\n"
     ]
    }
   ],
   "source": [
    "print(f'{\"WORD\":<16}COUNT')\n",
    "\n",
    "for word, count in swl_byvalue.items():\n",
    "    if count >= 6:\n",
    "        print(f'{word:<16}{count}')\n",
    "print('\\nNumber of unique words: ', len(wordlist))"
   ]
  },
  {
   "cell_type": "code",
   "execution_count": 47,
   "id": "75b90325-c5f5-4ba8-93db-5760ce0f2a37",
   "metadata": {},
   "outputs": [
    {
     "name": "stdout",
     "output_type": "stream",
     "text": [
      "Counter({'of': 12, 'the': 11, 'a': 8, 'and': 7, 'I': 6, 'have': 6, 'dream': 6, 'that': 6, 'one': 6, 'will': 6, 'with': 6, 'day': 5, 'be': 5, 'its': 3, 'to': 3, 'little': 3, 'in': 3, 'nation': 2, 'live': 2, 'sons': 2, 'former': 2, 'able': 2, 'down': 2, 'state': 2, 'sweltering': 2, 'heat': 2, 'by': 2, 'their': 2, 'black': 2, 'boys': 2, 'girls': 2, 'white': 2, 'this': 1, 'rise': 1, 'up': 1, 'out': 1, 'true': 1, 'meaning': 1, 'creed': 1, 'We': 1, 'hold': 1, 'these': 1, 'truths': 1, 'self-evident': 1, 'all': 1, 'men': 1, 'are': 1, 'created': 1, 'equal': 1, 'on': 1, 'red': 1, 'hills': 1, 'Georgia': 1, 'slaves': 1, 'slave': 1, 'owners': 1, 'sit': 1, 'together': 1, 'at': 1, 'table': 1, 'brotherhood': 1, 'even': 1, 'Mississippi': 1, 'injustice': 1, 'oppression,': 1, 'transformed': 1, 'into': 1, 'an': 1, 'oasis': 1, 'freedom': 1, 'justice': 1, 'my': 1, 'four': 1, 'children': 1, 'where': 1, 'they': 1, 'not': 1, 'judged': 1, 'color': 1, 'skin': 1, 'but': 1, 'content': 1, 'character': 1, 'today': 1, 'day,': 1, 'Alabama,': 1, 'vicious': 1, 'racists,': 1, 'governor': 1, 'having': 1, 'his': 1, 'lips': 1, 'dripping': 1, 'words': 1, 'interposition': 1, 'nullification': 1, 'right': 1, 'there': 1, 'Alabama': 1, 'join': 1, 'hands': 1, 'as': 1, 'sisters': 1, 'brothers': 1})\n",
      "WORD            COUNT\n",
      "of              12\n",
      "the             11\n",
      "a               8\n",
      "and             7\n",
      "I               6\n",
      "have            6\n",
      "dream           6\n",
      "that            6\n",
      "one             6\n",
      "will            6\n",
      "with            6\n",
      "\n",
      "Number of unique words:  104\n"
     ]
    }
   ],
   "source": [
    "from collections import Counter\n",
    "\n",
    "wordlist1 = Counter(dream_words) #문자 개수를 덧샘하는 작업을 간소화하는 기능을 한다.\n",
    "print(wordlist1)\n",
    "sorted_wl1 = {k: v for k, v in sorted(wordlist1.items(), key=lambda i: i[1], reverse=True)}\n",
    "\n",
    "print(f'{\"WORD\":<16}COUNT')\n",
    "\n",
    "for word, count in sorted_wl1.items():\n",
    "    if count >= 6:\n",
    "        print(f'{word:<16}{count}')\n",
    "print('\\nNumber of unique words: ', len(wordlist1))"
   ]
  },
  {
   "cell_type": "markdown",
   "id": "260db64d-c3bc-48a7-adc4-3343daba4bef",
   "metadata": {},
   "source": [
    "__4. Sets: Creation and modification__"
   ]
  },
  {
   "cell_type": "code",
   "execution_count": 48,
   "id": "c0a02e32-813b-4161-b0ea-6e3176dba855",
   "metadata": {},
   "outputs": [
    {
     "name": "stdout",
     "output_type": "stream",
     "text": [
      "{'June', 'May', 'March', 'April', 'Febuary', 'January'}\n"
     ]
    }
   ],
   "source": [
    "# no duplicates are allowed\n",
    "Months = {'January', 'Febuary', 'March', 'April', 'May', 'June'}\n",
    "print(Months)"
   ]
  },
  {
   "cell_type": "code",
   "execution_count": 50,
   "id": "ff81eb35-4135-4b7a-9165-031736d2aad2",
   "metadata": {},
   "outputs": [
    {
     "name": "stdout",
     "output_type": "stream",
     "text": [
      "{0, 1, 2, 3, 4, 5, 6, 7, 8, 9, 10, 11, 12, 13, 14}\n",
      "15\n",
      "True\n"
     ]
    }
   ],
   "source": [
    "# making a set with a built-in function set\n",
    "digits = set(list(range(10))+list(range(5,15)))\n",
    "print(digits)\n",
    "print(len(digits))\n",
    "print(10 in digits)"
   ]
  },
  {
   "cell_type": "code",
   "execution_count": 51,
   "id": "d4c49dcd-30b9-4e2c-bed8-6ba246c62448",
   "metadata": {},
   "outputs": [
    {
     "name": "stdout",
     "output_type": "stream",
     "text": [
      "{0, 1, 2, 3, 4, 5, 6, 7, 9, 10, 11, 12, 13, 14}\n"
     ]
    }
   ],
   "source": [
    "digits.remove(8)\n",
    "print(digits)"
   ]
  },
  {
   "cell_type": "code",
   "execution_count": 52,
   "id": "43b41032-be5d-4084-aca2-d623d0b7dcda",
   "metadata": {},
   "outputs": [
    {
     "name": "stdout",
     "output_type": "stream",
     "text": [
      "set()\n"
     ]
    }
   ],
   "source": [
    "digits.clear()\n",
    "print(digits)"
   ]
  },
  {
   "cell_type": "code",
   "execution_count": 53,
   "id": "0fd0345a-6831-44f8-9f58-a7084d6fa8c6",
   "metadata": {},
   "outputs": [
    {
     "name": "stdout",
     "output_type": "stream",
     "text": [
      "{0, 1, 2, 3, 4, 5, 6, 7, 8, 9}\n"
     ]
    }
   ],
   "source": [
    "digits.update(range(10))\n",
    "print(digits)"
   ]
  },
  {
   "cell_type": "markdown",
   "id": "9b531a41-7685-4b76-aa30-db737f5afd56",
   "metadata": {},
   "source": [
    "__5. Sets: Operations and comprehension__"
   ]
  },
  {
   "cell_type": "code",
   "execution_count": 59,
   "id": "c6ae268c-d8fc-4407-b726-59e8e538dc82",
   "metadata": {},
   "outputs": [
    {
     "name": "stdout",
     "output_type": "stream",
     "text": [
      "True\n",
      "False\n",
      "{1, 2, 3, 4, 5, 6, 7}\n",
      "{1, 2, 3}\n",
      "set()\n",
      "{4, 5, 6, 7}\n"
     ]
    }
   ],
   "source": [
    "# Comparisons\n",
    "print({1, 2, 3} <= {1, 2, 3, 4, 5, 6,7})\n",
    "print({1, 2, 3} <= {1, 2, 4})\n",
    "print({1, 2,3} | {1, 2, 3, 4, 5, 6, 7})\n",
    "print({1, 2, 3} & {1, 2, 3, 4, 5, 6, 7})\n",
    "print({1, 2, 3} - {1, 2, 3, 4, 5, 6, 7})\n",
    "print({1, 2, 3, 4, 5, 6, 7} - {1, 2, 3})"
   ]
  },
  {
   "cell_type": "code",
   "execution_count": 61,
   "id": "255ab100-6102-443a-8008-b29a694c0a50",
   "metadata": {},
   "outputs": [
    {
     "name": "stdout",
     "output_type": "stream",
     "text": [
      "{1, 3, 5, 7, 9}\n"
     ]
    }
   ],
   "source": [
    "odds = {i for i in digits if i % 2 != 0}\n",
    "print(odds)"
   ]
  },
  {
   "cell_type": "code",
   "execution_count": null,
   "id": "606a0b15-e2b1-4034-aace-0876a47638f4",
   "metadata": {},
   "outputs": [],
   "source": []
  }
 ],
 "metadata": {
  "kernelspec": {
   "display_name": "Python 3 (ipykernel)",
   "language": "python",
   "name": "python3"
  },
  "language_info": {
   "codemirror_mode": {
    "name": "ipython",
    "version": 3
   },
   "file_extension": ".py",
   "mimetype": "text/x-python",
   "name": "python",
   "nbconvert_exporter": "python",
   "pygments_lexer": "ipython3",
   "version": "3.9.7"
  }
 },
 "nbformat": 4,
 "nbformat_minor": 5
}
