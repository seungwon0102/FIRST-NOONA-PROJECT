{
 "cells": [
  {
   "cell_type": "markdown",
   "id": "f6cf1916-46cf-4c3d-9254-8e89e8729724",
   "metadata": {},
   "source": [
    "## Python: Control Statements"
   ]
  },
  {
   "cell_type": "markdown",
   "id": "483c918d-3431-4244-bd8d-e88181b436c9",
   "metadata": {},
   "source": [
    "● Control statements: if...elif...else, while, for, break and continue"
   ]
  },
  {
   "cell_type": "markdown",
   "id": "634a662b-6d27-4369-a3e8-7a6e40f7648f",
   "metadata": {},
   "source": [
    "●Additionally, we learn formatted strings, augmented assignments"
   ]
  },
  {
   "cell_type": "markdown",
   "id": "0985a07c-0d5b-46c9-9e1c-d9ed314524dc",
   "metadata": {},
   "source": [
    "__1.if...elif...else__"
   ]
  },
  {
   "cell_type": "code",
   "execution_count": 4,
   "id": "06dd4a83-b0e5-42ac-ac01-32bf2e05be1a",
   "metadata": {},
   "outputs": [
    {
     "name": "stdin",
     "output_type": "stream",
     "text": [
      "Type your weight 85\n"
     ]
    },
    {
     "name": "stdout",
     "output_type": "stream",
     "text": [
      "normal\n",
      "Finish\n"
     ]
    }
   ],
   "source": [
    "# Classifying weight categories\n",
    "weight = int(input('Type your weight'))\n",
    "\n",
    "if weight >= 90:\n",
    "    print('fat!', 'Exercise!')\n",
    "elif weight >= 60:\n",
    "    print('normal')\n",
    "else:\n",
    "    print('thin')\n",
    "    print('Eat more!')\n",
    "print('Finish')"
   ]
  },
  {
   "cell_type": "code",
   "execution_count": 3,
   "id": "10d3b2af-0f74-4d80-ac6a-ca3fa834feb6",
   "metadata": {},
   "outputs": [],
   "source": [
    "# Converting total grades into Letter grades"
   ]
  },
  {
   "cell_type": "code",
   "execution_count": 8,
   "id": "55f99548-7390-4d33-8051-d71056601b54",
   "metadata": {},
   "outputs": [
    {
     "name": "stdin",
     "output_type": "stream",
     "text": [
      "Enter a grade 90\n"
     ]
    },
    {
     "name": "stdout",
     "output_type": "stream",
     "text": [
      "A\n"
     ]
    }
   ],
   "source": [
    "grade = float(input('Enter a grade'))\n",
    "\n",
    "if grade >= 90:\n",
    "    print('A')\n",
    "elif grade >=80:\n",
    "    print('B')\n",
    "elif grade >= 70:\n",
    "    print('C')\n",
    "elif grade >= 60:\n",
    "    print('D')\n",
    "else:\n",
    "    print('F')"
   ]
  },
  {
   "cell_type": "code",
   "execution_count": 10,
   "id": "ea71ac96-6def-411e-9f8a-7af648d27771",
   "metadata": {},
   "outputs": [
    {
     "name": "stdin",
     "output_type": "stream",
     "text": [
      "Type your weight in kg 44\n",
      "Type your height in cm 155\n"
     ]
    },
    {
     "name": "stdout",
     "output_type": "stream",
     "text": [
      "thin! \n",
      "Eat more!\n"
     ]
    }
   ],
   "source": [
    "weight = int(input('Type your weight in kg'))\n",
    "height = int(input('Type your height in cm'))\n",
    "\n",
    "if weight >= 90 and height <= 150:\n",
    "    print('Fat!', 'Exercise!')\n",
    "elif weight >= 60 or 160 <= height < 180:\n",
    "    print('normal')\n",
    "else:\n",
    "    print('thin! \\nEat more!')"
   ]
  },
  {
   "cell_type": "markdown",
   "id": "c22b3697-8f04-4259-817c-0b5ece6dee76",
   "metadata": {},
   "source": [
    "__2.While statement__"
   ]
  },
  {
   "cell_type": "markdown",
   "id": "6819e152-10ac-425c-bbed-72f94e72cec1",
   "metadata": {},
   "source": [
    "● lteration, repeating the same suite, continues as long as a condition remains true."
   ]
  },
  {
   "cell_type": "markdown",
   "id": "33c81cfb-3e12-4af6-bfdb-8fb9507911d7",
   "metadata": {},
   "source": [
    "● Sentinel-controlled iteration: repeats until a sentinal(flag, signal) value appears."
   ]
  },
  {
   "cell_type": "code",
   "execution_count": 11,
   "id": "2959c988-a261-464e-903c-f08a565817db",
   "metadata": {},
   "outputs": [
    {
     "name": "stdout",
     "output_type": "stream",
     "text": [
      "2\n",
      "4\n",
      "8\n",
      "16\n",
      "32\n",
      "64\n",
      "128\n"
     ]
    }
   ],
   "source": [
    "k = 1\n",
    "\n",
    "while k <= 100:\n",
    "    k = k*2\n",
    "    print(k)"
   ]
  },
  {
   "cell_type": "code",
   "execution_count": 12,
   "id": "60a18469-f676-4970-b52c-4badcb7e530d",
   "metadata": {},
   "outputs": [
    {
     "name": "stdout",
     "output_type": "stream",
     "text": [
      "9 8 7 6 5 4 3 2 1 0 "
     ]
    }
   ],
   "source": [
    "l = 10\n",
    "while l > 0:\n",
    "    l = l - 1\n",
    "    print(l, end = ' ')"
   ]
  },
  {
   "cell_type": "code",
   "execution_count": 14,
   "id": "48d11184-276e-4a2c-b8e3-ee2ca2453373",
   "metadata": {},
   "outputs": [
    {
     "name": "stdin",
     "output_type": "stream",
     "text": [
      "Enter grade or -1 to end:  20\n",
      "Enter grade or -1 to end:  50\n",
      "Enter grade or -1 to end:  75\n",
      "Enter grade or -1 to end:  99\n",
      "Enter grade or -1 to end:  -1\n"
     ]
    },
    {
     "name": "stdout",
     "output_type": "stream",
     "text": [
      "Total grade is 244\n",
      "The number of students is 4\n",
      "Class Average is 61.0\n"
     ]
    }
   ],
   "source": [
    "total = 0\n",
    "counter = 0\n",
    "\n",
    "grade = int(input('Enter grade or -1 to end: '))\n",
    "\n",
    "while grade != -1:\n",
    "    total += grade\n",
    "    counter += 1\n",
    "    grade = int(input('Enter grade or -1 to end: '))\n",
    "\n",
    "if counter != 0:\n",
    "    average = total/counter\n",
    "    print('Total grade is', total)\n",
    "    print('The number of students is', counter)\n",
    "    print(f'Class Average is {average}') # a formatted string\n",
    "else:\n",
    "    print('No grades were entered')"
   ]
  },
  {
   "cell_type": "markdown",
   "id": "fa13c3b2-2526-45aa-ba0c-01ed34888400",
   "metadata": {},
   "source": [
    "__3.For loop for iteration__"
   ]
  },
  {
   "cell_type": "markdown",
   "id": "32b9ce60-054b-4403-aa03-ac593f096067",
   "metadata": {},
   "source": [
    "● Collection based iteration"
   ]
  },
  {
   "cell_type": "markdown",
   "id": "07a8e42c-09ab-4064-83fc-3b8285ccc1a8",
   "metadata": {},
   "source": [
    "● Repeat actions for each item in a sequence of items"
   ]
  },
  {
   "cell_type": "code",
   "execution_count": 15,
   "id": "7bd0689c-89f0-4cba-ba60-eddab037c90c",
   "metadata": {},
   "outputs": [
    {
     "name": "stdout",
     "output_type": "stream",
     "text": [
      "item : 1\n",
      "item : 2\n",
      "item : 3\n",
      "item : 4\n",
      "item : 5\n",
      "letters : A\n",
      "letters : B\n",
      "letters : C\n",
      "letters : D\n"
     ]
    }
   ],
   "source": [
    "for item in [1, 2, 3, 4, 5]:\n",
    "    print(\"item :\", item)\n",
    "\n",
    "letters = ['A', 'B', 'C', 'D']\n",
    "for i in letters:\n",
    "    print(\"letters :\", i)"
   ]
  },
  {
   "cell_type": "code",
   "execution_count": 17,
   "id": "97ba6999-4084-495f-abff-2ccdd377ebda",
   "metadata": {},
   "outputs": [
    {
     "name": "stdout",
     "output_type": "stream",
     "text": [
      "Each letter : A\n",
      "Each letter : B\n",
      "Each letter : C\n",
      "Each letter : D\n",
      "P y t h o n P r o g r a m m i n g \n",
      "25\n"
     ]
    }
   ],
   "source": [
    "for i in range(len(letters)):\n",
    "    print(\"Each letter :\",letters[i])\n",
    "\n",
    "for i in 'PythonProgramming':\n",
    "    print(i, end = ' ')\n",
    "    \n",
    "print()\n",
    "total = 0\n",
    "for number in [2, -3, 0, 17, 9]:\n",
    "    total = total + number #total += number\n",
    "print(total)"
   ]
  },
  {
   "cell_type": "markdown",
   "id": "95d09f0b-bf0a-47e0-9d16-467d64797a88",
   "metadata": {},
   "source": [
    "__4.Augmented assignment__"
   ]
  },
  {
   "cell_type": "code",
   "execution_count": 18,
   "id": "aaee8139-acfc-4abb-8d3b-c2e68ba71153",
   "metadata": {},
   "outputs": [
    {
     "name": "stdout",
     "output_type": "stream",
     "text": [
      "0 1 2 3 4 5 6 7 8 9 "
     ]
    },
    {
     "data": {
      "text/plain": [
       "45"
      ]
     },
     "execution_count": 18,
     "metadata": {},
     "output_type": "execute_result"
    }
   ],
   "source": [
    "total = 0\n",
    "for i in range(10):\n",
    "    print(i, end=' ')\n",
    "    total += i\n",
    "total"
   ]
  },
  {
   "cell_type": "markdown",
   "id": "42ea7eef-0805-4006-89b9-0f78dfd0a492",
   "metadata": {},
   "source": [
    "__5.Making a for loop with augmented assignments__"
   ]
  },
  {
   "cell_type": "code",
   "execution_count": 21,
   "id": "e71be66a-c0c3-4edf-8439-fe8e08692a69",
   "metadata": {},
   "outputs": [
    {
     "name": "stdout",
     "output_type": "stream",
     "text": [
      "Class average is 81.7\n",
      "Average is 81.70\n"
     ]
    }
   ],
   "source": [
    "total = 0\n",
    "NumStudents = 0\n",
    "grades = [98, 76, 71, 87, 83, 90, 57, 79, 82, 94]\n",
    "for i in grades:\n",
    "    total += i\n",
    "    NumStudents += 1\n",
    "average = total/NumStudents\n",
    "print(f'Class average is {average}')\n",
    "print(f'Average is {total/NumStudents:.2f}')"
   ]
  },
  {
   "cell_type": "markdown",
   "id": "ee9464b8-e0fc-476d-ab3f-17ce0845e405",
   "metadata": {},
   "source": [
    "__6.A built-in function range__"
   ]
  },
  {
   "cell_type": "code",
   "execution_count": 22,
   "id": "5463e14e-36f8-4a0b-987d-0bd140d949bc",
   "metadata": {},
   "outputs": [
    {
     "name": "stdout",
     "output_type": "stream",
     "text": [
      "7, 8, 9, 10, 11, 12, 13, 14, 15, 16, 17, 18, 19, \n",
      "10, 13, 16, 19, \n",
      "15, 13, 11, 9, 7, 5, 3, 1, "
     ]
    }
   ],
   "source": [
    "for i in range(7, 20):\n",
    "    print(i, end = ', ')\n",
    "    \n",
    "print()\n",
    "for i in range(10, 20, 3):\n",
    "    print(i, end = ', ')\n",
    "    \n",
    "print()\n",
    "for i in range(15, 0, -2):\n",
    "    print(i, end = ', ')"
   ]
  },
  {
   "cell_type": "markdown",
   "id": "9fc7d7a8-f527-45b4-9932-aa2bd823bd6a",
   "metadata": {},
   "source": [
    "__7.Advanced use of while and for loops__"
   ]
  },
  {
   "cell_type": "markdown",
   "id": "0d1dc07d-2fc8-45c4-95eb-06302f278687",
   "metadata": {},
   "source": [
    "● Break: terminates loops immediately."
   ]
  },
  {
   "cell_type": "markdown",
   "id": "bebf1136-6aac-41d2-abf6-15ccb7af5214",
   "metadata": {},
   "source": [
    "● Continue: terminates loops immediately, jumps to the top of the loop and continues"
   ]
  },
  {
   "cell_type": "markdown",
   "id": "e8c21443-e7f4-4cd0-8a3c-f905c1124905",
   "metadata": {},
   "source": [
    "● In while and for loops, else can be used"
   ]
  },
  {
   "cell_type": "code",
   "execution_count": 1,
   "id": "b9fb02bb-9363-4676-815a-85d5bde582ea",
   "metadata": {},
   "outputs": [
    {
     "name": "stdout",
     "output_type": "stream",
     "text": [
      "9 8 7 6 5 4 3 2 1 0 \n",
      "Loop ended 0\n"
     ]
    }
   ],
   "source": [
    "l = 10\n",
    "while l > 0:\n",
    "    l = l - 1\n",
    "    print(l, end = ' ')\n",
    "print()\n",
    "print('Loop ended', l)"
   ]
  },
  {
   "cell_type": "code",
   "execution_count": 2,
   "id": "20e23095-b025-4911-9d5d-782f322fa1b1",
   "metadata": {},
   "outputs": [
    {
     "name": "stdout",
     "output_type": "stream",
     "text": [
      "9 8 7 6 \n",
      "Loop ended 5\n"
     ]
    }
   ],
   "source": [
    "l = 10\n",
    "while l > 0:\n",
    "    l = l - 1\n",
    "    if l == 5:\n",
    "        break\n",
    "    print(l, end = ' ')\n",
    "print()\n",
    "print('Loop ended', l)"
   ]
  },
  {
   "cell_type": "code",
   "execution_count": 3,
   "id": "b094e2e6-88a1-4417-9e55-df56ba3b5b72",
   "metadata": {},
   "outputs": [
    {
     "name": "stdout",
     "output_type": "stream",
     "text": [
      "9 8 7 6 4 3 2 1 0 \n",
      "Loop ended 0\n"
     ]
    }
   ],
   "source": [
    "l = 10\n",
    "while l > 0:\n",
    "    l = l - 1\n",
    "    if l == 5:\n",
    "        continue\n",
    "    print(l, end = ' ')\n",
    "print()\n",
    "print('Loop ended', l)"
   ]
  },
  {
   "cell_type": "code",
   "execution_count": 4,
   "id": "0725c3e4-66c9-4855-80da-b37edab53608",
   "metadata": {},
   "outputs": [
    {
     "name": "stdout",
     "output_type": "stream",
     "text": [
      "9 8 7 6 5 4 3 2 1 0 Loop ended 0\n"
     ]
    }
   ],
   "source": [
    "l = 10\n",
    "while l > 0:\n",
    "    l = l - 1\n",
    "    print(l, end = ' ')\n",
    "else:\n",
    "    print('Loop ended', l)"
   ]
  },
  {
   "cell_type": "code",
   "execution_count": 5,
   "id": "2d988840-5077-42e2-907b-886c66be8b20",
   "metadata": {},
   "outputs": [
    {
     "name": "stdout",
     "output_type": "stream",
     "text": [
      "P y t h o n P r o "
     ]
    }
   ],
   "source": [
    "for i in 'PythonProgramming':\n",
    "    if i == 'g':\n",
    "        break\n",
    "    print(i, end = ' ')"
   ]
  },
  {
   "cell_type": "code",
   "execution_count": 7,
   "id": "9af9d52c-72bd-4869-a1a2-6f3c1b27b96f",
   "metadata": {},
   "outputs": [
    {
     "name": "stdout",
     "output_type": "stream",
     "text": [
      "P y t h o P r o g r a m m i g "
     ]
    }
   ],
   "source": [
    "for i in 'PythonProgramming':\n",
    "    if i == 'n':\n",
    "        continue\n",
    "    print(i, end = ' ')"
   ]
  },
  {
   "cell_type": "code",
   "execution_count": null,
   "id": "eacfd642-619a-4f96-a245-c5de886f5599",
   "metadata": {},
   "outputs": [],
   "source": []
  }
 ],
 "metadata": {
  "kernelspec": {
   "display_name": "Python 3 (ipykernel)",
   "language": "python",
   "name": "python3"
  },
  "language_info": {
   "codemirror_mode": {
    "name": "ipython",
    "version": 3
   },
   "file_extension": ".py",
   "mimetype": "text/x-python",
   "name": "python",
   "nbconvert_exporter": "python",
   "pygments_lexer": "ipython3",
   "version": "3.9.7"
  }
 },
 "nbformat": 4,
 "nbformat_minor": 5
}
