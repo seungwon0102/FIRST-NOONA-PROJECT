{
 "cells": [
  {
   "cell_type": "markdown",
   "id": "6081e006-edeb-46b7-9701-669109006aa1",
   "metadata": {},
   "source": [
    "## Python: NumPy"
   ]
  },
  {
   "cell_type": "markdown",
   "id": "7e3c7596-a6fa-4d01-aa7b-b4892c76221d",
   "metadata": {},
   "source": [
    "__[Pure Python, NumPy, Pandas, and TensorFlow]__"
   ]
  },
  {
   "cell_type": "markdown",
   "id": "919dade7-30f9-485b-9bab-43c0e25dd33c",
   "metadata": {},
   "source": [
    "List는 저장용량과 시간을 많이 소모하는 단점이 있다. 이를 보완하기 위해 수치연산에 특화되어 있는 NumPy를 사용한다. NumPy keeps __the same type of data in arrays__. TensorFlow는 연산과정을 그래프화하여 시각화할 수 있다. TensorFlow는 값의 변화 과정을 시각화하여 관찰할 수 있다. Pandas는 빅데이터 환경과 같은 많은 데이터를 효율적으로 처리할 수 있는 장점이 있다."
   ]
  },
  {
   "cell_type": "markdown",
   "id": "caec6880-c99d-4352-ad85-8fd8365ac58c",
   "metadata": {},
   "source": [
    "__1. NumPy:type, dtype, shape, dimension, size__"
   ]
  },
  {
   "cell_type": "markdown",
   "id": "d91075dc-6cb3-471d-b288-c09ce66d4b60",
   "metadata": {},
   "source": [
    "- Data types are the same in an array."
   ]
  },
  {
   "cell_type": "markdown",
   "id": "98a94642-3c8a-4e7e-881d-02e93760fefa",
   "metadata": {},
   "source": [
    "- Rank: the (linearly independent) number of variables in a matrix."
   ]
  },
  {
   "cell_type": "code",
   "execution_count": 2,
   "id": "96055ae1-15b9-43f1-bf4f-9e196c2dd1d1",
   "metadata": {},
   "outputs": [
    {
     "name": "stdout",
     "output_type": "stream",
     "text": [
      "[ 7  8  9 10 11]\n",
      "object type: <class 'numpy.ndarray'>\n",
      "  data type: int32\n",
      "      shape: (5,)\n",
      "  dimension: 1\n",
      " array size: 5\n",
      "(1, 5)\n",
      "[7, 8, 9, 10, 11]\n"
     ]
    }
   ],
   "source": [
    "# Create a rank one array with the array function\n",
    "import numpy as np # numpy라이브러리 실행\n",
    "a = np.array([7,8,9,10,11])\n",
    "print(f'{a}\\n{\"object type:\":>12} {type(a)}\\n{\"data type:\":>12} {a.dtype}\\n{\"shape:\":>12} \\\n",
    "{a.shape}\\n{\"dimension:\":>12} {a.ndim}\\n{\"array size:\":>12} {a.size}') #너무 길어서 줄을 바꾸고 싶을 때는 역슬래쉬(\\)를 사용\n",
    "a1 = np.array([a]); print(a1.shape) #대괄호의 개수에 따라 차원을 나눌 수 있다.\n",
    "\n",
    "a2 = [7, 8, 9, 10, 11]; print(a2) #list와 numpy의 차이점"
   ]
  },
  {
   "cell_type": "code",
   "execution_count": 8,
   "id": "69e9ef88-3a76-4e49-b83c-7bd2f4555c4f",
   "metadata": {},
   "outputs": [
    {
     "name": "stdout",
     "output_type": "stream",
     "text": [
      "[[ 1.   2.   3.   4.   5. ]\n",
      " [ 8.   9.  10.  11.  12.2]]\n",
      "object type: <class 'numpy.ndarray'>\n",
      "  data type: float64\n",
      "      shape: (2, 5)\n",
      "  dimension: 2\n",
      " array size: 10\n"
     ]
    }
   ],
   "source": [
    "b = np.array([[1.0,2, 3, 4, 5], [8,9,10,11,12.2]])\n",
    "print(f'{b}\\n{\"object type:\":>12} {type(b)}\\n{\"data type:\":>12} {b.dtype}\\n{\"shape:\":>12} \\\n",
    "{b.shape}\\n{\"dimension:\":>12} {b.ndim}\\n{\"array size:\":>12} {b.size}')"
   ]
  },
  {
   "cell_type": "code",
   "execution_count": 9,
   "id": "a0c57bb1-02df-4e1a-b186-929359dd5798",
   "metadata": {},
   "outputs": [
    {
     "name": "stdout",
     "output_type": "stream",
     "text": [
      "[[[ 1  2  3  4  5]\n",
      "  [ 8  9 10 11 12]]\n",
      "\n",
      " [[ 4  5  6  7  8]\n",
      "  [10 11 12 13 14]]]\n",
      "object type: <class 'numpy.ndarray'>\n",
      "  data type: int32\n",
      "      shape: (2, 2, 5)\n",
      "  dimension: 3\n",
      " array size: 20\n"
     ]
    }
   ],
   "source": [
    "c = np.array([[[1,2,3,4,5],[8,9,10,11,12]],[[4,5,6,7,8],[10,11,12,13,14]]])\n",
    "print(f'{c}\\n{\"object type:\":>12} {type(c)}\\n{\"data type:\":>12} {c.dtype}\\n{\"shape:\":>12} \\\n",
    "{c.shape}\\n{\"dimension:\":>12} {c.ndim}\\n{\"array size:\":>12} {c.size}')"
   ]
  },
  {
   "cell_type": "code",
   "execution_count": 10,
   "id": "6217fe83-15eb-47dd-94cf-8e191068c691",
   "metadata": {},
   "outputs": [
    {
     "name": "stdout",
     "output_type": "stream",
     "text": [
      "[[[ 1  2  3  4  5]\n",
      "  [ 8  9 10 11 12]]]\n",
      "object type: <class 'numpy.ndarray'>\n",
      "  data type: int32\n",
      "      shape: (1, 2, 5)\n",
      "  dimension: 3\n",
      " array size: 10\n"
     ]
    }
   ],
   "source": [
    "ac1 = np.array([[[1,2,3,4,5],[8,9,10,11,12]]])\n",
    "print(f'{ac1}\\n{\"object type:\":>12} {type(ac1)}\\n{\"data type:\":>12} {ac1.dtype}\\n{\"shape:\":>12} \\\n",
    "{ac1.shape}\\n{\"dimension:\":>12} {ac1.ndim}\\n{\"array size:\":>12} {ac1.size}')"
   ]
  },
  {
   "cell_type": "code",
   "execution_count": 11,
   "id": "7560e37a-5575-4266-8321-91d5635a1801",
   "metadata": {},
   "outputs": [
    {
     "name": "stdout",
     "output_type": "stream",
     "text": [
      "[[[1 2 3 4 5]]]\n",
      "object type: <class 'numpy.ndarray'>\n",
      "  data type: int32\n",
      "      shape: (1, 1, 5)\n",
      "  dimension: 3\n",
      " array size: 5\n"
     ]
    }
   ],
   "source": [
    "ac2 = np.array([[[1,2,3,4,5]]])\n",
    "print(f'{ac2}\\n{\"object type:\":>12} {type(ac2)}\\n{\"data type:\":>12} {ac2.dtype}\\n{\"shape:\":>12} \\\n",
    "{ac2.shape}\\n{\"dimension:\":>12} {ac2.ndim}\\n{\"array size:\":>12} {ac2.size}')"
   ]
  },
  {
   "cell_type": "markdown",
   "id": "c12903ae-a512-4cdf-a97d-854c085a3c3b",
   "metadata": {},
   "source": [
    "__2.NumPy:special arrays and indexing__"
   ]
  },
  {
   "cell_type": "code",
   "execution_count": 15,
   "id": "07d147a8-509a-4624-80fb-2ce124c4374a",
   "metadata": {},
   "outputs": [
    {
     "name": "stdout",
     "output_type": "stream",
     "text": [
      "[[0. 0. 0.]\n",
      " [0. 0. 0.]]\n",
      "[[1 1 1 1]\n",
      " [1 1 1 1]]\n",
      "[[7 7 7 7 7]\n",
      " [7 7 7 7 7]]\n",
      "[[1. 0. 0.]\n",
      " [0. 1. 0.]\n",
      " [0. 0. 1.]]\n"
     ]
    }
   ],
   "source": [
    "a_zeros = np.zeros((2, 3))\n",
    "print(a_zeros)\n",
    "a_ones = np.ones((2, 4), dtype=int)\n",
    "print(a_ones)\n",
    "a_full = np.full((2, 5),7)\n",
    "print(a_full)\n",
    "print(np.eye(3)) #identity matrix"
   ]
  },
  {
   "cell_type": "code",
   "execution_count": 17,
   "id": "206a212a-d0eb-4b4f-8696-022f899d1541",
   "metadata": {},
   "outputs": [
    {
     "name": "stdout",
     "output_type": "stream",
     "text": [
      "[[[0.87281673 0.81625466 0.81918848 0.87508231]\n",
      "  [0.76629781 0.75595565 0.53770413 0.96921059]\n",
      "  [0.65533479 0.33161887 0.28867249 0.7239887 ]]\n",
      "\n",
      " [[0.81165354 0.90644451 0.91824282 0.01042593]\n",
      "  [0.72065999 0.24595108 0.99902755 0.21913833]\n",
      "  [0.60533456 0.54644034 0.79202402 0.97620592]]]\n",
      "float64\n"
     ]
    }
   ],
   "source": [
    "a_ran = np.random.random((2, 3, 4))\n",
    "print(f'{a_ran}\\n{a_ran.dtype}')"
   ]
  },
  {
   "cell_type": "code",
   "execution_count": 19,
   "id": "af98a991-2663-4b27-b54a-bf8622a84154",
   "metadata": {},
   "outputs": [
    {
     "name": "stdout",
     "output_type": "stream",
     "text": [
      "[[[ 1  2  3  4  5]\n",
      "  [ 8  9 10 11 12]]\n",
      "\n",
      " [[ 4  5  6  7  8]\n",
      "  [10 11 12 13 14]]]\n",
      "8\n",
      "8\n",
      "5\n"
     ]
    }
   ],
   "source": [
    "print(c)\n",
    "print(c[1,0,4])\n",
    "print(c[1][0][4])\n",
    "print(c[0,0,4])"
   ]
  },
  {
   "cell_type": "markdown",
   "id": "3f3705dd-780f-4dfe-ad36-1f92676c735e",
   "metadata": {},
   "source": [
    "__3.NumPy:flattening and making arrays with arange function__"
   ]
  },
  {
   "cell_type": "code",
   "execution_count": 22,
   "id": "4a9c726b-2185-4eb3-b3c6-68f104bedae0",
   "metadata": {},
   "outputs": [
    {
     "name": "stdout",
     "output_type": "stream",
     "text": [
      "[[[ 1  2  3  4  5]\n",
      "  [ 8  9 10 11 12]]\n",
      "\n",
      " [[ 4  5  6  7  8]\n",
      "  [10 11 12 13 14]]]\n",
      "[1, 2, 3, 4, 5, 8, 9, 10, 11, 12, 4, 5, 6, 7, 8, 10, 11, 12, 13, 14]\n",
      "[ 1  2  3  4  5  8  9 10 11 12  4  5  6  7  8 10 11 12 13 14]\n",
      "[ 1  2  3  4  5  8  9 10 11 12  4  5  6  7  8 10 11 12 13 14]\n"
     ]
    }
   ],
   "source": [
    "# flattening the c array in a row using for loop. = 다차원 배열을 일차원으로 바꾸는 것\n",
    "print(c)\n",
    "l = []\n",
    "for i in c:\n",
    "    for j in i:\n",
    "        for k in j:\n",
    "            l.append(k)\n",
    "print(f'{l}\\n{np.array(l)}')\n",
    "\n",
    "# flattening\n",
    "print(np.array(c.flat))"
   ]
  },
  {
   "cell_type": "code",
   "execution_count": 24,
   "id": "08e98f36-103d-420c-8224-cb7c117c62c5",
   "metadata": {},
   "outputs": [
    {
     "name": "stdout",
     "output_type": "stream",
     "text": [
      "[ 0  1  2  3  4  5  6  7  8  9 10 11 12 13 14 15 16 17 18 19 20]\n",
      "<class 'numpy.ndarray'>\n",
      "[[[ 0  1  2  3  4  5  6]\n",
      "  [ 7  8  9 10 11 12 13]\n",
      "  [14 15 16 17 18 19 20]]]\n"
     ]
    }
   ],
   "source": [
    "g = np.arange(21) #numpy에서는 arange 사용 list에서는 range\n",
    "print(f'{g}\\n{type(g)}')\n",
    "print(g.reshape(1, 3, 7)) #모양틀을 설정하는 방법"
   ]
  },
  {
   "cell_type": "code",
   "execution_count": 25,
   "id": "b44cfcd8-91e6-42bc-9af7-58b6a2c96da4",
   "metadata": {},
   "outputs": [
    {
     "name": "stdout",
     "output_type": "stream",
     "text": [
      "[ 5  7  9 11 13 15 17 19]\n",
      "[[ 1  2  3  4  5  6  7  8  9 10]\n",
      " [11 12 13 14 15 16 17 18 19 20]]\n"
     ]
    }
   ],
   "source": [
    "h = np.arange(5, 21, 2) # arange 와 range의 사용 방법은 같다.\n",
    "print(h)\n",
    "print(np.arange(1, 21).reshape(2, 10)) # chained method calls"
   ]
  },
  {
   "cell_type": "code",
   "execution_count": 28,
   "id": "4d7d3a56-a6dc-48a2-aa94-be5401e35e25",
   "metadata": {},
   "outputs": [
    {
     "name": "stdout",
     "output_type": "stream",
     "text": [
      "[0.  0.1 0.2 0.3 0.4 0.5 0.6 0.7 0.8 0.9 1. ]\n",
      "(11,)\n",
      "11\n"
     ]
    }
   ],
   "source": [
    "# Creating an array of equal space within a range\n",
    "a_ss = np.linspace(0,1,11) #동일한 간격으로 나누는 방법 the ending value is inclusive(마지막 숫자도 포함)\n",
    "print(f'{a_ss}\\n{a_ss.shape}\\n{a_ss.size}')"
   ]
  },
  {
   "cell_type": "markdown",
   "id": "ddc4b380-139b-427a-bed6-9a8f0975d985",
   "metadata": {},
   "source": [
    "__4.NumPy: Array operations__"
   ]
  },
  {
   "cell_type": "markdown",
   "id": "3071c47e-ba04-48b3-9aa6-9d1854972328",
   "metadata": {},
   "source": [
    "- Operations on all elements of arrays"
   ]
  },
  {
   "cell_type": "code",
   "execution_count": 6,
   "id": "67654c5b-b1ff-49f3-839d-b8110c27f6b5",
   "metadata": {},
   "outputs": [
    {
     "name": "stdout",
     "output_type": "stream",
     "text": [
      "(3, 2) (3, 2)\n",
      "[[ 4  6]\n",
      " [ 8 10]\n",
      " [12 14]]\n",
      "[[ 2  4]\n",
      " [ 6  8]\n",
      " [10 12]]\n"
     ]
    }
   ],
   "source": [
    "# element_wise operations(내적)\n",
    "xa = np.array([[1,2],[3,4],[5,6]])\n",
    "xb = np.array([[3,4],[5,6],[7,8]])\n",
    "print(xa.shape, xb.shape) # 배열의 차원이 완전히 일치하는 경우 element-wise 연산이 가능하다.\n",
    "print(f'{xa+xb}\\n{xa*2}')"
   ]
  },
  {
   "cell_type": "code",
   "execution_count": 9,
   "id": "d002af0d-6b56-4363-aa74-ab8fc49d454d",
   "metadata": {},
   "outputs": [
    {
     "name": "stdout",
     "output_type": "stream",
     "text": [
      "[[ 4  6]\n",
      " [ 8 10]\n",
      " [12 14]]\n",
      "[[-2 -2]\n",
      " [-2 -2]\n",
      " [-2 -2]]\n",
      "[[ 3  8]\n",
      " [15 24]\n",
      " [35 48]]\n",
      "[[1.         1.41421356]\n",
      " [1.73205081 2.        ]\n",
      " [2.23606798 2.44948974]]\n"
     ]
    }
   ],
   "source": [
    "# element-wise operations\n",
    "print(np.add(xa,xb)) # 더하기\n",
    "print(np.subtract(xa, xb)) # 빼기\n",
    "print(np.multiply(xa,xb)) # 곱하기\n",
    "print(np.sqrt(xa)) # 나누기(루트 씌우기)"
   ]
  },
  {
   "cell_type": "code",
   "execution_count": 12,
   "id": "f79c315e-4a6a-4323-b3ba-5f4554de3af4",
   "metadata": {},
   "outputs": [
    {
     "name": "stdout",
     "output_type": "stream",
     "text": [
      "[[1.]\n",
      " [1.]] (2, 1) 2\n",
      "[[ 3.]\n",
      " [ 7.]\n",
      " [11.]]\n",
      "[[ 7.]\n",
      " [11.]\n",
      " [15.]]\n"
     ]
    }
   ],
   "source": [
    "# inner product of matrix (행렬의 inner product연산의 경우 두 행렬의 정합성이 맞아야 한다. ex. 3-2 * 2-3\n",
    "xc = np.ones((2,1))\n",
    "print(xc, xc.shape, xc.ndim)\n",
    "print(xa.dot(xc))\n",
    "print(np.dot(xb,xc))"
   ]
  },
  {
   "cell_type": "code",
   "execution_count": 16,
   "id": "e278092b-d1e4-471b-84a8-4b28340651ce",
   "metadata": {},
   "outputs": [
    {
     "name": "stdout",
     "output_type": "stream",
     "text": [
      "[[1 2]\n",
      " [1 2]]\n",
      "[[ 3  6]\n",
      " [ 7 14]\n",
      " [11 22]]\n",
      "[[ 7 14]\n",
      " [11 22]\n",
      " [15 30]]\n"
     ]
    }
   ],
   "source": [
    "xd = np.array([[1,2],[1,2]]); print(xd)\n",
    "print(np.dot(xa, xd));print(np.dot(xb,xd)) # 행렬의 곱셈 참고"
   ]
  },
  {
   "cell_type": "code",
   "execution_count": 18,
   "id": "40b1b60c-6170-4bbb-83a8-ebfa3879a18b",
   "metadata": {},
   "outputs": [
    {
     "name": "stdout",
     "output_type": "stream",
     "text": [
      "[[1 3 5]\n",
      " [2 4 6]]\n",
      "[[ 9 10]\n",
      " [11 12]\n",
      " [13 14]]\n",
      "[[ 6  7]\n",
      " [ 8  9]\n",
      " [10 11]]\n",
      "[[ 9 10]\n",
      " [11 12]\n",
      " [13 14]]\n"
     ]
    }
   ],
   "source": [
    "print(xa.T) # Transform(변환)\n",
    "print(xb+3)\n",
    "print(xb)\n",
    "xb += 3\n",
    "print(xb)"
   ]
  },
  {
   "cell_type": "markdown",
   "id": "a4cf2191-0884-4306-af15-ac8d8ebc70d5",
   "metadata": {},
   "source": [
    "__5.NumPy: Broadcasting__"
   ]
  },
  {
   "cell_type": "markdown",
   "id": "a54d95a3-ba3e-4a60-96b9-c9ca56112c7f",
   "metadata": {},
   "source": [
    "- Arithmetic operation between different shaped arrays"
   ]
  },
  {
   "cell_type": "code",
   "execution_count": 20,
   "id": "adbb3d72-8753-4639-b92f-2ece439ff96a",
   "metadata": {},
   "outputs": [
    {
     "name": "stdout",
     "output_type": "stream",
     "text": [
      "[[1 2 3]\n",
      " [4 5 6]\n",
      " [7 8 9]]\n",
      "[[1.]\n",
      " [1.]\n",
      " [1.]]\n",
      "[[ 2.  3.  4.]\n",
      " [ 5.  6.  7.]\n",
      " [ 8.  9. 10.]]\n",
      "[[2 2 2]]\n",
      "[[ 3  4  5]\n",
      " [ 6  7  8]\n",
      " [ 9 10 11]]\n"
     ]
    }
   ],
   "source": [
    "ya = np.arange(1, 10).reshape(3,3); print(ya)\n",
    "yv1 = np.ones((3,1)); print(yv1)\n",
    "yb = ya + yv1; print(yb)\n",
    "yv2=np.full((1,3),2); print(yv2)\n",
    "yc = ya + yv2; print(yc)\n",
    "# Broadcasting rule이 적용되면 차원이 다른 matrix들간의 연산이 가능해진다."
   ]
  },
  {
   "cell_type": "code",
   "execution_count": 21,
   "id": "bb28b37f-41d5-4e77-b87a-d5e4866734ed",
   "metadata": {},
   "outputs": [
    {
     "name": "stdout",
     "output_type": "stream",
     "text": [
      "[[1 2 3]\n",
      " [4 5 6]\n",
      " [7 8 9]]\n",
      "[[1]\n",
      " [2]\n",
      " [3]]\n",
      "[[ 2  3  4]\n",
      " [ 6  7  8]\n",
      " [10 11 12]]\n"
     ]
    }
   ],
   "source": [
    "yd = np.arange(1, 10).reshape(3,3); print(ya)\n",
    "yv3 = np.array([[1],[2],[3]]); print(yv3)\n",
    "yyd = yd + yv3; print(yyd)"
   ]
  },
  {
   "cell_type": "markdown",
   "id": "9763c177-f72c-4a71-bcf5-5ad453c88597",
   "metadata": {},
   "source": [
    "__6.NumPy: Summary Statistics__"
   ]
  },
  {
   "cell_type": "code",
   "execution_count": 27,
   "id": "9b5e3f67-5dc4-4107-85a4-4c703c81633e",
   "metadata": {},
   "outputs": [
    {
     "name": "stdout",
     "output_type": "stream",
     "text": [
      "63 7.0 3 11 6.666666666666667 2.581988897471611\n",
      "8 0\n",
      "[6. 7. 8.] [ 4.  7. 10.]\n"
     ]
    }
   ],
   "source": [
    "# Uses all elements in calculations\n",
    "print(yc.sum(), yc.mean(), yc.min(), yc.max(), yc.var(), yc.std())\n",
    "print(yc.argmax(), yc.argmin())\n",
    "print(yc.mean(axis=0), yc.mean(axis=1)) # 0 vertically, 1 horizontally"
   ]
  },
  {
   "cell_type": "markdown",
   "id": "1beb4e2d-0e84-44f9-a551-feef0290fe0a",
   "metadata": {},
   "source": [
    "__7.NumPy:Slicing, Flatten, and Stacking__"
   ]
  },
  {
   "cell_type": "code",
   "execution_count": 24,
   "id": "21063cce-9ac0-400c-b5a3-866ffc19afe9",
   "metadata": {},
   "outputs": [
    {
     "name": "stdout",
     "output_type": "stream",
     "text": [
      "[[ 0  1  2  3  4  5  6]\n",
      " [ 7  8  9 10 11 12 13]\n",
      " [14 15 16 17 18 19 20]]\n",
      "[0 1 2 3 4 5 6] [0 1 2 3]\n",
      "[[ 0  1  2  3  4  5  6]\n",
      " [ 7  8  9 10 11 12 13]]\n",
      "[[0 1 2]\n",
      " [7 8 9]]\n"
     ]
    }
   ],
   "source": [
    "karray=np.arange(21).reshape(3, 7); print(karray)\n",
    "print(karray[0], karray[0,:4])\n",
    "print(karray[:2]) # ,가 없는 경우는 row만 인식한다는 것\n",
    "print(karray[:2, :3])"
   ]
  },
  {
   "cell_type": "code",
   "execution_count": 26,
   "id": "f5c4ac51-f5af-417f-b39f-d77ca1d70d3a",
   "metadata": {},
   "outputs": [
    {
     "name": "stdout",
     "output_type": "stream",
     "text": [
      "[[ 0  1  2  3  4  5  6]\n",
      " [ 7  8  9 10 11 12 13]\n",
      " [14 15 16 17 18 19 20]]\n",
      "[[ 0  1  2  3  4  5  6]\n",
      " [14 15 16 17 18 19 20]]\n",
      "[[ 1  5]\n",
      " [ 8 12]\n",
      " [15 19]]\n",
      "[[ 1  2  3  4]\n",
      " [ 8  9 10 11]\n",
      " [15 16 17 18]]\n"
     ]
    }
   ],
   "source": [
    "karray=np.arange(21).reshape(3,7); print(karray)\n",
    "print(karray[[0,2]])\n",
    "print(karray[:,[1,5]]) # column중에서 1 하고 5\n",
    "print(karray[:,1:5]) # column중에서 1 부터 5"
   ]
  },
  {
   "cell_type": "code",
   "execution_count": 33,
   "id": "4391288a-ee87-4382-8221-dc6f3db605fe",
   "metadata": {},
   "outputs": [
    {
     "name": "stdout",
     "output_type": "stream",
     "text": [
      "[[ 0  1  2  3  4  5  6]\n",
      " [ 7  8  9 10 11 12 13]\n",
      " [14 15 16 17 18 19 20]]\n",
      "[ 0  1  2  3  4  5  6  7  8  9 10 11 12 13 14 15 16 17 18 19 20] (21,)\n",
      "[ 0  1  2  3  4  5  6  7  8  9 10 11 12 13 14 15 16 17 18 19 20]\n",
      "[[ 0  1  2  3  4  5  6  7  8  9 10 11 12 13 14 15 16 17 18 19 20]] (1, 21)\n",
      "[[ 0  1  2  3  4  5  6]\n",
      " [ 7  8  9 10 11 12 13]\n",
      " [14 15 16 17 18 19 20]] (3, 7)\n"
     ]
    }
   ],
   "source": [
    "# reshape does not change original array shape but resize does\n",
    "karray=np.arange(21).reshape(3,7); print(karray)\n",
    "fkarray=karray.flatten() # into a single dimension array\n",
    "print(fkarray, fkarray.shape)\n",
    "fkarray1 = np.array(karray.flat)\n",
    "print(fkarray1)\n",
    "rfkarray = karray.reshape(1, 21)\n",
    "print(rfkarray, rfkarray.shape)\n",
    "rfkarray.resize(3,7)\n",
    "print(rfkarray, rfkarray.shape)"
   ]
  },
  {
   "cell_type": "code",
   "execution_count": 35,
   "id": "1ac2447c-28f4-4707-9c49-069d8a5e382e",
   "metadata": {},
   "outputs": [
    {
     "name": "stdout",
     "output_type": "stream",
     "text": [
      "[[ 0  1  2  3  4  5]\n",
      " [ 7  8  9 10 11 12]\n",
      " [14 15 16 17 18 19]]\n",
      "[[ 0  1  2]\n",
      " [ 7  8  9]\n",
      " [14 15 16]\n",
      " [ 3  4  5]\n",
      " [10 11 12]\n",
      " [17 18 19]]\n"
     ]
    }
   ],
   "source": [
    "# stacking\n",
    "karray1 = karray[:,:3]; karray2 = karray[:,3:6]\n",
    "karrayh = np.hstack([karray1, karray2]); print(karrayh) # 가로로 쌓기\n",
    "karrayv = np.vstack([karray1, karray2]); print(karrayv) # 세로로 쌓기"
   ]
  },
  {
   "cell_type": "code",
   "execution_count": null,
   "id": "a007a39f-3466-4e90-86f4-7bad99b4db87",
   "metadata": {},
   "outputs": [],
   "source": []
  }
 ],
 "metadata": {
  "kernelspec": {
   "display_name": "Python 3 (ipykernel)",
   "language": "python",
   "name": "python3"
  },
  "language_info": {
   "codemirror_mode": {
    "name": "ipython",
    "version": 3
   },
   "file_extension": ".py",
   "mimetype": "text/x-python",
   "name": "python",
   "nbconvert_exporter": "python",
   "pygments_lexer": "ipython3",
   "version": "3.7.11"
  }
 },
 "nbformat": 4,
 "nbformat_minor": 5
}
