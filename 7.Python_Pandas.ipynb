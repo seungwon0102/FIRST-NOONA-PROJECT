{
 "cells": [
  {
   "cell_type": "markdown",
   "id": "a772005a-7504-424e-a742-5c22951d367f",
   "metadata": {},
   "source": [
    "## Python: Pandas"
   ]
  },
  {
   "cell_type": "markdown",
   "id": "8483c682-6f30-4d0d-8f0c-ea41fc432748",
   "metadata": {},
   "source": [
    "- Pandas for __panel data(big data)__ analysis and AI research with mixed data types. Panel data는 시간에 따른 데이터 변화를 나타낸 것이다."
   ]
  },
  {
   "cell_type": "markdown",
   "id": "8bdc72a5-21a0-4bb2-b06e-2709f9e66061",
   "metadata": {},
   "source": [
    "- __Panel data__: the __same subjects__ (cross-sectional units) are observed over time."
   ]
  },
  {
   "cell_type": "markdown",
   "id": "2271ec50-d50d-4b6e-81af-3c810bc1dc70",
   "metadata": {},
   "source": [
    "- __Flexibile indexing__, allowing users to use non-ineger indexs."
   ]
  },
  {
   "cell_type": "markdown",
   "id": "5b6f3271-af05-4af3-9822-e31d20a38966",
   "metadata": {},
   "source": [
    "- One dimensional array: __Series__, two dimensional array: __DataFrames__, Multi-dimentional array: __MultiIndex__. Series는 1차원 array, DataFrame는 2차원 array를 의미한다."
   ]
  },
  {
   "cell_type": "markdown",
   "id": "9a66fcf6-efa8-41ca-9a80-582089847ade",
   "metadata": {},
   "source": [
    "__1.Pandas: Series creation and indexing__"
   ]
  },
  {
   "cell_type": "code",
   "execution_count": 2,
   "id": "f70dd0dc-30da-406a-84fe-3f1bc977951e",
   "metadata": {},
   "outputs": [],
   "source": [
    "import pandas as pd"
   ]
  },
  {
   "cell_type": "code",
   "execution_count": 4,
   "id": "73424ab3-ce0c-4ac9-8355-fcb4c29db552",
   "metadata": {},
   "outputs": [
    {
     "name": "stdout",
     "output_type": "stream",
     "text": [
      "0    80\n",
      "1    82\n",
      "2    84\n",
      "3    86\n",
      "4    88\n",
      "5    90\n",
      "6    92\n",
      "7    94\n",
      "8    96\n",
      "9    98\n",
      "dtype: int64\n"
     ]
    }
   ],
   "source": [
    "grades = pd.Series(range(80, 100, 2))\n",
    "print(grades)"
   ]
  },
  {
   "cell_type": "code",
   "execution_count": 5,
   "id": "92481ae2-7036-45c9-b6b0-48a07f31d389",
   "metadata": {},
   "outputs": [
    {
     "name": "stdout",
     "output_type": "stream",
     "text": [
      "count    10.000\n",
      "mean     89.000\n",
      "std       6.055\n",
      "min      80.000\n",
      "25%      84.500\n",
      "50%      89.000\n",
      "75%      93.500\n",
      "max      98.000\n",
      "dtype: float64\n",
      "10\n"
     ]
    }
   ],
   "source": [
    "print(grades.describe()) # descriptive statistics\n",
    "print(len(grades))"
   ]
  },
  {
   "cell_type": "code",
   "execution_count": 6,
   "id": "fe4d74cd-1c9f-4920-b176-8bac1cfa3c6a",
   "metadata": {},
   "outputs": [
    {
     "name": "stdout",
     "output_type": "stream",
     "text": [
      "Kim     175\n",
      "Kwon    184\n",
      "Lee     170\n",
      "dtype: int64\n",
      "184 170 175\n"
     ]
    }
   ],
   "source": [
    "#creating a series with custom indices 리스트 사용\n",
    "height = pd.Series([175, 184, 170], index=['Kim','Kwon','Lee'])\n",
    "print(height)\n",
    "print(height.Kwon, height['Lee'], height[0])"
   ]
  },
  {
   "cell_type": "code",
   "execution_count": 7,
   "id": "f781d174-9277-4fc3-91d6-09dbd709774a",
   "metadata": {},
   "outputs": [
    {
     "name": "stdout",
     "output_type": "stream",
     "text": [
      "Korea    82\n",
      "Japan    81\n",
      "China    cn\n",
      "dtype: object\n"
     ]
    }
   ],
   "source": [
    "# Using dictionary for custimizing indexes: keys become indexes 딕션어리 사용\n",
    "nations = pd.Series({'Korea':82,'Japan':81,'China':'cn'})\n",
    "print(nations)"
   ]
  },
  {
   "cell_type": "markdown",
   "id": "07dbdf25-649f-4296-a10a-16b6a4b49abe",
   "metadata": {},
   "source": [
    "__2.Pandas: DataFrames creation and indexing__"
   ]
  },
  {
   "cell_type": "code",
   "execution_count": 8,
   "id": "9421b6c1-e84f-4d52-b769-104242586535",
   "metadata": {},
   "outputs": [
    {
     "name": "stdout",
     "output_type": "stream",
     "text": [
      "   Spring  Summer  Fall  Winter\n",
      "0      10      24    24       8\n",
      "1      14      27    21       0\n",
      "2      18      30    18      -5\n"
     ]
    }
   ],
   "source": [
    "season_temps = pd.DataFrame({'Spring': [10, 14, 18], 'Summer': [24,27,30], 'Fall': [24,21,18], 'Winter': [8, 0, -5]})\n",
    "print(season_temps) # column index로 바로 지정"
   ]
  },
  {
   "cell_type": "code",
   "execution_count": 9,
   "id": "b9f6e6a0-f21f-4184-beff-f683cbe13c28",
   "metadata": {},
   "outputs": [
    {
     "name": "stdout",
     "output_type": "stream",
     "text": [
      "   Kim  Park  Sam  Kwon  Lee\n",
      "0   87   100   94   100   83\n",
      "1   96    87   77    90   65\n",
      "2   70    90   90    95   85\n"
     ]
    }
   ],
   "source": [
    "scores = {'Kim':[87, 96, 70], 'Park':[100, 87, 90], 'Sam':[94, 77, 90],\\\n",
    "          'Kwon':[100, 90, 95], 'Lee':[83, 65, 85]}\n",
    "scores_df = pd.DataFrame(scores)\n",
    "print(scores_df)"
   ]
  },
  {
   "cell_type": "code",
   "execution_count": 10,
   "id": "829324f6-f1d4-46ef-a3b1-703714ff751c",
   "metadata": {},
   "outputs": [
    {
     "name": "stdout",
     "output_type": "stream",
     "text": [
      "         Kim  Park  Sam  Kwon  Lee\n",
      "Math      87   100   94   100   83\n",
      "Econ      96    87   77    90   65\n",
      "Physics   70    90   90    95   85\n",
      "         Kim  Park  Sam  Kwon  Lee\n",
      "Math      87   100   94   100   83\n",
      "Econ      96    87   77    90   65\n",
      "Physics   70    90   90    95   85\n"
     ]
    }
   ],
   "source": [
    "# Changing index\n",
    "scores_ni = pd.DataFrame(scores, index = ['Math', 'Econ', 'Physics'])\n",
    "print(scores_ni)\n",
    "scores_df.index = ['Math', 'Econ', 'Physics']\n",
    "print(scores_df)"
   ]
  },
  {
   "cell_type": "markdown",
   "id": "aec220f0-73f8-4685-acc3-9ca46d1ce99d",
   "metadata": {},
   "source": [
    "__3.Pandas: DataFrame slicing__"
   ]
  },
  {
   "cell_type": "markdown",
   "id": "5d581a86-bbbb-4710-9136-260148fc86ab",
   "metadata": {},
   "source": [
    "- loc: selecting rows with row name"
   ]
  },
  {
   "cell_type": "markdown",
   "id": "5b42c52b-9bd9-464c-8df5-4fe36cccb312",
   "metadata": {},
   "source": [
    "- iloc: selecting rows with index number"
   ]
  },
  {
   "cell_type": "markdown",
   "id": "66bb6652-d7a9-4c02-a28c-2a35ed966d9e",
   "metadata": {},
   "source": [
    "- at: getting a specific element of a DataFrame(특정 데이터만 뽑아내는 것)"
   ]
  },
  {
   "cell_type": "markdown",
   "id": "0e31bc44-e05f-4ba7-895e-b5005668d5ed",
   "metadata": {},
   "source": [
    "- iat: getting a specific element of a DataFrame(index를 특정하여 데이터를 뽑아내는 것)"
   ]
  },
  {
   "cell_type": "code",
   "execution_count": 11,
   "id": "37c10421-fd7f-4fb9-83f7-d02d755d9e18",
   "metadata": {},
   "outputs": [
    {
     "name": "stdout",
     "output_type": "stream",
     "text": [
      "Spring    10\n",
      "Summer    24\n",
      "Fall      24\n",
      "Winter     8\n",
      "Name: 0, dtype: int64\n",
      "Spring    10\n",
      "Summer    24\n",
      "Fall      24\n",
      "Winter     8\n",
      "Name: 0, dtype: int64\n"
     ]
    }
   ],
   "source": [
    "print(f'{season_temps.loc[0]}\\n{season_temps.iloc[0]}')"
   ]
  },
  {
   "cell_type": "code",
   "execution_count": 12,
   "id": "6c8a4858-ebfa-44da-b832-5ed98a808464",
   "metadata": {},
   "outputs": [
    {
     "name": "stdout",
     "output_type": "stream",
     "text": [
      "      Kim  Park  Sam  Kwon  Lee\n",
      "Math   87   100   94   100   83\n",
      "Econ   96    87   77    90   65\n",
      "      Kim  Park  Sam\n",
      "Math   87   100   94\n",
      "Econ   96    87   77\n"
     ]
    }
   ],
   "source": [
    "# slicing by setting row index range\n",
    "print(f'{scores_ni.loc[\"Math\":\"Econ\"]}\\n{scores_df.iloc[:2,:3]}')"
   ]
  },
  {
   "cell_type": "code",
   "execution_count": 13,
   "id": "3869b5b3-4616-4996-8662-45c2353c325e",
   "metadata": {},
   "outputs": [
    {
     "name": "stdout",
     "output_type": "stream",
     "text": [
      "         Kim  Park  Sam  Kwon  Lee\n",
      "Math      87   100   94   100   83\n",
      "Physics   70    90   90    95   85\n",
      "         Kim  Park  Sam\n",
      "Math      87   100   94\n",
      "Physics   70    90   90\n"
     ]
    }
   ],
   "source": [
    "# Slicing with speicific row indexes\n",
    "print(f'{scores_df.loc[[\"Math\", \"Physics\"]]}\\n{scores_df.iloc[[0,2],:3]}')"
   ]
  },
  {
   "cell_type": "code",
   "execution_count": 14,
   "id": "bdf4a139-6ac7-4217-b78f-457aff66e268",
   "metadata": {},
   "outputs": [
    {
     "name": "stdout",
     "output_type": "stream",
     "text": [
      "         Kim  Sam\n",
      "Math      87   94\n",
      "Econ      96   77\n",
      "Physics   70   90\n",
      "         Kim  Park  Sam\n",
      "Math      87   100   94\n",
      "Physics   70    90   90\n"
     ]
    }
   ],
   "source": [
    "# Slicing with a row index range and colum names or indexes\n",
    "print(f'{scores_ni.loc[\"Math\":\"Physics\",[\"Kim\",\"Sam\"]]}\\n{scores_df.iloc[[0,2], 0:3]}')"
   ]
  },
  {
   "cell_type": "code",
   "execution_count": 15,
   "id": "b3e26348-a972-45fd-a964-1e76118b9df1",
   "metadata": {},
   "outputs": [
    {
     "name": "stdout",
     "output_type": "stream",
     "text": [
      "         Kim  Sam\n",
      "Math      87   94\n",
      "Physics   70   90\n"
     ]
    }
   ],
   "source": [
    "# Selecting specific rows and columns, which are not consecutive\n",
    "print(f'{scores_ni.loc[[\"Math\", \"Physics\"],[\"Kim\",\"Sam\"]]}')"
   ]
  },
  {
   "cell_type": "code",
   "execution_count": 16,
   "id": "ad9f7dfd-18a9-4585-bf10-80d5eb48514b",
   "metadata": {},
   "outputs": [
    {
     "name": "stdout",
     "output_type": "stream",
     "text": [
      "         Kim  Park  Sam  Kwon  Lee\n",
      "Math      87   100   94   100   83\n",
      "Econ      96    87   77    90   65\n",
      "Physics   70    90   90    95   85\n",
      "90 83\n"
     ]
    }
   ],
   "source": [
    "print(scores_df)\n",
    "print(scores_df.at['Econ','Kwon'], scores_df.iat[0,4])"
   ]
  },
  {
   "cell_type": "markdown",
   "id": "798e7b90-031c-4d86-9c7d-32e550dfb8f4",
   "metadata": {},
   "source": [
    "__4. Pandas: Boolean indexing__"
   ]
  },
  {
   "cell_type": "code",
   "execution_count": 17,
   "id": "70ac3843-8da2-4dcc-ba80-642a4d119e09",
   "metadata": {},
   "outputs": [
    {
     "data": {
      "text/html": [
       "<div>\n",
       "<style scoped>\n",
       "    .dataframe tbody tr th:only-of-type {\n",
       "        vertical-align: middle;\n",
       "    }\n",
       "\n",
       "    .dataframe tbody tr th {\n",
       "        vertical-align: top;\n",
       "    }\n",
       "\n",
       "    .dataframe thead th {\n",
       "        text-align: right;\n",
       "    }\n",
       "</style>\n",
       "<table border=\"1\" class=\"dataframe\">\n",
       "  <thead>\n",
       "    <tr style=\"text-align: right;\">\n",
       "      <th></th>\n",
       "      <th>Kim</th>\n",
       "      <th>Park</th>\n",
       "      <th>Sam</th>\n",
       "      <th>Kwon</th>\n",
       "      <th>Lee</th>\n",
       "    </tr>\n",
       "  </thead>\n",
       "  <tbody>\n",
       "    <tr>\n",
       "      <th>Math</th>\n",
       "      <td>NaN</td>\n",
       "      <td>100.0</td>\n",
       "      <td>94.0</td>\n",
       "      <td>100</td>\n",
       "      <td>NaN</td>\n",
       "    </tr>\n",
       "    <tr>\n",
       "      <th>Econ</th>\n",
       "      <td>96.0</td>\n",
       "      <td>NaN</td>\n",
       "      <td>NaN</td>\n",
       "      <td>90</td>\n",
       "      <td>NaN</td>\n",
       "    </tr>\n",
       "    <tr>\n",
       "      <th>Physics</th>\n",
       "      <td>NaN</td>\n",
       "      <td>90.0</td>\n",
       "      <td>90.0</td>\n",
       "      <td>95</td>\n",
       "      <td>NaN</td>\n",
       "    </tr>\n",
       "  </tbody>\n",
       "</table>\n",
       "</div>"
      ],
      "text/plain": [
       "          Kim   Park   Sam  Kwon  Lee\n",
       "Math      NaN  100.0  94.0   100  NaN\n",
       "Econ     96.0    NaN   NaN    90  NaN\n",
       "Physics   NaN   90.0  90.0    95  NaN"
      ]
     },
     "execution_count": 17,
     "metadata": {},
     "output_type": "execute_result"
    }
   ],
   "source": [
    "scores_df[scores_df >= 90]"
   ]
  },
  {
   "cell_type": "code",
   "execution_count": 18,
   "id": "caa0a29f-35f7-4c96-b86c-7b9a19c34fb9",
   "metadata": {},
   "outputs": [
    {
     "data": {
      "text/html": [
       "<div>\n",
       "<style scoped>\n",
       "    .dataframe tbody tr th:only-of-type {\n",
       "        vertical-align: middle;\n",
       "    }\n",
       "\n",
       "    .dataframe tbody tr th {\n",
       "        vertical-align: top;\n",
       "    }\n",
       "\n",
       "    .dataframe thead th {\n",
       "        text-align: right;\n",
       "    }\n",
       "</style>\n",
       "<table border=\"1\" class=\"dataframe\">\n",
       "  <thead>\n",
       "    <tr style=\"text-align: right;\">\n",
       "      <th></th>\n",
       "      <th>Kim</th>\n",
       "      <th>Park</th>\n",
       "      <th>Sam</th>\n",
       "      <th>Kwon</th>\n",
       "      <th>Lee</th>\n",
       "    </tr>\n",
       "  </thead>\n",
       "  <tbody>\n",
       "    <tr>\n",
       "      <th>Math</th>\n",
       "      <td>87.0</td>\n",
       "      <td>NaN</td>\n",
       "      <td>NaN</td>\n",
       "      <td>NaN</td>\n",
       "      <td>83.0</td>\n",
       "    </tr>\n",
       "    <tr>\n",
       "      <th>Econ</th>\n",
       "      <td>NaN</td>\n",
       "      <td>87.0</td>\n",
       "      <td>77.0</td>\n",
       "      <td>NaN</td>\n",
       "      <td>NaN</td>\n",
       "    </tr>\n",
       "    <tr>\n",
       "      <th>Physics</th>\n",
       "      <td>NaN</td>\n",
       "      <td>NaN</td>\n",
       "      <td>NaN</td>\n",
       "      <td>NaN</td>\n",
       "      <td>85.0</td>\n",
       "    </tr>\n",
       "  </tbody>\n",
       "</table>\n",
       "</div>"
      ],
      "text/plain": [
       "          Kim  Park   Sam  Kwon   Lee\n",
       "Math     87.0   NaN   NaN   NaN  83.0\n",
       "Econ      NaN  87.0  77.0   NaN   NaN\n",
       "Physics   NaN   NaN   NaN   NaN  85.0"
      ]
     },
     "execution_count": 18,
     "metadata": {},
     "output_type": "execute_result"
    }
   ],
   "source": [
    "scores_df[(scores_df < 90) & (scores_df > 70)]"
   ]
  },
  {
   "cell_type": "markdown",
   "id": "75a77af2-59d2-474a-b34f-3a6fee5c2bf6",
   "metadata": {},
   "source": [
    "__5.Pandas: Descriptive statistics__"
   ]
  },
  {
   "cell_type": "code",
   "execution_count": 19,
   "id": "4272ffde-dd2d-4530-9ca1-1848e3ffe73f",
   "metadata": {},
   "outputs": [
    {
     "name": "stdout",
     "output_type": "stream",
     "text": [
      "          Kim     Park     Sam   Kwon     Lee\n",
      "count   3.000    3.000   3.000    3.0   3.000\n",
      "mean   84.333   92.333  87.000   95.0  77.667\n",
      "std    13.204    6.807   8.888    5.0  11.015\n",
      "min    70.000   87.000  77.000   90.0  65.000\n",
      "25%    78.500   88.500  83.500   92.5  74.000\n",
      "50%    87.000   90.000  90.000   95.0  83.000\n",
      "75%    91.500   95.000  92.000   97.5  84.000\n",
      "max    96.000  100.000  94.000  100.0  85.000\n"
     ]
    }
   ],
   "source": [
    "pd.set_option('display.precision', 3)\n",
    "print(scores_df.describe())"
   ]
  },
  {
   "cell_type": "code",
   "execution_count": 18,
   "id": "aeb76697-d235-4794-a1ec-faab82fc2ddc",
   "metadata": {},
   "outputs": [
    {
     "data": {
      "text/plain": [
       "Kim     84.333333\n",
       "Park    92.333333\n",
       "Sam     87.000000\n",
       "Kwon    95.000000\n",
       "Lee     77.666667\n",
       "dtype: float64"
      ]
     },
     "execution_count": 18,
     "metadata": {},
     "output_type": "execute_result"
    }
   ],
   "source": [
    "scores_df.mean()"
   ]
  },
  {
   "cell_type": "markdown",
   "id": "e38b87f7-19ae-46f6-9232-af2edc453448",
   "metadata": {},
   "source": [
    "__6.Pandas: Transposing__"
   ]
  },
  {
   "cell_type": "code",
   "execution_count": 20,
   "id": "2b611999-c8ee-430d-a952-a5722fa5716b",
   "metadata": {},
   "outputs": [
    {
     "data": {
      "text/html": [
       "<div>\n",
       "<style scoped>\n",
       "    .dataframe tbody tr th:only-of-type {\n",
       "        vertical-align: middle;\n",
       "    }\n",
       "\n",
       "    .dataframe tbody tr th {\n",
       "        vertical-align: top;\n",
       "    }\n",
       "\n",
       "    .dataframe thead th {\n",
       "        text-align: right;\n",
       "    }\n",
       "</style>\n",
       "<table border=\"1\" class=\"dataframe\">\n",
       "  <thead>\n",
       "    <tr style=\"text-align: right;\">\n",
       "      <th></th>\n",
       "      <th>Math</th>\n",
       "      <th>Econ</th>\n",
       "      <th>Physics</th>\n",
       "    </tr>\n",
       "  </thead>\n",
       "  <tbody>\n",
       "    <tr>\n",
       "      <th>Kim</th>\n",
       "      <td>87</td>\n",
       "      <td>96</td>\n",
       "      <td>70</td>\n",
       "    </tr>\n",
       "    <tr>\n",
       "      <th>Park</th>\n",
       "      <td>100</td>\n",
       "      <td>87</td>\n",
       "      <td>90</td>\n",
       "    </tr>\n",
       "    <tr>\n",
       "      <th>Sam</th>\n",
       "      <td>94</td>\n",
       "      <td>77</td>\n",
       "      <td>90</td>\n",
       "    </tr>\n",
       "    <tr>\n",
       "      <th>Kwon</th>\n",
       "      <td>100</td>\n",
       "      <td>90</td>\n",
       "      <td>95</td>\n",
       "    </tr>\n",
       "    <tr>\n",
       "      <th>Lee</th>\n",
       "      <td>83</td>\n",
       "      <td>65</td>\n",
       "      <td>85</td>\n",
       "    </tr>\n",
       "  </tbody>\n",
       "</table>\n",
       "</div>"
      ],
      "text/plain": [
       "      Math  Econ  Physics\n",
       "Kim     87    96       70\n",
       "Park   100    87       90\n",
       "Sam     94    77       90\n",
       "Kwon   100    90       95\n",
       "Lee     83    65       85"
      ]
     },
     "execution_count": 20,
     "metadata": {},
     "output_type": "execute_result"
    }
   ],
   "source": [
    "scores_df.T"
   ]
  },
  {
   "cell_type": "code",
   "execution_count": 21,
   "id": "afd72977-26a4-4920-b01b-e10847cc0076",
   "metadata": {},
   "outputs": [
    {
     "data": {
      "text/html": [
       "<div>\n",
       "<style scoped>\n",
       "    .dataframe tbody tr th:only-of-type {\n",
       "        vertical-align: middle;\n",
       "    }\n",
       "\n",
       "    .dataframe tbody tr th {\n",
       "        vertical-align: top;\n",
       "    }\n",
       "\n",
       "    .dataframe thead th {\n",
       "        text-align: right;\n",
       "    }\n",
       "</style>\n",
       "<table border=\"1\" class=\"dataframe\">\n",
       "  <thead>\n",
       "    <tr style=\"text-align: right;\">\n",
       "      <th></th>\n",
       "      <th>Math</th>\n",
       "      <th>Econ</th>\n",
       "      <th>Physics</th>\n",
       "    </tr>\n",
       "  </thead>\n",
       "  <tbody>\n",
       "    <tr>\n",
       "      <th>count</th>\n",
       "      <td>5.000000</td>\n",
       "      <td>5.000000</td>\n",
       "      <td>5.000000</td>\n",
       "    </tr>\n",
       "    <tr>\n",
       "      <th>mean</th>\n",
       "      <td>92.800000</td>\n",
       "      <td>83.000000</td>\n",
       "      <td>86.000000</td>\n",
       "    </tr>\n",
       "    <tr>\n",
       "      <th>std</th>\n",
       "      <td>7.661593</td>\n",
       "      <td>12.186058</td>\n",
       "      <td>9.617692</td>\n",
       "    </tr>\n",
       "    <tr>\n",
       "      <th>min</th>\n",
       "      <td>83.000000</td>\n",
       "      <td>65.000000</td>\n",
       "      <td>70.000000</td>\n",
       "    </tr>\n",
       "    <tr>\n",
       "      <th>25%</th>\n",
       "      <td>87.000000</td>\n",
       "      <td>77.000000</td>\n",
       "      <td>85.000000</td>\n",
       "    </tr>\n",
       "    <tr>\n",
       "      <th>50%</th>\n",
       "      <td>94.000000</td>\n",
       "      <td>87.000000</td>\n",
       "      <td>90.000000</td>\n",
       "    </tr>\n",
       "    <tr>\n",
       "      <th>75%</th>\n",
       "      <td>100.000000</td>\n",
       "      <td>90.000000</td>\n",
       "      <td>90.000000</td>\n",
       "    </tr>\n",
       "    <tr>\n",
       "      <th>max</th>\n",
       "      <td>100.000000</td>\n",
       "      <td>96.000000</td>\n",
       "      <td>95.000000</td>\n",
       "    </tr>\n",
       "  </tbody>\n",
       "</table>\n",
       "</div>"
      ],
      "text/plain": [
       "             Math       Econ    Physics\n",
       "count    5.000000   5.000000   5.000000\n",
       "mean    92.800000  83.000000  86.000000\n",
       "std      7.661593  12.186058   9.617692\n",
       "min     83.000000  65.000000  70.000000\n",
       "25%     87.000000  77.000000  85.000000\n",
       "50%     94.000000  87.000000  90.000000\n",
       "75%    100.000000  90.000000  90.000000\n",
       "max    100.000000  96.000000  95.000000"
      ]
     },
     "execution_count": 21,
     "metadata": {},
     "output_type": "execute_result"
    }
   ],
   "source": [
    "scores_df.T.describe()"
   ]
  },
  {
   "cell_type": "markdown",
   "id": "5bfa17e3-6a20-42fe-96cb-5d945b885b43",
   "metadata": {},
   "source": [
    "__7.Pandas: Sorting by index and values__"
   ]
  },
  {
   "cell_type": "code",
   "execution_count": 25,
   "id": "92ca3bd1-1ced-410d-9be0-8bb2be05742b",
   "metadata": {},
   "outputs": [
    {
     "data": {
      "text/html": [
       "<div>\n",
       "<style scoped>\n",
       "    .dataframe tbody tr th:only-of-type {\n",
       "        vertical-align: middle;\n",
       "    }\n",
       "\n",
       "    .dataframe tbody tr th {\n",
       "        vertical-align: top;\n",
       "    }\n",
       "\n",
       "    .dataframe thead th {\n",
       "        text-align: right;\n",
       "    }\n",
       "</style>\n",
       "<table border=\"1\" class=\"dataframe\">\n",
       "  <thead>\n",
       "    <tr style=\"text-align: right;\">\n",
       "      <th></th>\n",
       "      <th>Spring</th>\n",
       "      <th>Summer</th>\n",
       "      <th>Fall</th>\n",
       "      <th>Winter</th>\n",
       "    </tr>\n",
       "  </thead>\n",
       "  <tbody>\n",
       "    <tr>\n",
       "      <th>2</th>\n",
       "      <td>18</td>\n",
       "      <td>30</td>\n",
       "      <td>18</td>\n",
       "      <td>-5</td>\n",
       "    </tr>\n",
       "    <tr>\n",
       "      <th>1</th>\n",
       "      <td>14</td>\n",
       "      <td>27</td>\n",
       "      <td>21</td>\n",
       "      <td>0</td>\n",
       "    </tr>\n",
       "    <tr>\n",
       "      <th>0</th>\n",
       "      <td>10</td>\n",
       "      <td>24</td>\n",
       "      <td>24</td>\n",
       "      <td>8</td>\n",
       "    </tr>\n",
       "  </tbody>\n",
       "</table>\n",
       "</div>"
      ],
      "text/plain": [
       "   Spring  Summer  Fall  Winter\n",
       "2      18      30    18      -5\n",
       "1      14      27    21       0\n",
       "0      10      24    24       8"
      ]
     },
     "execution_count": 25,
     "metadata": {},
     "output_type": "execute_result"
    }
   ],
   "source": [
    "season_temps.sort_index(ascending=False)"
   ]
  },
  {
   "cell_type": "code",
   "execution_count": 37,
   "id": "26c6986a-ac6f-47a3-b9fc-adeb4ccd2bf2",
   "metadata": {},
   "outputs": [
    {
     "data": {
      "text/html": [
       "<div>\n",
       "<style scoped>\n",
       "    .dataframe tbody tr th:only-of-type {\n",
       "        vertical-align: middle;\n",
       "    }\n",
       "\n",
       "    .dataframe tbody tr th {\n",
       "        vertical-align: top;\n",
       "    }\n",
       "\n",
       "    .dataframe thead th {\n",
       "        text-align: right;\n",
       "    }\n",
       "</style>\n",
       "<table border=\"1\" class=\"dataframe\">\n",
       "  <thead>\n",
       "    <tr style=\"text-align: right;\">\n",
       "      <th></th>\n",
       "      <th>Kim</th>\n",
       "      <th>Park</th>\n",
       "      <th>Sam</th>\n",
       "      <th>Kwon</th>\n",
       "      <th>Lee</th>\n",
       "    </tr>\n",
       "  </thead>\n",
       "  <tbody>\n",
       "    <tr>\n",
       "      <th>Econ</th>\n",
       "      <td>96</td>\n",
       "      <td>87</td>\n",
       "      <td>77</td>\n",
       "      <td>90</td>\n",
       "      <td>65</td>\n",
       "    </tr>\n",
       "    <tr>\n",
       "      <th>Math</th>\n",
       "      <td>87</td>\n",
       "      <td>100</td>\n",
       "      <td>94</td>\n",
       "      <td>100</td>\n",
       "      <td>83</td>\n",
       "    </tr>\n",
       "    <tr>\n",
       "      <th>Physics</th>\n",
       "      <td>70</td>\n",
       "      <td>90</td>\n",
       "      <td>90</td>\n",
       "      <td>95</td>\n",
       "      <td>85</td>\n",
       "    </tr>\n",
       "  </tbody>\n",
       "</table>\n",
       "</div>"
      ],
      "text/plain": [
       "         Kim  Park  Sam  Kwon  Lee\n",
       "Econ      96    87   77    90   65\n",
       "Math      87   100   94   100   83\n",
       "Physics   70    90   90    95   85"
      ]
     },
     "execution_count": 37,
     "metadata": {},
     "output_type": "execute_result"
    }
   ],
   "source": [
    "scores_df.sort_index() # column열 오름차순"
   ]
  },
  {
   "cell_type": "code",
   "execution_count": 38,
   "id": "b1d3f4fd-7b3a-41f8-a1a3-68dd434e7494",
   "metadata": {},
   "outputs": [
    {
     "data": {
      "text/html": [
       "<div>\n",
       "<style scoped>\n",
       "    .dataframe tbody tr th:only-of-type {\n",
       "        vertical-align: middle;\n",
       "    }\n",
       "\n",
       "    .dataframe tbody tr th {\n",
       "        vertical-align: top;\n",
       "    }\n",
       "\n",
       "    .dataframe thead th {\n",
       "        text-align: right;\n",
       "    }\n",
       "</style>\n",
       "<table border=\"1\" class=\"dataframe\">\n",
       "  <thead>\n",
       "    <tr style=\"text-align: right;\">\n",
       "      <th></th>\n",
       "      <th>Kim</th>\n",
       "      <th>Kwon</th>\n",
       "      <th>Lee</th>\n",
       "      <th>Park</th>\n",
       "      <th>Sam</th>\n",
       "    </tr>\n",
       "  </thead>\n",
       "  <tbody>\n",
       "    <tr>\n",
       "      <th>Math</th>\n",
       "      <td>87</td>\n",
       "      <td>100</td>\n",
       "      <td>83</td>\n",
       "      <td>100</td>\n",
       "      <td>94</td>\n",
       "    </tr>\n",
       "    <tr>\n",
       "      <th>Econ</th>\n",
       "      <td>96</td>\n",
       "      <td>90</td>\n",
       "      <td>65</td>\n",
       "      <td>87</td>\n",
       "      <td>77</td>\n",
       "    </tr>\n",
       "    <tr>\n",
       "      <th>Physics</th>\n",
       "      <td>70</td>\n",
       "      <td>95</td>\n",
       "      <td>85</td>\n",
       "      <td>90</td>\n",
       "      <td>90</td>\n",
       "    </tr>\n",
       "  </tbody>\n",
       "</table>\n",
       "</div>"
      ],
      "text/plain": [
       "         Kim  Kwon  Lee  Park  Sam\n",
       "Math      87   100   83   100   94\n",
       "Econ      96    90   65    87   77\n",
       "Physics   70    95   85    90   90"
      ]
     },
     "execution_count": 38,
     "metadata": {},
     "output_type": "execute_result"
    }
   ],
   "source": [
    "scores_df.sort_index(axis=1) # row열 오름차순"
   ]
  },
  {
   "cell_type": "code",
   "execution_count": 39,
   "id": "c4491374-33f9-45fb-8731-6b6e0d60b9dd",
   "metadata": {},
   "outputs": [
    {
     "data": {
      "text/html": [
       "<div>\n",
       "<style scoped>\n",
       "    .dataframe tbody tr th:only-of-type {\n",
       "        vertical-align: middle;\n",
       "    }\n",
       "\n",
       "    .dataframe tbody tr th {\n",
       "        vertical-align: top;\n",
       "    }\n",
       "\n",
       "    .dataframe thead th {\n",
       "        text-align: right;\n",
       "    }\n",
       "</style>\n",
       "<table border=\"1\" class=\"dataframe\">\n",
       "  <thead>\n",
       "    <tr style=\"text-align: right;\">\n",
       "      <th></th>\n",
       "      <th>Lee</th>\n",
       "      <th>Sam</th>\n",
       "      <th>Park</th>\n",
       "      <th>Kwon</th>\n",
       "      <th>Kim</th>\n",
       "    </tr>\n",
       "  </thead>\n",
       "  <tbody>\n",
       "    <tr>\n",
       "      <th>Math</th>\n",
       "      <td>83</td>\n",
       "      <td>94</td>\n",
       "      <td>100</td>\n",
       "      <td>100</td>\n",
       "      <td>87</td>\n",
       "    </tr>\n",
       "    <tr>\n",
       "      <th>Econ</th>\n",
       "      <td>65</td>\n",
       "      <td>77</td>\n",
       "      <td>87</td>\n",
       "      <td>90</td>\n",
       "      <td>96</td>\n",
       "    </tr>\n",
       "    <tr>\n",
       "      <th>Physics</th>\n",
       "      <td>85</td>\n",
       "      <td>90</td>\n",
       "      <td>90</td>\n",
       "      <td>95</td>\n",
       "      <td>70</td>\n",
       "    </tr>\n",
       "  </tbody>\n",
       "</table>\n",
       "</div>"
      ],
      "text/plain": [
       "         Lee  Sam  Park  Kwon  Kim\n",
       "Math      83   94   100   100   87\n",
       "Econ      65   77    87    90   96\n",
       "Physics   85   90    90    95   70"
      ]
     },
     "execution_count": 39,
     "metadata": {},
     "output_type": "execute_result"
    }
   ],
   "source": [
    "scores_df.sort_values(by = 'Econ', axis=1, ascending =True) # 올림차순"
   ]
  },
  {
   "cell_type": "code",
   "execution_count": 40,
   "id": "38681365-da0e-4eba-9581-379d257699d5",
   "metadata": {},
   "outputs": [
    {
     "data": {
      "text/html": [
       "<div>\n",
       "<style scoped>\n",
       "    .dataframe tbody tr th:only-of-type {\n",
       "        vertical-align: middle;\n",
       "    }\n",
       "\n",
       "    .dataframe tbody tr th {\n",
       "        vertical-align: top;\n",
       "    }\n",
       "\n",
       "    .dataframe thead th {\n",
       "        text-align: right;\n",
       "    }\n",
       "</style>\n",
       "<table border=\"1\" class=\"dataframe\">\n",
       "  <thead>\n",
       "    <tr style=\"text-align: right;\">\n",
       "      <th></th>\n",
       "      <th>Math</th>\n",
       "      <th>Econ</th>\n",
       "      <th>Physics</th>\n",
       "    </tr>\n",
       "  </thead>\n",
       "  <tbody>\n",
       "    <tr>\n",
       "      <th>Kim</th>\n",
       "      <td>87</td>\n",
       "      <td>96</td>\n",
       "      <td>70</td>\n",
       "    </tr>\n",
       "    <tr>\n",
       "      <th>Kwon</th>\n",
       "      <td>100</td>\n",
       "      <td>90</td>\n",
       "      <td>95</td>\n",
       "    </tr>\n",
       "    <tr>\n",
       "      <th>Park</th>\n",
       "      <td>100</td>\n",
       "      <td>87</td>\n",
       "      <td>90</td>\n",
       "    </tr>\n",
       "    <tr>\n",
       "      <th>Sam</th>\n",
       "      <td>94</td>\n",
       "      <td>77</td>\n",
       "      <td>90</td>\n",
       "    </tr>\n",
       "    <tr>\n",
       "      <th>Lee</th>\n",
       "      <td>83</td>\n",
       "      <td>65</td>\n",
       "      <td>85</td>\n",
       "    </tr>\n",
       "  </tbody>\n",
       "</table>\n",
       "</div>"
      ],
      "text/plain": [
       "      Math  Econ  Physics\n",
       "Kim     87    96       70\n",
       "Kwon   100    90       95\n",
       "Park   100    87       90\n",
       "Sam     94    77       90\n",
       "Lee     83    65       85"
      ]
     },
     "execution_count": 40,
     "metadata": {},
     "output_type": "execute_result"
    }
   ],
   "source": [
    "scores_df.T.sort_values(by = 'Econ', ascending = False) # 내림차순"
   ]
  },
  {
   "cell_type": "markdown",
   "id": "df8788ba-302c-4281-a6dd-5981546f7d85",
   "metadata": {},
   "source": [
    "__8.Pandas: One hot vector__"
   ]
  },
  {
   "cell_type": "markdown",
   "id": "02cff28d-4513-4b8d-82f6-51e9a7f2ac2c",
   "metadata": {},
   "source": [
    "- One hot vector: among the elements of a vector, only one element has 1 and others have 0 (특정 데이터마 '1'로 전환하고 그 외는 '0'으로 할당하는 기능이다.)"
   ]
  },
  {
   "cell_type": "code",
   "execution_count": 47,
   "id": "79e39a1a-4c46-4655-92bc-309e8ccc735e",
   "metadata": {},
   "outputs": [
    {
     "name": "stdout",
     "output_type": "stream",
     "text": [
      "    Year  Rank   Maker\n",
      "0   1990     0  Hundai\n",
      "1   1991     1   Honda\n",
      "2   1992     2     Kia\n",
      "3   1993     3    Audi\n",
      "4   1994     4    Benz\n",
      "5   1995     5  Hundai\n",
      "6   1996     6    Benz\n",
      "7   1997     7    Audi\n",
      "8   1998     8  Hundai\n",
      "9   1999     9     Kia\n",
      "10  2000    10   Honda\n",
      "11  2001    11     Kia\n",
      "12  2002    12    Audi\n",
      "13  2003    13  Hundai\n",
      "14  2004    14    Benz\n"
     ]
    }
   ],
   "source": [
    "auto_firms = ['Hundai','Honda','Kia','Audi','Benz','Hundai','Benz','Audi','Hundai',\n",
    "              'Kia','Honda','Kia','Audi','Hundai','Benz']\n",
    "Year = list(range(1990,2005,1)); Rank = list(range(15))\n",
    "auto_df = pd.DataFrame({'Year':Year, 'Rank':Rank, 'Maker':auto_firms})\n",
    "print(auto_df)"
   ]
  },
  {
   "cell_type": "code",
   "execution_count": 48,
   "id": "2028f1c4-b951-42d3-a24f-fcd164a40c13",
   "metadata": {},
   "outputs": [
    {
     "name": "stdout",
     "output_type": "stream",
     "text": [
      "    Audi  Benz  Honda  Hundai  Kia\n",
      "0      0     0      0       1    0\n",
      "1      0     0      1       0    0\n",
      "2      0     0      0       0    1\n",
      "3      1     0      0       0    0\n",
      "4      0     1      0       0    0\n",
      "5      0     0      0       1    0\n",
      "6      0     1      0       0    0\n",
      "7      1     0      0       0    0\n",
      "8      0     0      0       1    0\n",
      "9      0     0      0       0    1\n",
      "10     0     0      1       0    0\n",
      "11     0     0      0       0    1\n",
      "12     1     0      0       0    0\n",
      "13     0     0      0       1    0\n",
      "14     0     1      0       0    0\n"
     ]
    }
   ],
   "source": [
    "am_onehot = pd.get_dummies(auto_df['Maker'])\n",
    "print(am_onehot)"
   ]
  },
  {
   "cell_type": "code",
   "execution_count": null,
   "id": "03ba1dc6-4d68-43f0-a430-70cf898e902c",
   "metadata": {},
   "outputs": [],
   "source": []
  }
 ],
 "metadata": {
  "kernelspec": {
   "display_name": "Python 3 (ipykernel)",
   "language": "python",
   "name": "python3"
  },
  "language_info": {
   "codemirror_mode": {
    "name": "ipython",
    "version": 3
   },
   "file_extension": ".py",
   "mimetype": "text/x-python",
   "name": "python",
   "nbconvert_exporter": "python",
   "pygments_lexer": "ipython3",
   "version": "3.7.11"
  }
 },
 "nbformat": 4,
 "nbformat_minor": 5
}
