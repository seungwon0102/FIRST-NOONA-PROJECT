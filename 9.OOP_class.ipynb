{
 "cells": [
  {
   "cell_type": "markdown",
   "id": "aad6e8c9-27e7-49c6-a3f2-97e202ef99fd",
   "metadata": {},
   "source": [
    "## Object Oriented Programming: Class"
   ]
  },
  {
   "cell_type": "markdown",
   "id": "ae2a0316-2909-4151-a2e2-cc58b04b9527",
   "metadata": {},
   "source": [
    "- A class is __an extensible-code-template for creating object__"
   ]
  },
  {
   "cell_type": "markdown",
   "id": "fc29f80f-469d-4908-8686-d298104d1c4e",
   "metadata": {},
   "source": [
    "- An object class has __state and functions (behavior): variables__ are used for describing the state of the object class and __functions(methods)__ are used for defining the object's functions(behaviors). 클래스는 크게 상태와 기능이 존재한다."
   ]
  },
  {
   "cell_type": "markdown",
   "id": "f2b89194-6927-46cd-a2be-291335f7dfd5",
   "metadata": {},
   "source": [
    "- When an object is created by __a constructor of the class__, the resulting object is called an __instance of the class.__"
   ]
  },
  {
   "cell_type": "markdown",
   "id": "8382804b-f02a-4abd-aeb7-754f882f47c5",
   "metadata": {},
   "source": [
    "- We learn __how to make use classes__ representing an object."
   ]
  },
  {
   "cell_type": "markdown",
   "id": "61539460-13df-4487-b72d-1d0605285e03",
   "metadata": {},
   "source": [
    "__1.Creating own classes__"
   ]
  },
  {
   "cell_type": "markdown",
   "id": "e20aa475-0d0e-4890-b9ce-65f599134f08",
   "metadata": {},
   "source": [
    "- Creating a class named FourCalculation taking two arguments accepting values"
   ]
  },
  {
   "cell_type": "code",
   "execution_count": null,
   "id": "e5fcdc39-b4d2-4e82-98af-21c5b91d1254",
   "metadata": {},
   "outputs": [],
   "source": [
    "# four culation.py\n",
    "\"\"\"A class for four arithmetic calculations\"\"\"\n",
    "\n",
    "class FourCalculation: # class는 함수와 달리 첫번째 글자가 모두 대문자로 사작해야 한다.\n",
    "    \"\"\"A class for four arithmetic calculation\"\"\"\n",
    "    \n",
    "    def __init__(self, first, second):\n",
    "        self.first = first\n",
    "        self.second = second\n",
    "    \n",
    "        if second == 0:\n",
    "            raise ValueError('the number must NOT be zero')\n",
    "\n",
    "    def add(self):\n",
    "        return self.first + self.second\n",
    "    \n",
    "    def mul(self):\n",
    "        return self.first * self.second\n",
    "    \n",
    "    def sub(self):\n",
    "        return self.first - self.second\n",
    "    \n",
    "    def div(self):\n",
    "        return self.first / self.second\n",
    "    \n",
    "# %save fourcalculation.py 1-24 # 저장할 때 사용"
   ]
  },
  {
   "cell_type": "code",
   "execution_count": 6,
   "id": "ab564b3e-d24e-44bc-aa65-fff3aec79862",
   "metadata": {},
   "outputs": [
    {
     "name": "stdout",
     "output_type": "stream",
     "text": [
      "8 2\n",
      "10 16 6 4.0\n"
     ]
    }
   ],
   "source": [
    "#from fourcalculation import FourCalculation #외부 파일을 직접 끌어 오기\n",
    "#import fourcalculation as fc # 외부 디렉터리를 불러 온 후 단축지정후 사용\n",
    "b = FourCalculation(8,2)\n",
    "#b = fc.FourCalculation(8,2)\n",
    "print(b.first, b.second)\n",
    "print(b.add(), b.mul(), b.sub(), b.div())"
   ]
  },
  {
   "cell_type": "code",
   "execution_count": 7,
   "id": "a6b96a11-d6be-447e-a5e5-e740573971fd",
   "metadata": {},
   "outputs": [
    {
     "ename": "ValueError",
     "evalue": "the number must NOT be zero",
     "output_type": "error",
     "traceback": [
      "\u001b[1;31m---------------------------------------------------------------------------\u001b[0m",
      "\u001b[1;31mValueError\u001b[0m                                Traceback (most recent call last)",
      "\u001b[1;32m~\\AppData\\Local\\Temp\\ipykernel_16392\\3823971667.py\u001b[0m in \u001b[0;36m<module>\u001b[1;34m\u001b[0m\n\u001b[1;32m----> 1\u001b[1;33m \u001b[0mb\u001b[0m \u001b[1;33m=\u001b[0m \u001b[0mFourCalculation\u001b[0m\u001b[1;33m(\u001b[0m\u001b[1;36m24\u001b[0m\u001b[1;33m,\u001b[0m \u001b[1;36m0\u001b[0m\u001b[1;33m)\u001b[0m\u001b[1;33m\u001b[0m\u001b[1;33m\u001b[0m\u001b[0m\n\u001b[0m",
      "\u001b[1;32m~\\PyKOOC\\fourcalculation.py\u001b[0m in \u001b[0;36m__init__\u001b[1;34m(self, first, second)\u001b[0m\n\u001b[0;32m     11\u001b[0m \u001b[1;33m\u001b[0m\u001b[0m\n\u001b[0;32m     12\u001b[0m         \u001b[1;32mif\u001b[0m \u001b[0msecond\u001b[0m \u001b[1;33m==\u001b[0m \u001b[1;36m0\u001b[0m\u001b[1;33m:\u001b[0m\u001b[1;33m\u001b[0m\u001b[1;33m\u001b[0m\u001b[0m\n\u001b[1;32m---> 13\u001b[1;33m             \u001b[1;32mraise\u001b[0m \u001b[0mValueError\u001b[0m\u001b[1;33m(\u001b[0m\u001b[1;34m'the number must NOT be zero'\u001b[0m\u001b[1;33m)\u001b[0m\u001b[1;33m\u001b[0m\u001b[1;33m\u001b[0m\u001b[0m\n\u001b[0m\u001b[0;32m     14\u001b[0m \u001b[1;33m\u001b[0m\u001b[0m\n\u001b[0;32m     15\u001b[0m     \u001b[1;32mdef\u001b[0m \u001b[0madd\u001b[0m\u001b[1;33m(\u001b[0m\u001b[0mself\u001b[0m\u001b[1;33m)\u001b[0m\u001b[1;33m:\u001b[0m\u001b[1;33m\u001b[0m\u001b[1;33m\u001b[0m\u001b[0m\n",
      "\u001b[1;31mValueError\u001b[0m: the number must NOT be zero"
     ]
    }
   ],
   "source": [
    "b = FourCalculation(24, 0)"
   ]
  },
  {
   "cell_type": "markdown",
   "id": "e1c8c55d-e3d5-401e-b22d-d3ba0217a5b8",
   "metadata": {},
   "source": [
    "__2.Class inheritance and overriding methods__"
   ]
  },
  {
   "cell_type": "markdown",
   "id": "a1930bd2-3c94-4caf-a9e4-fbc95c6e44f0",
   "metadata": {},
   "source": [
    "- __A class (subclass)__ can __inherit attributes (variables) and behavior methods__ from another class, called the __superclass.__"
   ]
  },
  {
   "cell_type": "markdown",
   "id": "a498a712-a2f5-4eff-b8da-be537a6e63b1",
   "metadata": {},
   "source": [
    "- Adding __more concrete (specific) methods__ without modifying the superclass and adding __details.__"
   ]
  },
  {
   "cell_type": "markdown",
   "id": "0858a818-a9e3-44d4-8dec-5dc4df65bba8",
   "metadata": {},
   "source": [
    "- __All superclass methods__ are inherited!"
   ]
  },
  {
   "cell_type": "markdown",
   "id": "61ef523d-bedd-40af-9793-2c981b86043f",
   "metadata": {},
   "source": [
    "- __A subclass can provide a different implementation of a method__ that is already defined by its superclass or by one of its superclasses."
   ]
  },
  {
   "cell_type": "code",
   "execution_count": 8,
   "id": "ae5eba43-50da-40a7-9a53-efc473e63c12",
   "metadata": {},
   "outputs": [],
   "source": [
    "# Class imheritance: adding more details\n",
    "from fourcalculation import FourCalculation\n",
    "\n",
    "class FiveCalculation(FourCalculation):\n",
    "    \"\"\"Adding power calculation\"\"\"\n",
    "    \n",
    "    def __init__(self, first, second, third):\n",
    "        super().__init__(first, second)\n",
    "        self.third = third\n",
    "        \n",
    "    def pow(self):\n",
    "        return self.first ** self.second + self.third\n",
    "    \n",
    "    def div(self):\n",
    "        if self.second == 0:\n",
    "            return 0\n",
    "        else:\n",
    "            return self.first/self.second"
   ]
  },
  {
   "cell_type": "code",
   "execution_count": 11,
   "id": "2dacc89a-6375-4201-b60b-0d929e2cd4e7",
   "metadata": {},
   "outputs": [
    {
     "name": "stdout",
     "output_type": "stream",
     "text": [
      "19 6 2\n"
     ]
    }
   ],
   "source": [
    "c = FiveCalculation(4,2,3)\n",
    "print(c.pow(), c.add(), c.sub())"
   ]
  },
  {
   "cell_type": "code",
   "execution_count": 16,
   "id": "a92a923a-acf8-42dc-88dd-ed6b705f9ccc",
   "metadata": {},
   "outputs": [],
   "source": [
    "class Person:\n",
    "    \n",
    "    def __init__(self, first, last):\n",
    "        self.firstname = first\n",
    "        self.lastname = last\n",
    "        \n",
    "    def Name(self):\n",
    "        return self.firstname + \" \" + self.lastname\n",
    "    \n",
    "class Employee(Person):\n",
    "    \n",
    "    def __init__(self, first, last, staffnum):\n",
    "        Person.__init__(self, first, last)\n",
    "        self.staffnumber = staffnum\n",
    "        \n",
    "    def GetEmployee(self):\n",
    "        return self.Name() + \",\" + self.staffnumber"
   ]
  },
  {
   "cell_type": "code",
   "execution_count": 17,
   "id": "b05501a6-5148-49d5-b680-d6a4747036e3",
   "metadata": {},
   "outputs": [
    {
     "name": "stdout",
     "output_type": "stream",
     "text": [
      "Seungwon Chae\n",
      "Seungwon Chae,1234\n"
     ]
    }
   ],
   "source": [
    "x = Person(\"Seungwon\", \"Chae\")\n",
    "print(x.Name())\n",
    "y = Employee(\"Seungwon\", \"Chae\",\"1234\")\n",
    "print(y.GetEmployee())"
   ]
  },
  {
   "cell_type": "code",
   "execution_count": null,
   "id": "6bfd7ec1-7828-4630-97f9-892976d9b3ab",
   "metadata": {},
   "outputs": [],
   "source": []
  }
 ],
 "metadata": {
  "kernelspec": {
   "display_name": "Python 3 (ipykernel)",
   "language": "python",
   "name": "python3"
  },
  "language_info": {
   "codemirror_mode": {
    "name": "ipython",
    "version": 3
   },
   "file_extension": ".py",
   "mimetype": "text/x-python",
   "name": "python",
   "nbconvert_exporter": "python",
   "pygments_lexer": "ipython3",
   "version": "3.9.7"
  }
 },
 "nbformat": 4,
 "nbformat_minor": 5
}
