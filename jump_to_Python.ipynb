{
 "cells": [
  {
   "cell_type": "markdown",
   "id": "30d257cb-0706-41b5-bf61-f54d96e11ea4",
   "metadata": {},
   "source": [
    "## Jump to Python"
   ]
  },
  {
   "cell_type": "markdown",
   "id": "b57fcfa8-ca3a-43e2-bb3d-952052de6af6",
   "metadata": {},
   "source": [
    "__1.구구단 프로그램__"
   ]
  },
  {
   "cell_type": "code",
   "execution_count": 2,
   "id": "de45cefc-b5be-4a6f-a552-ef34808ec787",
   "metadata": {},
   "outputs": [],
   "source": [
    "def GuGu(n):\n",
    "    print(n)"
   ]
  },
  {
   "cell_type": "code",
   "execution_count": 3,
   "id": "e8f76b9b-e146-4b2e-97c7-e8117d87ed51",
   "metadata": {},
   "outputs": [],
   "source": [
    "def GuGu(n):\n",
    "    result = []"
   ]
  },
  {
   "cell_type": "code",
   "execution_count": 5,
   "id": "d9b3166a-cbb4-4773-bda1-e1dacff3e6b4",
   "metadata": {},
   "outputs": [
    {
     "name": "stdout",
     "output_type": "stream",
     "text": [
      "[2, 4, 6, 8, 10, 12, 14, 16, 18]\n"
     ]
    }
   ],
   "source": [
    "def GuGu(n):\n",
    "    result = [] #list로 표현\n",
    "    result.append(n*1)\n",
    "    result.append(n*2)\n",
    "    result.append(n*3)\n",
    "    result.append(n*4)\n",
    "    result.append(n*5)\n",
    "    result.append(n*6)\n",
    "    result.append(n*7)\n",
    "    result.append(n*8)\n",
    "    result.append(n*9)\n",
    "    \n",
    "    return result\n",
    "\n",
    "print(GuGu(2))"
   ]
  },
  {
   "cell_type": "code",
   "execution_count": 6,
   "id": "ee6299fc-3251-4927-9bae-753936a954ed",
   "metadata": {},
   "outputs": [
    {
     "name": "stdout",
     "output_type": "stream",
     "text": [
      "1\n",
      "2\n",
      "3\n",
      "4\n",
      "5\n",
      "6\n",
      "7\n",
      "8\n",
      "9\n"
     ]
    }
   ],
   "source": [
    "i = 1\n",
    "while i <10:\n",
    "    print(i)\n",
    "    i = i + 1"
   ]
  },
  {
   "cell_type": "code",
   "execution_count": 7,
   "id": "71a26ec3-8119-48ee-80a9-3b87d2db86eb",
   "metadata": {},
   "outputs": [],
   "source": [
    "def GuGu(n):\n",
    "    result = []\n",
    "    i = 1\n",
    "    while i < 10:\n",
    "        result.append(n*i)\n",
    "        i = i + 1\n",
    "        \n",
    "    return result"
   ]
  },
  {
   "cell_type": "code",
   "execution_count": 8,
   "id": "0a293b41-066d-4653-ad9b-cdd6303a0768",
   "metadata": {},
   "outputs": [
    {
     "name": "stdout",
     "output_type": "stream",
     "text": [
      "[2, 4, 6, 8, 10, 12, 14, 16, 18]\n"
     ]
    }
   ],
   "source": [
    "print(GuGu(2))"
   ]
  },
  {
   "cell_type": "markdown",
   "id": "251a72b1-aa45-4562-a0f5-22228a852c80",
   "metadata": {},
   "source": [
    "__2. 3과 5의 배수 합하기__"
   ]
  },
  {
   "cell_type": "code",
   "execution_count": 13,
   "id": "caf3ea29-e97b-47d1-af35-14f30c9b208f",
   "metadata": {},
   "outputs": [
    {
     "name": "stdout",
     "output_type": "stream",
     "text": [
      "233168\n"
     ]
    }
   ],
   "source": [
    "result = 0\n",
    "for i in range(1, 1000):\n",
    "    if i % 3 == 0 or i % 5 == 0:\n",
    "        result += i\n",
    "\n",
    "print(result)"
   ]
  },
  {
   "cell_type": "code",
   "execution_count": 14,
   "id": "a0e91801-9f2e-4f18-bde9-5bf6cb2173f4",
   "metadata": {},
   "outputs": [
    {
     "name": "stdout",
     "output_type": "stream",
     "text": [
      "1\n",
      "2\n",
      "3\n",
      "3\n"
     ]
    }
   ],
   "source": [
    "def getTotalPage(m, n):\n",
    "    if m % n == 0:\n",
    "        return m // n\n",
    "    else:\n",
    "        return m // n + 1\n",
    "print(getTotalPage(5, 10))\n",
    "print(getTotalPage(15, 10))\n",
    "print(getTotalPage(25, 10))\n",
    "print(getTotalPage(30, 10))"
   ]
  },
  {
   "cell_type": "code",
   "execution_count": 15,
   "id": "959abc58-8140-405a-a796-a2d8b7e8cbd5",
   "metadata": {},
   "outputs": [
    {
     "name": "stdout",
     "output_type": "stream",
     "text": [
      "-f\n",
      "C:\\Users\\cso13\\AppData\\Roaming\\jupyter\\runtime\\kernel-152ef109-fb55-400d-abda-7ebed352b0fb.json\n"
     ]
    }
   ],
   "source": [
    "import sys\n",
    "\n",
    "option = sys.argv[1]\n",
    "memo = sys.argv[2]\n",
    "\n",
    "print(option)\n",
    "print(memo)"
   ]
  },
  {
   "cell_type": "code",
   "execution_count": 16,
   "id": "5db4a69e-5a3e-43df-a02e-c4b46800bfc4",
   "metadata": {},
   "outputs": [
    {
     "ename": "SyntaxError",
     "evalue": "unexpected character after line continuation character (1331442967.py, line 1)",
     "output_type": "error",
     "traceback": [
      "\u001b[1;36m  File \u001b[1;32m\"C:\\Users\\cso13\\AppData\\Local\\Temp\\ipykernel_11812\\1331442967.py\"\u001b[1;36m, line \u001b[1;32m1\u001b[0m\n\u001b[1;33m    c:\\PyKOOC>python memo.py -a \"life is too short\"\u001b[0m\n\u001b[1;37m                                                   ^\u001b[0m\n\u001b[1;31mSyntaxError\u001b[0m\u001b[1;31m:\u001b[0m unexpected character after line continuation character\n"
     ]
    }
   ],
   "source": [
    "c:\\PyKOOC>python memo.py -a \"life is too short\""
   ]
  },
  {
   "cell_type": "code",
   "execution_count": null,
   "id": "520cbee7-aff4-4ae6-ba13-45e09b338bc6",
   "metadata": {},
   "outputs": [],
   "source": []
  }
 ],
 "metadata": {
  "kernelspec": {
   "display_name": "Python 3 (ipykernel)",
   "language": "python",
   "name": "python3"
  },
  "language_info": {
   "codemirror_mode": {
    "name": "ipython",
    "version": 3
   },
   "file_extension": ".py",
   "mimetype": "text/x-python",
   "name": "python",
   "nbconvert_exporter": "python",
   "pygments_lexer": "ipython3",
   "version": "3.7.11"
  }
 },
 "nbformat": 4,
 "nbformat_minor": 5
}
